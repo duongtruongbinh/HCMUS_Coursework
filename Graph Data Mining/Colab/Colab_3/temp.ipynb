{
 "cells": [
  {
   "cell_type": "markdown",
   "metadata": {},
   "source": [
    "## Task 4. Mô-đun hóa (Modularity)"
   ]
  },
  {
   "cell_type": "markdown",
   "metadata": {},
   "source": [
    "Mô-đun hóa (Modularity) giúp ta quyết định khi nào dừng phân hoạch đồ thị. Mô-đun hóa càng lớn, phân hoạch càng tốt (đọc sách Network science). Bây giờ, ta sẽ xem mô-đun hóa thay đổi như thế trong quá trình phân chia đồ thị."
   ]
  },
  {
   "cell_type": "markdown",
   "metadata": {},
   "source": [
    "Trong phần này, bạn chỉ cần hoàn thành hàm `edgeBetweennessModularity` mà nhận đầu vào là một đồ thị, số lượng bước lặp của thuật toán Girvan Newman, và trả về một mảng np.array với modularity thu được sau khi hoàn thành mỗi vòng lặp. Bạn có thể sử dụng `nx.algorithms.community.modularity`.\n"
   ]
  },
  {
   "cell_type": "code",
   "execution_count": null,
   "metadata": {},
   "outputs": [],
   "source": [
    "def edgeBetweennessModularity(G: nx.Graph, n: int) -> np.ndarray:\n",
    "    # YOUR CODE HERE\n",
    "    communities_generator = nx.algorithms.community.girvan_newman(G)\n",
    "    modularities = np.zeros(n)\n",
    "    \n",
    "    for i, communities in enumerate(communities_generator):\n",
    "        if i >= n:\n",
    "            break\n",
    "        \n",
    "        modularities[i] = nx.algorithms.community.quality.modularity(G, communities)\n",
    "        \n",
    "    return modularities"
   ]
  },
  {
   "cell_type": "code",
   "execution_count": null,
   "metadata": {},
   "outputs": [],
   "source": [
    "# Test\n",
    "n_iterations = 20\n",
    "modularity = edgeBetweennessModularity(G, n_iterations)\n",
    "assert modularity.shape == (n_iterations,), \"Modularity array should have shape (20,)\"\n",
    "assert round(modularity[0], 4) == 0.0746, \"Modularity at index 0 should be 0.0746\"\n",
    "assert round(modularity[7], 4) == 0.4519, \"Modularity at index 7 should be 0.4519\""
   ]
  },
  {
   "cell_type": "markdown",
   "metadata": {},
   "source": [
    "Trực quan hóa"
   ]
  },
  {
   "cell_type": "code",
   "execution_count": null,
   "metadata": {},
   "outputs": [],
   "source": [
    "plt.figure(figsize=(10, 8))\n",
    "\n",
    "plt.plot(np.arange(n_iterations) + 2, modularity, marker='o')\n",
    "\n",
    "best_n = np.argmax(modularity) + 2\n",
    "max_modularity = max(modularity)\n",
    "label = f'Number of communities with max modularity: {max_modularity:.2f}'\n",
    "\n",
    "plt.plot(\n",
    "    [best_n, best_n], [min(modularity), max_modularity],\n",
    "    linestyle='--', color='tab:red',\n",
    "    label=label\n",
    ")\n",
    "\n",
    "plt.ylabel('Modularity Score')\n",
    "plt.xlabel('Number of Communities')\n",
    "plt.title('Modularity Score vs. Number of Communities')\n",
    "plt.legend(loc='upper left')\n",
    "\n",
    "plt.ylim(modularity.min(), 0.6)\n",
    "\n",
    "plt.show()"
   ]
  },
  {
   "cell_type": "markdown",
   "metadata": {},
   "source": [
    "Bạn có nhận xét gì?"
   ]
  },
  {
   "cell_type": "markdown",
   "metadata": {},
   "source": [
    "YOUR ANSWER HERE"
   ]
  }
 ],
 "metadata": {
  "language_info": {
   "name": "python"
  }
 },
 "nbformat": 4,
 "nbformat_minor": 2
}
