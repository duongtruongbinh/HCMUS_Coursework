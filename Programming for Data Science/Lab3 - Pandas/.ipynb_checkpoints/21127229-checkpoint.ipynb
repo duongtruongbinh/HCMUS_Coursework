{
 "cells": [
  {
   "cell_type": "markdown",
   "metadata": {},
   "source": [
    "# Lab 3: Pandas\n",
    "\n",
    "(Last update: 26/11/2023)\n",
    "\n",
    "Full name: Dương Trường Bình \n",
    "Student ID: 21127229\n",
    "\n",
    "---\n",
    "\n",
    "**Tóm tắt**: In this assignment, you are going to learn how to use `Pandas`. Loops, and methods such as `apply/applymap` are not allowed to use unless specifically instructed to do so.\n",
    "\n",
    "## 0. General instructions\n",
    "\n",
    "### 0.0. Work on assignment\n",
    "\n",
    "- You will do your assignment directly on this notebook file. First, you fill your name and student code at the beginning of the file. In this file, you will write your code when you see the following lines of code:\n",
    "    ```python\n",
    "    # TODO\n",
    "    raise NotImplementedError()\n",
    "    ```\n",
    "\n",
    "    For optional coding parts, there will be:\n",
    "\n",
    "    ```python\n",
    "    # TODO (OPTIONAL)\n",
    "    ```\n",
    "\n",
    "    For markdown cell, there will be:\n",
    "\n",
    "    ```markdown\n",
    "    **TODO**: ...\n",
    "    ```\n",
    "\n",
    "- Of course, you have to remove the `raise NotImplementedError()` statement when you finish.\n",
    "\n",
    "- For coding parts, there are often cells below to help you check your answers. You will pass the test if there are no errors when you run the test cells. In some cases, the tests are insufficient. That means if you do not pass the test, your answer is definitely wrong somewhere, but if you pass the test, your answer may still be incorrect.\n",
    "\n",
    "- While doing the assignment, you should print out the output and create more cells for testing. But you have to remove all of them (comment your print-out codes, delete the cell created by you) when you submit your code. <font color=red>Do not remove or edit my cells</font> (except for the aforementioned cells).\n",
    "\n",
    "- Keep your code clean and clear by using meaningful variable names and comments, not write too-long coding lines. Press `Ctrl + S` right after editing.\n",
    "\n",
    "- **Keep it real**: The reason why you are here is to <font color=green>study, really study</font>. I highly recommend that you discuss your idea with your friends and <font color=green>write your own code based on your own knowledge</font>. <font color=red>Copy means zero.</font>\n",
    "\n",
    "### 0.1. Submit your assignment\n",
    "\n",
    "- When grading your assignment, I will choose `Kernel` - `Restart & Run All` in order to restart the kernel and run all cells in your notebook. Therefore, you should do that before submitting to ensure that the outputs are all as expected.\n",
    "\n",
    "- After that, rename the notebook as `<Student ID>.ipynb`. For example, if your student code is 1234567, then your notebook is `1234567.ipynb`.\n",
    "\n",
    "- Finally, submit your notebook file on Moodle. <font color=red>Please strictly follow the submission rules.</font>\n",
    "\n",
    "---"
   ]
  },
  {
   "cell_type": "markdown",
   "metadata": {},
   "source": [
    "## 1. Import libraries"
   ]
  },
  {
   "cell_type": "code",
   "execution_count": 1,
   "metadata": {},
   "outputs": [],
   "source": [
    "# import libraries\n",
    "import numpy as np\n",
    "import pandas as pd\n",
    "import matplotlib.pyplot as plt\n",
    "import warnings\n",
    "warnings.simplefilter('ignore')\n",
    "\n",
    "# TODO (OPTION): import your libraries"
   ]
  },
  {
   "cell_type": "markdown",
   "metadata": {},
   "source": [
    "## 2. Data collection\n",
    "\n",
    "- I have done that for you. In this assignment, you are going to analyze a dataset collected from **A survey on facial cleanser consumption behavior of 18-25 year olds in HCM City**. You are provided the following files:\n",
    "    - `./survey.csv`: Survey results of more than 300 people taking part in the survey on GoogleForm. You will mainly work on this file.\n",
    "    - `./survey.xlsx`: The content is similar to `./survey.csv` but you can open it in Excel to have a better view.\n",
    "    - `./form.pdf`: Questionnaire survey.\n",
    "\n",
    "- Read `./form.pdf` and summarize the survey by indicating **sections** in the form as well as **possible scenarios** when conducting the survey.\n",
    "\n",
    "    **TODO**:\n",
    "\n",
    "**Sections** and **possible scenarios** when conducting the survey:\n",
    "\n",
    "```markdown\n",
    "|-- Section 1: Introduction and Demographic Information: email, age, location\n",
    "|   |-- If age is not between 18-25 or location is not HCMC: End Survey\n",
    "|   |-- If within criteria: Continue to Section 2\n",
    "|\n",
    "|-- Section 2: Usage Behavior\n",
    "|   |-- Have you ever used facial cleanser?\n",
    "|       |-- If No: End Survey\n",
    "|       |-- If Yes: Ask Gender and Continue to Section 3\n",
    "|\n",
    "|-- Section 3: Facial Cleanser Usage Behavior\n",
    "|   |-- Purpose of using facial cleansers\n",
    "|   |-- Skin type\n",
    "|   |-- Frequency, time of use\n",
    "|   |-- Places of purchase, information sources\n",
    "|   |-- Extraction, form of facial cleanser\n",
    "|   |-- Scent of facial cleanser\n",
    "|       |-- Like scented facial cleanser?\n",
    "|           |-- If No: Continue to Section 4,5,6\n",
    "|           |-- If Yes: Ask about fruit, vegetable, and flower-flavored cleansers and Continue to Section 4,5,6\n",
    "|\n",
    "|-- Section 4: Purchase Behavior\n",
    "|   |-- Product volume\n",
    "|   |-- Number of products purchased at one time\n",
    "|   |-- Willingness to pay for 150ml facial cleanser\n",
    "|   |-- Most important factor in purchase decision\n",
    "|   |-- Primary source of information when buying facial cleanser\n",
    "|   |-- Country of origin\n",
    "|   |-- Online, offline channels\n",
    "|   |-- Primary concern of in-store, online shopping\n",
    "|   |-- Concern using facial cleanser\n",
    "|   |-- Continue to Section 5\n",
    "|\n",
    "|-- Section 5: Evaluation of Purchase Factors\n",
    "|   |-- Importance rating for factors like quality, brand, price, appearance, origin, ingredients, and scent\n",
    "|   |-- Continue to Section 6\n",
    "|\n",
    "|-- Section 6: Future Interest\n",
    "|   |-- Willingness to try a new facial cleanser\n",
    "|   |-- Desired features in a new product\n",
    "|   |-- End Survey\n",
    "```\n",
    "    \n",
    "    \n",
    "\n",
    "- Data source: Võ Thị Minh Trà, University of Economics Ho Chi Minh City."
   ]
  },
  {
   "cell_type": "markdown",
   "metadata": {},
   "source": [
    "## 3. Data pre-processing and exploration\n",
    "\n",
    "- In this section, you are going to explore features of data. First, you have to read the data from `./survey.csv` and store it into a dataframe called `survey_df`."
   ]
  },
  {
   "cell_type": "code",
   "execution_count": 2,
   "metadata": {},
   "outputs": [
    {
     "data": {
      "text/html": [
       "<div>\n",
       "<style scoped>\n",
       "    .dataframe tbody tr th:only-of-type {\n",
       "        vertical-align: middle;\n",
       "    }\n",
       "\n",
       "    .dataframe tbody tr th {\n",
       "        vertical-align: top;\n",
       "    }\n",
       "\n",
       "    .dataframe thead th {\n",
       "        text-align: right;\n",
       "    }\n",
       "</style>\n",
       "<table border=\"1\" class=\"dataframe\">\n",
       "  <thead>\n",
       "    <tr style=\"text-align: right;\">\n",
       "      <th></th>\n",
       "      <th>Dấu thời gian</th>\n",
       "      <th>Bạn bao nhiêu tuổi?</th>\n",
       "      <th>Hiện tại bạn đang cư trú ở đâu?</th>\n",
       "      <th>Bạn đã sử dụng sữa rửa mặt bao giờ chưa?</th>\n",
       "      <th>Nguyên nhân bạn chưa sử dụng sữa rửa mặt là gì?</th>\n",
       "      <th>Giới tính của bạn là?</th>\n",
       "      <th>1. Bạn sử dụng sữa rửa mặt với mục đích gì?</th>\n",
       "      <th>2. Da của bạn thuộc loại da gì?</th>\n",
       "      <th>3. Bạn thường sử dụng sữa rửa mặt bao nhiêu lần một ngày?</th>\n",
       "      <th>4. Bạn sử dụng sữa rửa mặt khi nào?</th>\n",
       "      <th>...</th>\n",
       "      <th>20. Bạn lo ngại điều gì khi sử dụng sữa rửa mặt?</th>\n",
       "      <th>21. Đánh giá MỨC ĐỘ ẢNH HƯỞNG của các yếu tố sau đến quyết định mua hàng của bạn\\nb, 2: Không ảnh hưởng, 3: Hơi không ảnh hưởng, 4: Bình thường, 5: Hơi ảnh hưởng, 6: Ảnh hưởng, 7: Rất ảnh hưởng [Chất lượng]</th>\n",
       "      <th>21. Đánh giá MỨC ĐỘ ẢNH HƯỞNG của các yếu tố sau đến quyết định mua hàng của bạn\\nThang đo: 1: Rất không ảnh hưởng, 2: Không ảnh hưởng, 3: Hơi không ảnh hưởng, 4: Bình thường, 5: Hơi ảnh hưởng, 6: Ảnh hưởng, 7: Rất ảnh hưởng [Thương hiệu]</th>\n",
       "      <th>21. Đánh giá MỨC ĐỘ ẢNH HƯỞNG của các yếu tố sau đến quyết định mua hàng của bạn\\nThang đo: 1: Rất không ảnh hưởng, 2: Không ảnh hưởng, 3: Hơi không ảnh hưởng, 4: Bình thường, 5: Hơi ảnh hưởng, 6: Ảnh hưởng, 7: Rất ảnh hưởng [Giá cả]</th>\n",
       "      <th>21. Đánh giá MỨC ĐỘ ẢNH HƯỞNG của các yếu tố sau đến quyết định mua hàng của bạn\\nThang đo: 1: Rất không ảnh hưởng, 2: Không ảnh hưởng, 3: Hơi không ảnh hưởng, 4: Bình thường, 5: Hơi ảnh hưởng, 6: Ảnh hưởng, 7: Rất ảnh hưởng [Mẫu mã]</th>\n",
       "      <th>21. Đánh giá MỨC ĐỘ ẢNH HƯỞNG của các yếu tố sau đến quyết định mua hàng của bạn\\nThang đo: 1: Rất không ảnh hưởng, 2: Không ảnh hưởng, 3: Hơi không ảnh hưởng, 4: Bình thường, 5: Hơi ảnh hưởng, 6: Ảnh hưởng, 7: Rất ảnh hưởng [Xuất xứ]</th>\n",
       "      <th>21. Đánh giá MỨC ĐỘ ẢNH HƯỞNG của các yếu tố sau đến quyết định mua hàng của bạn\\nThang đo: 1: Rất không ảnh hưởng, 2: Không ảnh hưởng, 3: Hơi không ảnh hưởng, 4: Bình thường, 5: Hơi ảnh hưởng, 6: Ảnh hưởng, 7: Rất ảnh hưởng [Thành phần]</th>\n",
       "      <th>21. Đánh giá MỨC ĐỘ ẢNH HƯỞNG của các yếu tố sau đến quyết định mua hàng của bạn\\nThang đo: 1: Rất không ảnh hưởng, 2: Không ảnh hưởng, 3: Hơi không ảnh hưởng, 4: Bình thường, 5: Hơi ảnh hưởng, 6: Ảnh hưởng, 7: Rất ảnh hưởng [Mùi hương]</th>\n",
       "      <th>22. Nếu chúng tôi ra mắt một sản phẩm sữa rửa mặt mới, bạn có sẵn sàng dùng thử hay không?</th>\n",
       "      <th>23. Bạn mong muốn điều gì nhất ở một sản phẩm sữa rửa mặt mới?</th>\n",
       "    </tr>\n",
       "  </thead>\n",
       "  <tbody>\n",
       "    <tr>\n",
       "      <th>0</th>\n",
       "      <td>04/02/2023 20:10:08</td>\n",
       "      <td>Từ 18 - 25 tuổi</td>\n",
       "      <td>TP.HCM</td>\n",
       "      <td>Đã từng</td>\n",
       "      <td>NaN</td>\n",
       "      <td>Nam</td>\n",
       "      <td>Loại bỏ bụi bẩn, dầu thừa, tế bào chết,..., Gi...</td>\n",
       "      <td>Da hỗn hợp</td>\n",
       "      <td>Ít hơn 1 lần/ngày</td>\n",
       "      <td>Trước khi đi ngủ</td>\n",
       "      <td>...</td>\n",
       "      <td>Hàng giả, hàng nhái, Sản phẩm không có nguồn g...</td>\n",
       "      <td>7.0</td>\n",
       "      <td>5.0</td>\n",
       "      <td>7.0</td>\n",
       "      <td>5.0</td>\n",
       "      <td>5.0</td>\n",
       "      <td>3.0</td>\n",
       "      <td>6.0</td>\n",
       "      <td>Có</td>\n",
       "      <td>Sản phẩm được tích hợp nhiều công dụng</td>\n",
       "    </tr>\n",
       "    <tr>\n",
       "      <th>1</th>\n",
       "      <td>04/02/2023 20:11:52</td>\n",
       "      <td>Từ 18 - 25 tuổi</td>\n",
       "      <td>TP.HCM</td>\n",
       "      <td>Đã từng</td>\n",
       "      <td>NaN</td>\n",
       "      <td>Nữ</td>\n",
       "      <td>Hỗ trợ làm trắng da, Loại bỏ bụi bẩn, dầu thừa...</td>\n",
       "      <td>Da dầu</td>\n",
       "      <td>1 lần/ngày</td>\n",
       "      <td>Trước khi đi ngủ</td>\n",
       "      <td>...</td>\n",
       "      <td>Hàng giả, hàng nhái, Tác dụng phụ, gây kích ứn...</td>\n",
       "      <td>7.0</td>\n",
       "      <td>6.0</td>\n",
       "      <td>2.0</td>\n",
       "      <td>2.0</td>\n",
       "      <td>2.0</td>\n",
       "      <td>7.0</td>\n",
       "      <td>4.0</td>\n",
       "      <td>Có</td>\n",
       "      <td>Sản phẩm chuyên sâu với hiệu quả cao</td>\n",
       "    </tr>\n",
       "    <tr>\n",
       "      <th>2</th>\n",
       "      <td>04/02/2023 20:12:49</td>\n",
       "      <td>Từ 18 - 25 tuổi</td>\n",
       "      <td>TP.HCM</td>\n",
       "      <td>Đã từng</td>\n",
       "      <td>NaN</td>\n",
       "      <td>Nữ</td>\n",
       "      <td>Loại bỏ bụi bẩn, dầu thừa, tế bào chết,..., Gi...</td>\n",
       "      <td>Da dầu</td>\n",
       "      <td>2 lần/ngày</td>\n",
       "      <td>Sau khi thức dậy, Trước khi đi ngủ</td>\n",
       "      <td>...</td>\n",
       "      <td>Sản phẩm không có nguồn gốc rõ ràng, Tác dụng ...</td>\n",
       "      <td>4.0</td>\n",
       "      <td>4.0</td>\n",
       "      <td>4.0</td>\n",
       "      <td>4.0</td>\n",
       "      <td>4.0</td>\n",
       "      <td>4.0</td>\n",
       "      <td>4.0</td>\n",
       "      <td>Chưa biết</td>\n",
       "      <td>Sản phẩm chuyên sâu với hiệu quả cao</td>\n",
       "    </tr>\n",
       "    <tr>\n",
       "      <th>3</th>\n",
       "      <td>04/02/2023 20:20:42</td>\n",
       "      <td>Từ 18 - 25 tuổi</td>\n",
       "      <td>TP.HCM</td>\n",
       "      <td>Đã từng</td>\n",
       "      <td>NaN</td>\n",
       "      <td>Nam</td>\n",
       "      <td>Loại bỏ bụi bẩn, dầu thừa, tế bào chết,...</td>\n",
       "      <td>Da dầu</td>\n",
       "      <td>2 lần/ngày</td>\n",
       "      <td>Sau khi thức dậy, Trước khi đi ngủ</td>\n",
       "      <td>...</td>\n",
       "      <td>Hàng giả, hàng nhái, Sản phẩm không có nguồn g...</td>\n",
       "      <td>1.0</td>\n",
       "      <td>1.0</td>\n",
       "      <td>1.0</td>\n",
       "      <td>1.0</td>\n",
       "      <td>1.0</td>\n",
       "      <td>1.0</td>\n",
       "      <td>1.0</td>\n",
       "      <td>Có</td>\n",
       "      <td>Sản phẩm lành tính với nhiều loại da</td>\n",
       "    </tr>\n",
       "    <tr>\n",
       "      <th>4</th>\n",
       "      <td>04/02/2023 20:23:34</td>\n",
       "      <td>Từ 18 - 25 tuổi</td>\n",
       "      <td>TP.HCM</td>\n",
       "      <td>Đã từng</td>\n",
       "      <td>NaN</td>\n",
       "      <td>Nữ</td>\n",
       "      <td>Cấp ẩm, cân bằng độ pH, Loại bỏ bụi bẩn, dầu t...</td>\n",
       "      <td>Da dầu</td>\n",
       "      <td>2 lần/ngày</td>\n",
       "      <td>Sau khi thức dậy, Trước khi đi ngủ</td>\n",
       "      <td>...</td>\n",
       "      <td>Hàng giả, hàng nhái, Sản phẩm không có nguồn g...</td>\n",
       "      <td>6.0</td>\n",
       "      <td>5.0</td>\n",
       "      <td>6.0</td>\n",
       "      <td>5.0</td>\n",
       "      <td>6.0</td>\n",
       "      <td>7.0</td>\n",
       "      <td>5.0</td>\n",
       "      <td>Chưa biết</td>\n",
       "      <td>Sản phẩm lành tính với nhiều loại da</td>\n",
       "    </tr>\n",
       "  </tbody>\n",
       "</table>\n",
       "<p>5 rows × 38 columns</p>\n",
       "</div>"
      ],
      "text/plain": [
       "         Dấu thời gian Bạn bao nhiêu tuổi? Hiện tại bạn đang cư trú ở đâu?  \\\n",
       "0  04/02/2023 20:10:08     Từ 18 - 25 tuổi                          TP.HCM   \n",
       "1  04/02/2023 20:11:52     Từ 18 - 25 tuổi                          TP.HCM   \n",
       "2  04/02/2023 20:12:49     Từ 18 - 25 tuổi                          TP.HCM   \n",
       "3  04/02/2023 20:20:42     Từ 18 - 25 tuổi                          TP.HCM   \n",
       "4  04/02/2023 20:23:34     Từ 18 - 25 tuổi                          TP.HCM   \n",
       "\n",
       "  Bạn đã sử dụng sữa rửa mặt bao giờ chưa?  \\\n",
       "0                                  Đã từng   \n",
       "1                                  Đã từng   \n",
       "2                                  Đã từng   \n",
       "3                                  Đã từng   \n",
       "4                                  Đã từng   \n",
       "\n",
       "  Nguyên nhân bạn chưa sử dụng sữa rửa mặt là gì? Giới tính của bạn là?  \\\n",
       "0                                             NaN                   Nam   \n",
       "1                                             NaN                    Nữ   \n",
       "2                                             NaN                    Nữ   \n",
       "3                                             NaN                   Nam   \n",
       "4                                             NaN                    Nữ   \n",
       "\n",
       "         1. Bạn sử dụng sữa rửa mặt với mục đích gì?  \\\n",
       "0  Loại bỏ bụi bẩn, dầu thừa, tế bào chết,..., Gi...   \n",
       "1  Hỗ trợ làm trắng da, Loại bỏ bụi bẩn, dầu thừa...   \n",
       "2  Loại bỏ bụi bẩn, dầu thừa, tế bào chết,..., Gi...   \n",
       "3         Loại bỏ bụi bẩn, dầu thừa, tế bào chết,...   \n",
       "4  Cấp ẩm, cân bằng độ pH, Loại bỏ bụi bẩn, dầu t...   \n",
       "\n",
       "  2. Da của bạn thuộc loại da gì?  \\\n",
       "0                      Da hỗn hợp   \n",
       "1                          Da dầu   \n",
       "2                          Da dầu   \n",
       "3                          Da dầu   \n",
       "4                          Da dầu   \n",
       "\n",
       "  3. Bạn thường sử dụng sữa rửa mặt bao nhiêu lần một ngày?  \\\n",
       "0                                  Ít hơn 1 lần/ngày          \n",
       "1                                         1 lần/ngày          \n",
       "2                                         2 lần/ngày          \n",
       "3                                         2 lần/ngày          \n",
       "4                                         2 lần/ngày          \n",
       "\n",
       "  4. Bạn sử dụng sữa rửa mặt khi nào?  ...  \\\n",
       "0                    Trước khi đi ngủ  ...   \n",
       "1                    Trước khi đi ngủ  ...   \n",
       "2  Sau khi thức dậy, Trước khi đi ngủ  ...   \n",
       "3  Sau khi thức dậy, Trước khi đi ngủ  ...   \n",
       "4  Sau khi thức dậy, Trước khi đi ngủ  ...   \n",
       "\n",
       "   20. Bạn lo ngại điều gì khi sử dụng sữa rửa mặt?   \\\n",
       "0  Hàng giả, hàng nhái, Sản phẩm không có nguồn g...   \n",
       "1  Hàng giả, hàng nhái, Tác dụng phụ, gây kích ứn...   \n",
       "2  Sản phẩm không có nguồn gốc rõ ràng, Tác dụng ...   \n",
       "3  Hàng giả, hàng nhái, Sản phẩm không có nguồn g...   \n",
       "4  Hàng giả, hàng nhái, Sản phẩm không có nguồn g...   \n",
       "\n",
       "  21. Đánh giá MỨC ĐỘ ẢNH HƯỞNG của các yếu tố sau đến quyết định mua hàng của bạn\\nb, 2: Không ảnh hưởng, 3: Hơi không ảnh hưởng, 4: Bình thường, 5: Hơi ảnh hưởng, 6: Ảnh hưởng, 7: Rất ảnh hưởng [Chất lượng]  \\\n",
       "0                                                7.0                                                                                                                                                               \n",
       "1                                                7.0                                                                                                                                                               \n",
       "2                                                4.0                                                                                                                                                               \n",
       "3                                                1.0                                                                                                                                                               \n",
       "4                                                6.0                                                                                                                                                               \n",
       "\n",
       "  21. Đánh giá MỨC ĐỘ ẢNH HƯỞNG của các yếu tố sau đến quyết định mua hàng của bạn\\nThang đo: 1: Rất không ảnh hưởng, 2: Không ảnh hưởng, 3: Hơi không ảnh hưởng, 4: Bình thường, 5: Hơi ảnh hưởng, 6: Ảnh hưởng, 7: Rất ảnh hưởng [Thương hiệu]  \\\n",
       "0                                                5.0                                                                                                                                                                                               \n",
       "1                                                6.0                                                                                                                                                                                               \n",
       "2                                                4.0                                                                                                                                                                                               \n",
       "3                                                1.0                                                                                                                                                                                               \n",
       "4                                                5.0                                                                                                                                                                                               \n",
       "\n",
       "  21. Đánh giá MỨC ĐỘ ẢNH HƯỞNG của các yếu tố sau đến quyết định mua hàng của bạn\\nThang đo: 1: Rất không ảnh hưởng, 2: Không ảnh hưởng, 3: Hơi không ảnh hưởng, 4: Bình thường, 5: Hơi ảnh hưởng, 6: Ảnh hưởng, 7: Rất ảnh hưởng [Giá cả]  \\\n",
       "0                                                7.0                                                                                                                                                                                          \n",
       "1                                                2.0                                                                                                                                                                                          \n",
       "2                                                4.0                                                                                                                                                                                          \n",
       "3                                                1.0                                                                                                                                                                                          \n",
       "4                                                6.0                                                                                                                                                                                          \n",
       "\n",
       "  21. Đánh giá MỨC ĐỘ ẢNH HƯỞNG của các yếu tố sau đến quyết định mua hàng của bạn\\nThang đo: 1: Rất không ảnh hưởng, 2: Không ảnh hưởng, 3: Hơi không ảnh hưởng, 4: Bình thường, 5: Hơi ảnh hưởng, 6: Ảnh hưởng, 7: Rất ảnh hưởng [Mẫu mã]  \\\n",
       "0                                                5.0                                                                                                                                                                                          \n",
       "1                                                2.0                                                                                                                                                                                          \n",
       "2                                                4.0                                                                                                                                                                                          \n",
       "3                                                1.0                                                                                                                                                                                          \n",
       "4                                                5.0                                                                                                                                                                                          \n",
       "\n",
       "  21. Đánh giá MỨC ĐỘ ẢNH HƯỞNG của các yếu tố sau đến quyết định mua hàng của bạn\\nThang đo: 1: Rất không ảnh hưởng, 2: Không ảnh hưởng, 3: Hơi không ảnh hưởng, 4: Bình thường, 5: Hơi ảnh hưởng, 6: Ảnh hưởng, 7: Rất ảnh hưởng [Xuất xứ]  \\\n",
       "0                                                5.0                                                                                                                                                                                           \n",
       "1                                                2.0                                                                                                                                                                                           \n",
       "2                                                4.0                                                                                                                                                                                           \n",
       "3                                                1.0                                                                                                                                                                                           \n",
       "4                                                6.0                                                                                                                                                                                           \n",
       "\n",
       "  21. Đánh giá MỨC ĐỘ ẢNH HƯỞNG của các yếu tố sau đến quyết định mua hàng của bạn\\nThang đo: 1: Rất không ảnh hưởng, 2: Không ảnh hưởng, 3: Hơi không ảnh hưởng, 4: Bình thường, 5: Hơi ảnh hưởng, 6: Ảnh hưởng, 7: Rất ảnh hưởng [Thành phần]  \\\n",
       "0                                                3.0                                                                                                                                                                                              \n",
       "1                                                7.0                                                                                                                                                                                              \n",
       "2                                                4.0                                                                                                                                                                                              \n",
       "3                                                1.0                                                                                                                                                                                              \n",
       "4                                                7.0                                                                                                                                                                                              \n",
       "\n",
       "  21. Đánh giá MỨC ĐỘ ẢNH HƯỞNG của các yếu tố sau đến quyết định mua hàng của bạn\\nThang đo: 1: Rất không ảnh hưởng, 2: Không ảnh hưởng, 3: Hơi không ảnh hưởng, 4: Bình thường, 5: Hơi ảnh hưởng, 6: Ảnh hưởng, 7: Rất ảnh hưởng [Mùi hương]  \\\n",
       "0                                                6.0                                                                                                                                                                                             \n",
       "1                                                4.0                                                                                                                                                                                             \n",
       "2                                                4.0                                                                                                                                                                                             \n",
       "3                                                1.0                                                                                                                                                                                             \n",
       "4                                                5.0                                                                                                                                                                                             \n",
       "\n",
       "  22. Nếu chúng tôi ra mắt một sản phẩm sữa rửa mặt mới, bạn có sẵn sàng dùng thử hay không?  \\\n",
       "0                                                 Có                                           \n",
       "1                                                 Có                                           \n",
       "2                                          Chưa biết                                           \n",
       "3                                                 Có                                           \n",
       "4                                          Chưa biết                                           \n",
       "\n",
       "  23. Bạn mong muốn điều gì nhất ở một sản phẩm sữa rửa mặt mới?   \n",
       "0             Sản phẩm được tích hợp nhiều công dụng               \n",
       "1               Sản phẩm chuyên sâu với hiệu quả cao               \n",
       "2               Sản phẩm chuyên sâu với hiệu quả cao               \n",
       "3               Sản phẩm lành tính với nhiều loại da               \n",
       "4               Sản phẩm lành tính với nhiều loại da               \n",
       "\n",
       "[5 rows x 38 columns]"
      ]
     },
     "execution_count": 2,
     "metadata": {},
     "output_type": "execute_result"
    }
   ],
   "source": [
    "# TODO: read data from ./survey.csv and save to survey_df then display 5 first lines of data\n",
    "survey_df = pd.read_csv('./data/survey.csv')\n",
    "survey_df.head(5)\n",
    "#raise NotImplementedError()"
   ]
  },
  {
   "cell_type": "markdown",
   "metadata": {},
   "source": [
    "### 3.0. How many rows/columns are there in the dataset?\n",
    "\n",
    "- Save the number of rows and columns to `n_rows, n_cols`"
   ]
  },
  {
   "cell_type": "code",
   "execution_count": 3,
   "metadata": {},
   "outputs": [
    {
     "data": {
      "text/plain": [
       "(337, 38)"
      ]
     },
     "execution_count": 3,
     "metadata": {},
     "output_type": "execute_result"
    }
   ],
   "source": [
    "# TODO: save your answer to n_rows, n_cols\n",
    "# raise NotImplementedError()\n",
    "\n",
    "n_rows, n_cols = survey_df.shape\n",
    "n_rows, n_cols"
   ]
  },
  {
   "cell_type": "code",
   "execution_count": 4,
   "metadata": {},
   "outputs": [],
   "source": [
    "# TEST\n",
    "assert (n_rows, n_cols) == (337, 38)"
   ]
  },
  {
   "cell_type": "markdown",
   "metadata": {},
   "source": [
    "### 3.1. Explore rows\n",
    "\n",
    "- Each row is a result, which is done by the person taking part in the survey. These people conducted the survey on GoogleForm. The results are then saved to a sheet and converted to `*.csv` and `*.xlsx`\n",
    "\n",
    "- Is there any duplicate row? You will check it using `Pandas`."
   ]
  },
  {
   "cell_type": "code",
   "execution_count": 5,
   "metadata": {},
   "outputs": [],
   "source": [
    "# TODO: save your answer to is_duplicate\n",
    "# raise NotImplementedError()\n",
    "is_duplicate = survey_df.duplicated().any()"
   ]
  },
  {
   "cell_type": "code",
   "execution_count": 6,
   "metadata": {},
   "outputs": [],
   "source": [
    "# TEST\n",
    "assert is_duplicate == False"
   ]
  },
  {
   "cell_type": "markdown",
   "metadata": {},
   "source": [
    "### 3.2. Explore columns\n",
    "\n",
    "- Observe the data provided, carefully read the column titles as well as the data contained in the columns, and compare them with the survey questionnaire to gain knowledge about the data.\n",
    "- Since the column titles are too long, we have to re-name them in order to work on them easily."
   ]
  },
  {
   "cell_type": "code",
   "execution_count": 7,
   "metadata": {},
   "outputs": [],
   "source": [
    "# TODO: rename the columns. new names = [\"Thời_gian\", \"Tuổi\", \"Địa_chỉ\", \"Đã_dùng_srm?\", \"Lý_do_chưa_sd\", \"Giới_tính\", \"1_Mục_đích_sd_srm\", \"2_Loại_da\", \"3_Tuần_suất_1ngày\", \"4_Sd_khi_nào\", \"5_Mua_ở_đâu\", \"6_Quảng_cáo_ở_đâu\", \"7_Chiết_xuất\", \"8_Srm_đang_sd\", \"9_Srm_có_mùi_hương?\", \"91_Thích_hương_trái_cây?\", \"92_Thích_hương_rau_củ?\", \"93_Thích_hương_hoa_cỏ?\", \"10_Dung_tích\", \"11_Số_lượng_mua\", \"12_Chi_tiền_cho_150ml\", \"13_Tiêu_chí_chọn_srm\", \"14_Ai_tư_vấn\", \"15_Xuất_xứ\", \"16_Mua_online_ở_đâu\", \"17_Mua_offline_ở_đâu\", \"18_Tiêu_chí_mua_offline\", \"19_Tiêu_chí_mua_online\", \"20_Lo_ngại_về_srm\", \"21_Mức_ảnh_hưởng_của_chất_lượng\", \"21_Mức_ảnh_hưởng_của_thương_hiệu\", \"21_Mức_ảnh_hưởng_của_giá_cả\", \"21_Mức_ảnh_hưởng_của_mẫu_mã\", \"21_Mức_ảnh_hưởng_của_xuất_xứ\", \"21_Mức_ảnh_hưởng_của_thành_phần\", \"21_Mức_ảnh_hưởng_của_mùi_hương\", \"22_Dùng_thử?\", \"23_Kỳ_vọng\"]\n",
    "# raise NotImplementedError()\n",
    "survey_df.columns = [\"Thời_gian\", \"Tuổi\", \"Địa_chỉ\", \"Đã_dùng_srm?\", \"Lý_do_chưa_sd\", \"Giới_tính\", \"1_Mục_đích_sd_srm\", \"2_Loại_da\", \"3_Tuần_suất_1ngày\", \"4_Sd_khi_nào\", \"5_Mua_ở_đâu\", \"6_Quảng_cáo_ở_đâu\", \"7_Chiết_xuất\", \"8_Srm_đang_sd\", \"9_Srm_có_mùi_hương?\", \"91_Thích_hương_trái_cây?\", \"92_Thích_hương_rau_củ?\", \"93_Thích_hương_hoa_cỏ?\", \"10_Dung_tích\", \"11_Số_lượng_mua\", \"12_Chi_tiền_cho_150ml\", \"13_Tiêu_chí_chọn_srm\", \"14_Ai_tư_vấn\", \"15_Xuất_xứ\", \"16_Mua_online_ở_đâu\", \"17_Mua_offline_ở_đâu\", \"18_Tiêu_chí_mua_offline\", \"19_Tiêu_chí_mua_online\", \"20_Lo_ngại_về_srm\", \"21_Mức_ảnh_hưởng_của_chất_lượng\", \"21_Mức_ảnh_hưởng_của_thương_hiệu\", \"21_Mức_ảnh_hưởng_của_giá_cả\", \"21_Mức_ảnh_hưởng_của_mẫu_mã\", \"21_Mức_ảnh_hưởng_của_xuất_xứ\", \"21_Mức_ảnh_hưởng_của_thành_phần\", \"21_Mức_ảnh_hưởng_của_mùi_hương\", \"22_Dùng_thử?\", \"23_Kỳ_vọng\"]"
   ]
  },
  {
   "cell_type": "code",
   "execution_count": 8,
   "metadata": {},
   "outputs": [],
   "source": [
    "# TEST\n",
    "assert (survey_df.columns == [\"Thời_gian\", \"Tuổi\", \"Địa_chỉ\", \"Đã_dùng_srm?\", \"Lý_do_chưa_sd\", \"Giới_tính\", \"1_Mục_đích_sd_srm\", \"2_Loại_da\", \"3_Tuần_suất_1ngày\", \"4_Sd_khi_nào\", \"5_Mua_ở_đâu\", \"6_Quảng_cáo_ở_đâu\", \"7_Chiết_xuất\", \"8_Srm_đang_sd\", \"9_Srm_có_mùi_hương?\", \"91_Thích_hương_trái_cây?\", \"92_Thích_hương_rau_củ?\", \"93_Thích_hương_hoa_cỏ?\", \"10_Dung_tích\", \"11_Số_lượng_mua\", \"12_Chi_tiền_cho_150ml\", \"13_Tiêu_chí_chọn_srm\", \"14_Ai_tư_vấn\", \"15_Xuất_xứ\", \"16_Mua_online_ở_đâu\", \"17_Mua_offline_ở_đâu\", \"18_Tiêu_chí_mua_offline\", \"19_Tiêu_chí_mua_online\", \"20_Lo_ngại_về_srm\", \"21_Mức_ảnh_hưởng_của_chất_lượng\", \"21_Mức_ảnh_hưởng_của_thương_hiệu\", \"21_Mức_ảnh_hưởng_của_giá_cả\", \"21_Mức_ảnh_hưởng_của_mẫu_mã\", \"21_Mức_ảnh_hưởng_của_xuất_xứ\", \"21_Mức_ảnh_hưởng_của_thành_phần\", \"21_Mức_ảnh_hưởng_của_mùi_hương\", \"22_Dùng_thử?\", \"23_Kỳ_vọng\"]).all()"
   ]
  },
  {
   "cell_type": "markdown",
   "metadata": {},
   "source": [
    "### 3.3. Remove meaningless rows and columns\n",
    "\n",
    "- Once again, this is **A survey on facial cleanser consumption behavior of 18-25 year olds in HCM City**. That means those people who do not live in HCM City or those whose age is not in the range of [18-25] will be removed.\n",
    "- After removing these people, column `Tuổi` and `Địa_chỉ` become meaningless since they contain the same data. Therefore, we also remove these columns."
   ]
  },
  {
   "cell_type": "code",
   "execution_count": 9,
   "metadata": {},
   "outputs": [],
   "source": [
    "# TODO: remove those whose age is not within the range [18-25] and whose address is not HCM City\n",
    "# TODO: then, remove 2 corresponding columns\n",
    "survey_df.drop(survey_df[(survey_df['Tuổi'] != 'Từ 18 - 25 tuổi') | (survey_df['Địa_chỉ'] != 'TP.HCM')].index, inplace=True)\n",
    "survey_df.drop(columns=['Tuổi', 'Địa_chỉ'], inplace=True)\n",
    "# raise NotImplementedError()"
   ]
  },
  {
   "cell_type": "code",
   "execution_count": 10,
   "metadata": {},
   "outputs": [],
   "source": [
    "# TEST\n",
    "assert survey_df.shape == (309, 36)\n",
    "assert set(['Tuổi', 'Địa_chỉ']).intersection(set(survey_df.columns)) == set()"
   ]
  },
  {
   "cell_type": "markdown",
   "metadata": {},
   "source": [
    "- The survey participants must be those who use facial cleanser. That means those who have not used cleanser are meaningless to the survey. You have to remove these people from the data.\n",
    "\n",
    "- After removing these people, column `Đã_dùng_srm` and column `Lý_do_chưa_sd` become meaningless since thay contain the same data. Therefore, we also remove these columns."
   ]
  },
  {
   "cell_type": "code",
   "execution_count": 11,
   "metadata": {},
   "outputs": [],
   "source": [
    "# TODO: remove those who have not used facial cleanser\n",
    "# TODO: then, remove 2 corresponding columns\n",
    "survey_df.drop(survey_df[survey_df['Đã_dùng_srm?'] == 'Chưa từng'].index, inplace=True)\n",
    "survey_df.drop(columns=['Đã_dùng_srm?', 'Lý_do_chưa_sd'], inplace=True)\n",
    "# raise NotImplementedError()"
   ]
  },
  {
   "cell_type": "code",
   "execution_count": 12,
   "metadata": {},
   "outputs": [],
   "source": [
    "# TEST\n",
    "assert survey_df.shape == (305, 34)\n",
    "assert set(['Đã_dùng_srm?', 'Lý_do_chưa_sd']).intersection(set(survey_df.columns)) == set()"
   ]
  },
  {
   "cell_type": "markdown",
   "metadata": {},
   "source": [
    "### 3.4. Handle missing data & Convert data\n",
    "\n",
    "- Next, we start handling missing data. Run function `info()` so you can overview your data."
   ]
  },
  {
   "cell_type": "code",
   "execution_count": 13,
   "metadata": {},
   "outputs": [
    {
     "name": "stdout",
     "output_type": "stream",
     "text": [
      "<class 'pandas.core.frame.DataFrame'>\n",
      "Int64Index: 305 entries, 0 to 335\n",
      "Data columns (total 34 columns):\n",
      " #   Column                            Non-Null Count  Dtype  \n",
      "---  ------                            --------------  -----  \n",
      " 0   Thời_gian                         305 non-null    object \n",
      " 1   Giới_tính                         305 non-null    object \n",
      " 2   1_Mục_đích_sd_srm                 305 non-null    object \n",
      " 3   2_Loại_da                         305 non-null    object \n",
      " 4   3_Tuần_suất_1ngày                 305 non-null    object \n",
      " 5   4_Sd_khi_nào                      305 non-null    object \n",
      " 6   5_Mua_ở_đâu                       305 non-null    object \n",
      " 7   6_Quảng_cáo_ở_đâu                 305 non-null    object \n",
      " 8   7_Chiết_xuất                      305 non-null    object \n",
      " 9   8_Srm_đang_sd                     305 non-null    object \n",
      " 10  9_Srm_có_mùi_hương?               305 non-null    object \n",
      " 11  91_Thích_hương_trái_cây?          166 non-null    object \n",
      " 12  92_Thích_hương_rau_củ?            166 non-null    object \n",
      " 13  93_Thích_hương_hoa_cỏ?            166 non-null    object \n",
      " 14  10_Dung_tích                      305 non-null    object \n",
      " 15  11_Số_lượng_mua                   305 non-null    object \n",
      " 16  12_Chi_tiền_cho_150ml             305 non-null    object \n",
      " 17  13_Tiêu_chí_chọn_srm              305 non-null    object \n",
      " 18  14_Ai_tư_vấn                      305 non-null    object \n",
      " 19  15_Xuất_xứ                        305 non-null    object \n",
      " 20  16_Mua_online_ở_đâu               305 non-null    object \n",
      " 21  17_Mua_offline_ở_đâu              305 non-null    object \n",
      " 22  18_Tiêu_chí_mua_offline           305 non-null    object \n",
      " 23  19_Tiêu_chí_mua_online            305 non-null    object \n",
      " 24  20_Lo_ngại_về_srm                 305 non-null    object \n",
      " 25  21_Mức_ảnh_hưởng_của_chất_lượng   305 non-null    float64\n",
      " 26  21_Mức_ảnh_hưởng_của_thương_hiệu  305 non-null    float64\n",
      " 27  21_Mức_ảnh_hưởng_của_giá_cả       305 non-null    float64\n",
      " 28  21_Mức_ảnh_hưởng_của_mẫu_mã       305 non-null    float64\n",
      " 29  21_Mức_ảnh_hưởng_của_xuất_xứ      305 non-null    float64\n",
      " 30  21_Mức_ảnh_hưởng_của_thành_phần   305 non-null    float64\n",
      " 31  21_Mức_ảnh_hưởng_của_mùi_hương    305 non-null    float64\n",
      " 32  22_Dùng_thử?                      305 non-null    object \n",
      " 33  23_Kỳ_vọng                        305 non-null    object \n",
      "dtypes: float64(7), object(27)\n",
      "memory usage: 83.4+ KB\n"
     ]
    }
   ],
   "source": [
    "survey_df.info()"
   ]
  },
  {
   "cell_type": "markdown",
   "metadata": {},
   "source": [
    "- You can see that, most of the columns do not have missing data except columns `91_Thích_hương_trái_cây?`, `92_Thích_hương_rau_củ?` and `93_Thích_hương_hoa_cỏ?`. They are missing nearly 50% number of rows.\n",
    "\n",
    "- State the reason. Then, conclude whether we should handle missing data. If you decided to handle missing data, how would you do that?\n",
    "\n",
    "    **TODO**: ..."
   ]
  },
  {
   "cell_type": "markdown",
   "metadata": {},
   "source": [
    "- Observe the result returned by `info()`, you are able to gain some information about columns. From there, you will convert:\n",
    "    - `Thời_gian`: `Datetime`\n",
    "    - Columns `21_*` (columns which start with `21_`): `Int`. The reason is that these columns contain number from 1 (`Rất không ảnh hưởng`) to 7 (`Rất ảnh hưởng`). You can use `for` loop here in order to loop through the columns and convert them.\n",
    "\n",
    "- State the reason why the data type of columns `21_*` is `np.float64` instead of `np.int64` (before conversion).\n",
    "\n",
    "    **TODO**: ..."
   ]
  },
  {
   "cell_type": "code",
   "execution_count": 14,
   "metadata": {},
   "outputs": [],
   "source": [
    "# TODO: convert column `Thời_gian` to datetime and columns `21_*` to int\n",
    "survey_df['Thời_gian'] = pd.to_datetime(survey_df['Thời_gian'],format = '%d/%m/%Y %H:%M:%S')\n",
    "columns_21 = survey_df.columns[survey_df.columns.str.startswith('21_')]\n",
    "survey_df[columns_21] = survey_df[columns_21].astype(int)\n",
    "# raise NotImplementedError()"
   ]
  },
  {
   "cell_type": "code",
   "execution_count": 15,
   "metadata": {},
   "outputs": [],
   "source": [
    "# TEST\n",
    "assert survey_df['Thời_gian'].dt.day.max() == 12\n",
    "assert (survey_df.dtypes[1:] == [object, object, object, object, object, object, object, object, object, object, object, object, object, object, object, object, object, object, object, object, object, object, object, object, np.int64, np.int64, np.int64, np.int64, np.int64, np.int64, np.int64, object, object]).all()"
   ]
  },
  {
   "cell_type": "markdown",
   "metadata": {},
   "source": [
    "### 3.5. Data distribution in columns\n",
    "\n",
    "- In this section, you are going to extract the distribution of data in each column.Specifically, there are 2 types of columns: **Categorical** and **Numeric**. For each type, there are different ways to extract the distribution.\n",
    "- First, we will work on numeric columns. You will perform 2 steps:\n",
    "    - Step #1: Determine the quantile values **(min, 25%, 50%, 75%, max)**: Save your answer to `numeric_col_profile`. This variable is a dataframe whose index column is `[\"min\", \"25%\", \"50%\", \"75%\", \"max\"]` and column names are similar to the name of numeric columns.\n",
    "    - Step #2: Draw a histogram to visualize the distribution."
   ]
  },
  {
   "cell_type": "code",
   "execution_count": 16,
   "metadata": {},
   "outputs": [],
   "source": [
    "# TODO: compute quantile values of numeric columns (\"21_*\" columns)\n",
    "# raise NotImplementedError()\n",
    "index = ['min','25%','50%','75%','max']\n",
    "quantile = np.quantile(survey_df[columns_21],q=[0,0.25,0.5,0.75,1],axis=0)\n",
    "numeric_col_profile = pd.DataFrame(quantile,index=index,columns=columns_21)"
   ]
  },
  {
   "cell_type": "code",
   "execution_count": 17,
   "metadata": {},
   "outputs": [],
   "source": [
    "# TEST\n",
    "assert dict(numeric_col_profile['21_Mức_ảnh_hưởng_của_chất_lượng'])  == {'min': 1.0, '25%': 5.0, '50%': 7.0, '75%': 7.0, 'max': 7.0}\n",
    "assert dict(numeric_col_profile['21_Mức_ảnh_hưởng_của_thương_hiệu'])  == {'min': 1.0, '25%': 4.0, '50%': 5.0, '75%': 6.0, 'max': 7.0}\n",
    "assert dict(numeric_col_profile['21_Mức_ảnh_hưởng_của_giá_cả'])  == {'min': 1.0, '25%': 4.0, '50%': 5.0, '75%': 6.0, 'max': 7.0}\n",
    "assert dict(numeric_col_profile['21_Mức_ảnh_hưởng_của_mẫu_mã'])  == {'min': 1.0, '25%': 3.0, '50%': 4.0, '75%': 5.0, 'max': 7.0}\n",
    "assert dict(numeric_col_profile['21_Mức_ảnh_hưởng_của_xuất_xứ'])  == {'min': 1.0, '25%': 4.0, '50%': 5.0, '75%': 6.0, 'max': 7.0}\n",
    "assert dict(numeric_col_profile['21_Mức_ảnh_hưởng_của_thành_phần'])  == {'min': 1.0, '25%': 5.0, '50%': 6.0, '75%': 7.0, 'max': 7.0}\n",
    "assert dict(numeric_col_profile['21_Mức_ảnh_hưởng_của_mùi_hương'])  == {'min': 1.0, '25%': 3.0, '50%': 5.0, '75%': 6.0, 'max': 7.0}"
   ]
  },
  {
   "cell_type": "markdown",
   "metadata": {},
   "source": [
    "- In step #2, you will draw data distributions in order to understand more about numeric columns. You will draw all distributions in one figure (all charts should share the same y-axis). Note that you have to choose the number of `bins`. Propose a number of `bins` and explain why.\n",
    "\n",
    "    **TODO**: ..."
   ]
  },
  {
   "cell_type": "code",
   "execution_count": 18,
   "metadata": {},
   "outputs": [
    {
     "ename": "NotImplementedError",
     "evalue": "",
     "output_type": "error",
     "traceback": [
      "\u001b[0;31m---------------------------------------------------------------------------\u001b[0m",
      "\u001b[0;31mNotImplementedError\u001b[0m                       Traceback (most recent call last)",
      "Cell \u001b[0;32mIn[18], line 2\u001b[0m\n\u001b[1;32m      1\u001b[0m \u001b[38;5;66;03m# TODO: draw 7 histogram in one figure\u001b[39;00m\n\u001b[0;32m----> 2\u001b[0m \u001b[38;5;28;01mraise\u001b[39;00m \u001b[38;5;167;01mNotImplementedError\u001b[39;00m()\n",
      "\u001b[0;31mNotImplementedError\u001b[0m: "
     ]
    }
   ],
   "source": [
    "# TODO: draw 7 histogram in one figure\n",
    "\n",
    "# raise NotImplementedError()"
   ]
  },
  {
   "cell_type": "markdown",
   "metadata": {},
   "source": [
    "- According to the above distributions, what factors do the survey participants care about when buying facial cleanser? Why?\n",
    "\n",
    "    **TODO**: ...\n",
    "\n",
    "- This is a crucial insight since it offered data that may be used to plan marketing campaigns or the development of new product manufacturing plans."
   ]
  },
  {
   "cell_type": "markdown",
   "metadata": {},
   "source": [
    "- After handling numeric columns, you will handle categorical columns. Note that there are 2 type of survey questions:\n",
    "    - Multiple choice, single answer: In this lab, it is not required to pre-process these columns.\n",
    "    - Multiple choice, multiple answer: Have to pre-process.\n",
    "\n",
    "- Here, you will work on the first one. You will perform these following steps:\n",
    "    - Step #1: For each column, you have to compute the **number of different attributes** and a **dictionary** whose keys and values are attributes and number of each attribute, corresponding.\n",
    "        - For example: In `Giới_tính`, we have the number of different attributes is 2 (`Nam` and `Nữ`). The dictionary is `{\"Nữ\": 244, \"Nam\": 61}` since there are 244 female participants and 61 male participants.\n",
    "        - Save your result to a dataframe called `single_cate_profile`. The index column of dataframe is `[\"num_diff_vals\", \"distribution\"]` and column names are similar to the name of categorical columns.\n",
    "    - Step #2: Visualize the distribution using pie chart. You can use `for` loop to draw the charts."
   ]
  },
  {
   "cell_type": "code",
   "execution_count": null,
   "metadata": {},
   "outputs": [],
   "source": [
    "single_answer_cols = ['Giới_tính', '2_Loại_da', '3_Tuần_suất_1ngày', '7_Chiết_xuất', '8_Srm_đang_sd', '9_Srm_có_mùi_hương?', '10_Dung_tích', '11_Số_lượng_mua', '12_Chi_tiền_cho_150ml', '13_Tiêu_chí_chọn_srm', '14_Ai_tư_vấn', '18_Tiêu_chí_mua_offline', '19_Tiêu_chí_mua_online', '22_Dùng_thử?', '23_Kỳ_vọng']\n",
    "df = survey_df[single_answer_cols]\n",
    "\n",
    "# TODO: code step 1\n",
    "raise NotImplementedError()\n",
    "\n",
    "single_cate_profile"
   ]
  },
  {
   "cell_type": "code",
   "execution_count": null,
   "metadata": {},
   "outputs": [],
   "source": [
    "# TEST\n",
    "assert dict(single_cate_profile['Giới_tính']) == {'num_diff_vals': 2, 'distribution': {'Nữ': 244, 'Nam': 61}}\n",
    "assert dict(single_cate_profile['13_Tiêu_chí_chọn_srm']) == {'num_diff_vals': 6, 'distribution': {'Thành phần': 193, 'Xuất xứ': 50, 'Giá cả': 44, 'Thể tích, dung tích': 9,'Mùi hương': 7,'Bao bì': 2}}"
   ]
  },
  {
   "cell_type": "code",
   "execution_count": null,
   "metadata": {},
   "outputs": [],
   "source": [
    "# TODO: code step 2\n",
    "raise NotImplementedError()"
   ]
  },
  {
   "cell_type": "markdown",
   "metadata": {},
   "source": [
    "- Look at the above charts, you can gain some information about the distribution of categorical columns with single answer. For example, you can easily point out that most of participants clean their face twice a day, buy the cleanser product according to the instructions of KOLs and beauty blogger,...\n",
    "- This information will help you a lot in deciding what and how to buy a cleanser product."
   ]
  },
  {
   "cell_type": "markdown",
   "metadata": {},
   "source": [
    "- Next, we will compute the distribution of multiple answer columns. You also perform the following familiar steps:\n",
    "    - Step #1: For each column, you have to compute the **number of different attributes** and a **dictionary** whose keys and values are attributes and number of each attribute, corresponding. Save your result to a dataframe called `multiple_cate_profile`. Note that in columns `'91_*', '92_*', '93_*'`, there are user-defined values, which are recorded from `Mục khác`. You have to replace these values with `Khác` (you can use `apply` for replacing). For example, column `91_Thích_hương_trái_cây?` has 8 original values (see `./form.pdf`). The rest values will be replace with `Khác`.\n",
    "    - Step #2: Visualize the 5 values with the highest frequency of occurrence using bar chart. You can use `for` loop to draw the charts.\n",
    "\n",
    "- Note that do not touch the `df` since it will be used to check your answer."
   ]
  },
  {
   "cell_type": "code",
   "execution_count": null,
   "metadata": {},
   "outputs": [],
   "source": [
    "multi_answer_cols = ['1_Mục_đích_sd_srm','4_Sd_khi_nào','5_Mua_ở_đâu','6_Quảng_cáo_ở_đâu','91_Thích_hương_trái_cây?','92_Thích_hương_rau_củ?','93_Thích_hương_hoa_cỏ?','15_Xuất_xứ','16_Mua_online_ở_đâu','17_Mua_offline_ở_đâu','20_Lo_ngại_về_srm']\n",
    "df = survey_df[multi_answer_cols]\n",
    "\n",
    "# TODO: code step 1\n",
    "raise NotImplementedError()\n",
    "\n",
    "multiple_cate_profile"
   ]
  },
  {
   "cell_type": "code",
   "execution_count": null,
   "metadata": {},
   "outputs": [],
   "source": [
    "# TEST\n",
    "assert dict(multiple_cate_profile['20_Lo_ngại_về_srm']) == {'num_diff_vals': 7, 'distribution': {'Hàng giả': 216, 'hàng nhái': 216, 'Tác dụng phụ': 141, 'gây kích ứng': 141, 'bong tróc da': 141, 'Sản phẩm không có nguồn gốc rõ ràng': 104, 'Không có hiệu quả hoặc hiệu quả kém': 44}}\n",
    "assert dict(multiple_cate_profile['91_Thích_hương_trái_cây?']) == {'num_diff_vals': 9, 'distribution': {'Đào': 61, 'Táo': 44, 'Cam': 39, 'Cherry': 36, 'Chanh': 34, 'Dâu': 34, 'Việt quất': 33, 'Khác': 11, 'Mâm xôi': 11}}\n",
    "assert dict(multiple_cate_profile['92_Thích_hương_rau_củ?']) == {'num_diff_vals': 7, 'distribution': {'Nha đam': 114, 'Thảo mộc': 72, 'Rau má': 47, 'Dưa leo': 35, 'Cà chua': 20, 'Cần tây': 5, 'Khác': 5}}\n",
    "assert dict(multiple_cate_profile['93_Thích_hương_hoa_cỏ?']) == {'num_diff_vals': 7, 'distribution': {'Trà xanh': 91, 'Hoa hồng': 71, 'Lavender': 68, 'Anh đào': 49, 'Hoa cúc': 20, 'Hoa sứ': 7, 'Khác': 4}}"
   ]
  },
  {
   "cell_type": "code",
   "execution_count": null,
   "metadata": {},
   "outputs": [],
   "source": [
    "# TODO: code step 2\n",
    "raise NotImplementedError()"
   ]
  },
  {
   "cell_type": "markdown",
   "metadata": {},
   "source": [
    "- Finally, you will perform **one-hot encoding** on categorical columns. One-hot encoding is a popular pre-processing method for categorical data. What is one-hot encoding? What does it use for?\n",
    "\n",
    "    **TODO**: ...\n",
    "\n",
    "- Since performing one-hot encoding on single answer columns is quite easy, you will perform this technique on multiple answer columns. In this part, you can use `for` loop to loop through the column and pre-process them. However, it would be better if you don't use loop for this task. The final dataframe is save to `one_hot_df`\n",
    "\n",
    "- Note that do not touch the `df` since it will be used to check your answer."
   ]
  },
  {
   "cell_type": "code",
   "execution_count": null,
   "metadata": {},
   "outputs": [],
   "source": [
    "# TODO: perform one-hot encoding on multiple_answer_cols\n",
    "raise NotImplementedError()\n",
    "\n",
    "one_hot_df"
   ]
  },
  {
   "cell_type": "code",
   "execution_count": null,
   "metadata": {},
   "outputs": [],
   "source": [
    "# TEST\n",
    "assert sum(one_hot_df.iloc[0]) == sum([len(item.split(', ')) for item in df.iloc[0]])\n",
    "assert sum(one_hot_df.iloc[1]) == sum([len(item.split(', ')) for item in df.iloc[1]])\n",
    "assert sum(one_hot_df.iloc[10]) == sum([len(item.split(', ')) for item in df.iloc[10]])"
   ]
  },
  {
   "cell_type": "markdown",
   "metadata": {},
   "source": [
    "## 4. Question proposing & Answering\n",
    "\n",
    "- In this section, you are going to answer my 2 questions and prose 1 question. Note that these questions can all be answered by analyzing data. Theoretically, the proposed question have to benefit at a certain level. But this is exercise about `Pandas`, my questions can be aimed more at technical side than the meaningful side. But your question has to be meaningful :v"
   ]
  },
  {
   "cell_type": "markdown",
   "metadata": {},
   "source": [
    "### 4.0. What is the difference in scent preference when choosing a facial cleanser between male and female participants?\n",
    "\n",
    "- In order to answer this question, You have to compare the choice of scent between male and female participants. Group bar chart might be a good option to do so.\n",
    "- First, you have to filter needed columns (`'91_*', '92_*', '93_*'`) from `one_hot_df` and place them in a new dataframe call `scent_df`. You can use `for` loop to get the column names if needed.\n",
    "- Then, group by `Giới_tính` to find out the distribution of scent for each gender. Save the result to `distribution_91, distribution_92, distribution_93`. You can observe the `distribution_91` in the cell code below.\n",
    "- Visualize the result in a group bar chart. Groups are scents. In each group, there will be 2 columns (`Nam` and `Nữ`)"
   ]
  },
  {
   "cell_type": "code",
   "execution_count": null,
   "metadata": {},
   "outputs": [],
   "source": [
    "# TODO: answer the question\n",
    "raise NotImplementedError()\n",
    "\n",
    "distribution_91"
   ]
  },
  {
   "cell_type": "code",
   "execution_count": null,
   "metadata": {},
   "outputs": [],
   "source": [
    "# TEST\n",
    "assert dict(distribution_91['91_Thích_hương_trái_cây?_Việt quất']) == {'Nam': 12, 'Nữ': 21}\n",
    "assert dict(distribution_92['92_Thích_hương_rau_củ?_Cần tây']) == {'Nam': 2, 'Nữ': 3}\n",
    "assert dict(distribution_93['93_Thích_hương_hoa_cỏ?_Anh đào']) == {'Nam': 7, 'Nữ': 42}"
   ]
  },
  {
   "cell_type": "code",
   "execution_count": null,
   "metadata": {},
   "outputs": [],
   "source": [
    "# TODO: Visualize 3 distribution. The chart below is an example for distribution_91\n",
    "raise NotImplementedError()"
   ]
  },
  {
   "cell_type": "markdown",
   "metadata": {},
   "source": [
    "### 4.1. What is the most important factor when choosing a facial cleanser between male and female participants?\n",
    "\n",
    "- Hint: See the question #22 in `./form.pdf`.\n",
    "- This question can be answered in the same way as question 1 but it is much easier because the data is single answer data.\n",
    "    - Save the distribution of male and female participants to 2 dictionaries named `male_factors` and `female_factors`\n",
    "    - Then visualize the result as question 1"
   ]
  },
  {
   "cell_type": "code",
   "execution_count": null,
   "metadata": {},
   "outputs": [],
   "source": [
    "# TODO: answer the question\n",
    "raise NotImplementedError()"
   ]
  },
  {
   "cell_type": "code",
   "execution_count": null,
   "metadata": {},
   "outputs": [],
   "source": [
    "# TEST\n",
    "assert male_factors == {'Thành phần': 32, 'Xuất xứ': 14, 'Giá cả': 10, 'Mùi hương': 2, 'Thể tích, dung tích': 2, 'Bao bì': 1}\n",
    "assert female_factors == {'Thành phần': 161, 'Xuất xứ': 36, 'Giá cả': 34, 'Thể tích, dung tích': 7, 'Mùi hương': 5, 'Bao bì': 1}"
   ]
  },
  {
   "cell_type": "code",
   "execution_count": null,
   "metadata": {},
   "outputs": [],
   "source": [
    "# TODO: Visualize\n",
    "raise NotImplementedError()"
   ]
  },
  {
   "cell_type": "markdown",
   "metadata": {},
   "source": [
    "### 4.2. Your question goes here\n",
    "\n",
    "- What are the purposes of answering your questions?\n",
    "- Answer your question then visualize if needed."
   ]
  },
  {
   "cell_type": "code",
   "execution_count": null,
   "metadata": {},
   "outputs": [],
   "source": [
    "# TODO: answer your question here\n",
    "raise NotImplementedError()"
   ]
  },
  {
   "cell_type": "code",
   "execution_count": null,
   "metadata": {},
   "outputs": [],
   "source": [
    "# TODO (OPTIONAL): visualize"
   ]
  }
 ],
 "metadata": {
  "kernelspec": {
   "display_name": "Python 3 (ipykernel)",
   "language": "python",
   "name": "python3"
  },
  "language_info": {
   "codemirror_mode": {
    "name": "ipython",
    "version": 3
   },
   "file_extension": ".py",
   "mimetype": "text/x-python",
   "name": "python",
   "nbconvert_exporter": "python",
   "pygments_lexer": "ipython3",
   "version": "3.10.8"
  }
 },
 "nbformat": 4,
 "nbformat_minor": 4
}
