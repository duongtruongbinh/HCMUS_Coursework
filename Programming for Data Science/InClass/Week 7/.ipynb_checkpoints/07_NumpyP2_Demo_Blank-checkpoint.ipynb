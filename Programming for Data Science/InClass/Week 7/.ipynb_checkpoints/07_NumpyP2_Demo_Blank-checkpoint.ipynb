{
 "cells": [
  {
   "cell_type": "markdown",
   "metadata": {
    "id": "xIC-gBibieSR",
    "tags": []
   },
   "source": [
    "# Numpy (phần 2)"
   ]
  },
  {
   "cell_type": "markdown",
   "metadata": {
    "id": "Yn-kCKMWieSV"
   },
   "source": [
    "**Reference**\n",
    "1. [Python Data Science Handbook\n",
    "](https://jakevdp.github.io/PythonDataScienceHandbook/02.00-introduction-to-numpy.htm)\n",
    "2. [Numpy cheat sheet](https://www.datacamp.com/cheat-sheet/numpy-cheat-sheet-data-analysis-in-python)"
   ]
  },
  {
   "cell_type": "code",
   "execution_count": 1,
   "metadata": {
    "hide_input": false,
    "id": "onW0akzBieSW"
   },
   "outputs": [],
   "source": [
    "import numpy as np\n",
    "\n",
    "import matplotlib.pyplot as plt\n",
    "import seaborn; seaborn.set() # Plot styling\n",
    "import math # Thư viện built-in của Python"
   ]
  },
  {
   "cell_type": "markdown",
   "metadata": {
    "id": "AwnwRzZWieSX"
   },
   "source": [
    "## Review"
   ]
  },
  {
   "cell_type": "markdown",
   "metadata": {
    "id": "iDUCPZuxieSY"
   },
   "source": [
    "### Tạo Numpy array & xem thông tin của Numpy array"
   ]
  },
  {
   "cell_type": "markdown",
   "metadata": {
    "id": "2G9PK_BHieSY"
   },
   "source": [
    "Tạo Numpy array: \\\n",
    "`np.array` \\\n",
    "`np.full` `np.zeros` `np.ones` \\\n",
    "`np.random.random` \\\n",
    "`np.empty` \\\n",
    "`np.eye` \\\n",
    "`np.arange` `np.linspace` \\\n",
    "`np.reshape` \\\n",
    "`np.genfromtxt`\\\n",
    "...\n",
    "\n",
    "Xem thông tin của Numpy array: \\\n",
    "`a.ndim` `a.shape` `a.size` \\\n",
    "`a.dtype` \\\n",
    "`a.itemsize` `a.nbytes` \\\n",
    "..."
   ]
  },
  {
   "cell_type": "markdown",
   "metadata": {
    "id": "CC_Xd7qbieSY"
   },
   "source": [
    "### Truy xuất (và thay đổi) các phần tử trong Numpy array"
   ]
  },
  {
   "cell_type": "markdown",
   "metadata": {
    "id": "38jxzuzyieSZ"
   },
   "source": [
    "- Integer indexing\n",
    "- Slicing\n",
    "- Bool array indexing\n",
    "- Integer array indexing\n",
    "- Kết hợp 4 loại trên với nhau (khi làm với array nhiều chiều)"
   ]
  },
  {
   "cell_type": "markdown",
   "metadata": {
    "id": "SmOSGml3ieSZ",
    "tags": []
   },
   "source": [
    "### Tính toán trên Numpy array"
   ]
  },
  {
   "cell_type": "markdown",
   "metadata": {
    "id": "j8D6VILCieSZ"
   },
   "source": [
    "Để sử dụng Numpy hiệu quả thì thay đổi cách tư duy: cần suy nghĩ về <font color=blue>các thao tác tính toán trên nguyên mảng</font> mà Numpy đã cung cấp, chứ không phải là các thao tác tính toán trên từng con số"
   ]
  },
  {
   "cell_type": "markdown",
   "metadata": {
    "id": "6C3N3AlDieSa"
   },
   "source": [
    "Hầu hết mọi thao tác tính toán trên mảng mà ta có thể nghĩ tới thì đều đã được Numpy cung cấp:\n",
    "\n",
    "`+`, `np.add`\\\n",
    "`-`, `np.subtract`\\\n",
    "`-`, `np.negative`\\\n",
    "`*`, `np.multiply`\\\n",
    "`@`, `np.dot`\\\n",
    "`/`, `np.divide`\\\n",
    "`//`, `np.floor_divide`\\\n",
    "`**`, `np.power`\\\n",
    "`%`, `np.mod`\\\n",
    "`np.abs`\\\n",
    "`np.exp`\\\n",
    "`np.log`\\\n",
    "...\n",
    "\n",
    "`==`, `np.equal`\\\n",
    "`<`, `np.less`\\\n",
    "`>`, `np.greater`\\\n",
    "`!=`, `np.not_equal`\\\n",
    "`<=`, `np.less_equal`\\\n",
    "`>=`, `np.greater_equal`\\\n",
    "`&`, `np.bitwise_and`\\\n",
    "`|`, `np.bitwise_or`\\\n",
    "`~`, `np.bitwise_not`\\\n",
    "`np.nonzero`\\\n",
    "`np.any`\\\n",
    "`np.all`\\\n",
    "...\n",
    "\n",
    "`np.sum`\\\n",
    "`np.prod`\\\n",
    "`np.min`\\\n",
    "`np.max`\\\n",
    "`np.argmin`\\\n",
    "`np.argmax`\\\n",
    "...\n",
    "\n",
    "`np.mean`\\\n",
    "`np.std`\\\n",
    "`np.percentile`\\\n",
    "`np.histogram`\\\n",
    "`np.unique`\\\n",
    "`np.sort`\\\n",
    "`np.argsort`\\\n",
    "...\n",
    "\n",
    "Với một tính toán nào đó trên Numpy array, ngoài dạng hàm (hoặc toán tử) thì thường ta cũng có thể gọi phương thức tương đương từ Numpy array \\\n",
    "$\\to$ Giúp đáp ứng các \"khẩu vị code\" khác nhau của người dùng"
   ]
  },
  {
   "cell_type": "markdown",
   "metadata": {
    "id": "F0lrXsKfieSa"
   },
   "source": [
    "## Áp dụng Numpy để thực hiện khám phá và tiền xử lý dữ liệu"
   ]
  },
  {
   "cell_type": "markdown",
   "metadata": {
    "id": "I04BL5RgieSa"
   },
   "source": [
    "**Trong phần này, chúng ta sẽ thực hiện quy trình khám phá dữ liệu trên tập dữ liệu P4DS-Grades.csv với sự hỗ trợ của thư viện `numpy`**"
   ]
  },
  {
   "cell_type": "code",
   "execution_count": 3,
   "metadata": {
    "id": "cN88O-xsieSb",
    "scrolled": true,
    "tags": []
   },
   "outputs": [
    {
     "data": {
      "text/plain": [
       "array([[ 0.  ,  0.  ,  0.  ,  0.  ],\n",
       "       [10.  , 10.  , 10.  ,  9.5 ],\n",
       "       [10.  ,  9.25,  9.  ,  7.  ],\n",
       "       [10.  ,  9.5 ,  9.85,  8.  ],\n",
       "       [10.  ,  9.75,  9.75,  9.  ],\n",
       "       [10.  , 10.  , 10.  ,  8.5 ],\n",
       "       [10.  , 10.  ,  9.75,  9.  ],\n",
       "       [10.  ,  9.5 ,  9.7 ,  9.  ],\n",
       "       [10.  ,  9.75,  9.35,  9.  ],\n",
       "       [10.  , 10.  ,  9.6 ,  8.  ],\n",
       "       [ 9.  ,  9.25,  9.9 ,  7.5 ],\n",
       "       [10.  , 10.  , 10.  ,  8.  ],\n",
       "       [10.  ,  8.5 ,  5.75,  7.  ],\n",
       "       [10.  ,  9.5 ,  9.75,  8.  ],\n",
       "       [ 9.25, 10.  , 10.  ,  8.5 ],\n",
       "       [10.  , 10.  , 10.  , 10.  ],\n",
       "       [ 8.5 ,  8.25,  0.  ,  0.  ],\n",
       "       [10.  , 10.  ,  9.9 ,  9.  ],\n",
       "       [10.  ,  9.5 ,  9.45,  9.  ],\n",
       "       [ 9.75, 10.  , 10.  ,  9.  ],\n",
       "       [10.  , 10.  ,  9.  , 10.  ],\n",
       "       [10.  ,  9.75, 10.  , 10.  ],\n",
       "       [ 9.75,  9.5 ,  5.25,  6.5 ],\n",
       "       [ 9.75,  9.75, 10.  ,  9.5 ],\n",
       "       [ 9.5 , 10.  , 10.  ,  7.5 ],\n",
       "       [10.  ,  9.25,  9.9 ,  9.  ],\n",
       "       [10.  , 10.  , 10.  ,  7.5 ],\n",
       "       [ 9.5 , 10.  ,  9.75,  9.5 ],\n",
       "       [ 9.75, 10.  ,  9.4 ,  7.  ],\n",
       "       [ 1.5 ,  5.5 ,  9.  ,  7.5 ],\n",
       "       [10.  ,  8.  , 10.  ,  9.  ],\n",
       "       [10.  ,  9.  , 10.  ,  9.  ],\n",
       "       [ 9.75, 10.  ,  9.6 ,  7.  ],\n",
       "       [10.  , 10.  , 10.  ,  7.  ],\n",
       "       [ 8.75, 10.  ,  8.25,  7.5 ],\n",
       "       [ 0.  ,  9.  ,  9.55,  6.5 ],\n",
       "       [ 9.5 , 10.  ,  9.75,  6.5 ],\n",
       "       [ 9.75,  9.5 ,  9.2 ,  7.  ],\n",
       "       [ 0.  ,  9.75,  0.  ,  8.5 ],\n",
       "       [10.  ,  9.5 ,  9.8 ,  6.5 ],\n",
       "       [10.  , 10.  , 10.  ,  9.  ],\n",
       "       [ 9.5 , 10.  ,  9.  ,  8.5 ],\n",
       "       [10.  , 10.  , 10.  , 10.  ],\n",
       "       [ 0.  ,  8.5 ,  9.6 ,  9.  ],\n",
       "       [ 9.75, 10.  , 10.  ,  8.  ]])"
      ]
     },
     "execution_count": 3,
     "metadata": {},
     "output_type": "execute_result"
    }
   ],
   "source": [
    "# Tạo array từ file\n",
    "# File 'P4DS-Grades.csv' chứa điểm này của khóa trước ;-)\n",
    "# 3 cột đầu ứng với điểm 3 HW (mỗi HW chiếm 50%/3 tổng điểm)\n",
    "# cột cuối ứng điểm đồ án cuối kỳ (chiếm 50% tổng điểm)\n",
    "p4ds_grades = np.genfromtxt('Data/P4DS-Grades.csv',\n",
    "                            delimiter=',', skip_header=1)\n",
    "p4ds_grades"
   ]
  },
  {
   "cell_type": "code",
   "execution_count": 4,
   "metadata": {
    "id": "rFd-y_6PieSb"
   },
   "outputs": [
    {
     "data": {
      "text/plain": [
       "(45, 4)"
      ]
     },
     "execution_count": 4,
     "metadata": {},
     "output_type": "execute_result"
    }
   ],
   "source": [
    "#Dữ liệu có bao nhiêu dòng và bao nhiêu cột?\n",
    "p4ds_grades.shape"
   ]
  },
  {
   "cell_type": "code",
   "execution_count": 5,
   "metadata": {
    "id": "Ng9cinyNieSb",
    "tags": []
   },
   "outputs": [
    {
     "name": "stdout",
     "output_type": "stream",
     "text": [
      "[0. 0. 0. 0.]\n",
      "[ 0.   10.   10.   10.   10.   10.   10.   10.   10.   10.    9.9  10.\n",
      " 10.   10.   10.   10.    8.5  10.   10.   10.   10.   10.    9.75 10.\n",
      " 10.   10.   10.   10.   10.    9.   10.   10.   10.   10.   10.    9.55\n",
      " 10.    9.75  9.75 10.   10.   10.   10.    9.6  10.  ]\n"
     ]
    }
   ],
   "source": [
    "# Tính min, max của mỗi cột điểm\n",
    "# để xem có gì bất thường không\n",
    "print(np.min(p4ds_grades,axis=0))\n",
    "print(np.max(p4ds_grades,axis=1))"
   ]
  },
  {
   "cell_type": "code",
   "execution_count": 7,
   "metadata": {
    "id": "rfr8SfIhieSb",
    "scrolled": true,
    "tags": []
   },
   "outputs": [
    {
     "data": {
      "text/plain": [
       "array([ 0.        ,  9.75      ,  8.20833333,  8.89166667,  9.41666667,\n",
       "        9.25      ,  9.45833333,  9.36666667,  9.35      ,  8.93333333,\n",
       "        8.44166667,  9.        ,  7.54166667,  8.875     ,  9.125     ,\n",
       "       10.        ,  2.79166667,  9.48333333,  9.325     ,  9.45833333,\n",
       "        9.83333333,  9.95833333,  7.33333333,  9.66666667,  8.66666667,\n",
       "        9.35833333,  8.75      ,  9.625     ,  8.35833333,  6.41666667,\n",
       "        9.16666667,  9.33333333,  8.39166667,  8.5       ,  8.25      ,\n",
       "        6.34166667,  8.125     ,  8.24166667,  5.875     ,  8.13333333,\n",
       "        9.5       ,  9.        , 10.        ,  7.51666667,  8.95833333])"
      ]
     },
     "execution_count": 7,
     "metadata": {},
     "output_type": "execute_result"
    }
   ],
   "source": [
    "# Tính cột điểm tổng kết\n",
    "avg_grades = (p4ds_grades[:,0]*0.5/3\n",
    "              + p4ds_grades[:,1]*0.5/3\n",
    "              + p4ds_grades[:,2]*0.5/3\n",
    "              + p4ds_grades[:,3]*0.5)\n",
    "avg_grades"
   ]
  },
  {
   "cell_type": "code",
   "execution_count": 9,
   "metadata": {
    "id": "3couDqo-ieSb"
   },
   "outputs": [
    {
     "data": {
      "text/plain": [
       "0.044444444444444446"
      ]
     },
     "execution_count": 9,
     "metadata": {},
     "output_type": "execute_result"
    }
   ],
   "source": [
    "# Tỉ lệ sinh viên rớt môn là bao nhiêu?\n",
    "np.mean(avg_grades < 5)"
   ]
  },
  {
   "cell_type": "code",
   "execution_count": 10,
   "metadata": {
    "id": "4YFWhGMyieSb",
    "scrolled": true
   },
   "outputs": [
    {
     "name": "stdout",
     "output_type": "stream",
     "text": [
      "8.443703703703703\n",
      "1.812645188357383\n"
     ]
    }
   ],
   "source": [
    "# Tính mean & standard deviation của cột điểm tổng kết\n",
    "print(avg_grades.mean())\n",
    "print(avg_grades.std())"
   ]
  },
  {
   "cell_type": "code",
   "execution_count": 11,
   "metadata": {
    "id": "H1Gf5GEJieSc"
   },
   "outputs": [
    {
     "name": "stdout",
     "output_type": "stream",
     "text": [
      "0.0\n",
      "8.241666666666667\n",
      "8.958333333333334\n",
      "9.416666666666668\n",
      "10.0\n"
     ]
    }
   ],
   "source": [
    "# Tính min, lower quartile, median, upper quartile, max\n",
    "# của cột điểm tổng kết\n",
    "print(np.percentile(avg_grades,0))\n",
    "print(np.percentile(avg_grades,25))\n",
    "print(np.percentile(avg_grades,50))\n",
    "print(np.percentile(avg_grades,75))\n",
    "print(np.percentile(avg_grades,100))"
   ]
  },
  {
   "cell_type": "code",
   "execution_count": 16,
   "metadata": {
    "id": "csZDV4GuieSc"
   },
   "outputs": [
    {
     "name": "stdout",
     "output_type": "stream",
     "text": [
      "1\n",
      "1\n",
      "1\n",
      "1\n",
      "2\n",
      "2\n",
      "3\n",
      "3\n",
      "4\n",
      "4\n",
      "5\n",
      "5\n",
      "5\n",
      "5\n",
      "6\n",
      "6\n",
      "7\n",
      "7\n",
      "8\n",
      "8\n",
      "9\n",
      "9\n"
     ]
    }
   ],
   "source": [
    "# So sánh hàm tính percentile của Numpy với hàm tự viết trước đây\n",
    "def compute_percentile(data, p):\n",
    "    sorted_data = sorted(data)\n",
    "    i = int(p / 100 * (len(sorted_data)-1))\n",
    "    return sorted_data[i]\n",
    "\n",
    "data = np.arange(1, 10)\n",
    "for p in range(0, 101, 10):\n",
    "    print(compute_percentile(data,p))\n",
    "    print(np.percentile(data,p,method = 'lower'))"
   ]
  },
  {
   "cell_type": "code",
   "execution_count": 21,
   "metadata": {
    "id": "Ui4pm_REieSc"
   },
   "outputs": [
    {
     "data": {
      "text/plain": [
       "(array([ 1.,  0.,  1.,  0.,  0.,  1.,  2.,  3., 15., 22.]),\n",
       " array([ 0.,  1.,  2.,  3.,  4.,  5.,  6.,  7.,  8.,  9., 10.]),\n",
       " <BarContainer object of 10 artists>)"
      ]
     },
     "execution_count": 21,
     "metadata": {},
     "output_type": "execute_result"
    },
    {
     "data": {
      "image/png": "[encoded data removed]",
      "text/plain": [
       "<Figure size 640x480 with 1 Axes>"
      ]
     },
     "metadata": {},
     "output_type": "display_data"
    }
   ],
   "source": [
    "# Tính histogram của cột điểm tổng kết, rồi vẽ\n",
    "counts,bins = np.histogram(avg_grades,10)\n",
    "plt.hist(bins[:-1],bins,weights=counts,edgecolor = 'black')"
   ]
  },
  {
   "cell_type": "code",
   "execution_count": 24,
   "metadata": {
    "id": "KM5s-VWZieSc"
   },
   "outputs": [
    {
     "data": {
      "text/plain": [
       "(array([ 1.,  0.,  1.,  0.,  0.,  1.,  2.,  3., 15., 22.]),\n",
       " array([ 0.,  1.,  2.,  3.,  4.,  5.,  6.,  7.,  8.,  9., 10.]),\n",
       " <BarContainer object of 10 artists>)"
      ]
     },
     "execution_count": 24,
     "metadata": {},
     "output_type": "execute_result"
    },
    {
     "data": {
      "image/png": "[encoded data removed]",
      "text/plain": [
       "<Figure size 640x480 with 1 Axes>"
      ]
     },
     "metadata": {},
     "output_type": "display_data"
    }
   ],
   "source": [
    "# Tính histogram và vẽ luôn một lần bằng câu lệnh plt.hist\n",
    "plt.hist(avg_grades,edgecolor = 'black',bins = range(11))"
   ]
  },
  {
   "cell_type": "code",
   "execution_count": 31,
   "metadata": {
    "id": "knM2DTreieSc"
   },
   "outputs": [
    {
     "data": {
      "text/plain": [
       "array([[ 0. ,  0. ,  0. ,  0. ,  0. ],\n",
       "       [10. , 10. , 10. ,  9.5,  9.8],\n",
       "       [10. ,  9.2,  9. ,  7. ,  8.2],\n",
       "       [10. ,  9.5,  9.8,  8. ,  8.9],\n",
       "       [10. ,  9.8,  9.8,  9. ,  9.4],\n",
       "       [10. , 10. , 10. ,  8.5,  9.2],\n",
       "       [10. , 10. ,  9.8,  9. ,  9.5],\n",
       "       [10. ,  9.5,  9.7,  9. ,  9.4],\n",
       "       [10. ,  9.8,  9.4,  9. ,  9.4],\n",
       "       [10. , 10. ,  9.6,  8. ,  8.9],\n",
       "       [ 9. ,  9.2,  9.9,  7.5,  8.4],\n",
       "       [10. , 10. , 10. ,  8. ,  9. ],\n",
       "       [10. ,  8.5,  5.8,  7. ,  7.5],\n",
       "       [10. ,  9.5,  9.8,  8. ,  8.9],\n",
       "       [ 9.2, 10. , 10. ,  8.5,  9.1],\n",
       "       [10. , 10. , 10. , 10. , 10. ],\n",
       "       [ 8.5,  8.2,  0. ,  0. ,  2.8],\n",
       "       [10. , 10. ,  9.9,  9. ,  9.5],\n",
       "       [10. ,  9.5,  9.4,  9. ,  9.3],\n",
       "       [ 9.8, 10. , 10. ,  9. ,  9.5],\n",
       "       [10. , 10. ,  9. , 10. ,  9.8],\n",
       "       [10. ,  9.8, 10. , 10. , 10. ],\n",
       "       [ 9.8,  9.5,  5.2,  6.5,  7.3],\n",
       "       [ 9.8,  9.8, 10. ,  9.5,  9.7],\n",
       "       [ 9.5, 10. , 10. ,  7.5,  8.7],\n",
       "       [10. ,  9.2,  9.9,  9. ,  9.4],\n",
       "       [10. , 10. , 10. ,  7.5,  8.8],\n",
       "       [ 9.5, 10. ,  9.8,  9.5,  9.6],\n",
       "       [ 9.8, 10. ,  9.4,  7. ,  8.4],\n",
       "       [ 1.5,  5.5,  9. ,  7.5,  6.4],\n",
       "       [10. ,  8. , 10. ,  9. ,  9.2],\n",
       "       [10. ,  9. , 10. ,  9. ,  9.3],\n",
       "       [ 9.8, 10. ,  9.6,  7. ,  8.4],\n",
       "       [10. , 10. , 10. ,  7. ,  8.5],\n",
       "       [ 8.8, 10. ,  8.2,  7.5,  8.2],\n",
       "       [ 0. ,  9. ,  9.6,  6.5,  6.3],\n",
       "       [ 9.5, 10. ,  9.8,  6.5,  8.1],\n",
       "       [ 9.8,  9.5,  9.2,  7. ,  8.2],\n",
       "       [ 0. ,  9.8,  0. ,  8.5,  5.9],\n",
       "       [10. ,  9.5,  9.8,  6.5,  8.1],\n",
       "       [10. , 10. , 10. ,  9. ,  9.5],\n",
       "       [ 9.5, 10. ,  9. ,  8.5,  9. ],\n",
       "       [10. , 10. , 10. , 10. , 10. ],\n",
       "       [ 0. ,  8.5,  9.6,  9. ,  7.5],\n",
       "       [ 9.8, 10. , 10. ,  8. ,  9. ]])"
      ]
     },
     "execution_count": 31,
     "metadata": {},
     "output_type": "execute_result"
    }
   ],
   "source": [
    "# Thêm cột điểm tổng kết vào array gồm 4 cột điểm thành phần\n",
    "p4ds_final = np.concatenate([p4ds_grades, avg_grades.reshape(-1,1)],axis = 1)\n",
    "p4ds_final.round(1)"
   ]
  },
  {
   "cell_type": "code",
   "execution_count": 33,
   "metadata": {
    "id": "Od6c4q9VieSc"
   },
   "outputs": [],
   "source": [
    "# Lưu array gồm 4 cột điểm thành phần + 1 cột điểm tổng kết\n",
    "# xuống file\n",
    "# Bạn có thể dùng hàm np.savetxt\n",
    "np.savetxt('Data/TempP4DS.csv',p4ds_final,delimiter=',',fmt='%.1f')"
   ]
  },
  {
   "cell_type": "markdown",
   "metadata": {
    "id": "XciaIrY7ieSc"
   },
   "source": [
    "## Fancy Indexing"
   ]
  },
  {
   "cell_type": "code",
   "execution_count": 34,
   "metadata": {
    "id": "h8ZuEiVqieSc"
   },
   "outputs": [
    {
     "name": "stdout",
     "output_type": "stream",
     "text": [
      "[  0  10  20  30  40  50  60  70  80  90 100]\n"
     ]
    }
   ],
   "source": [
    "x = np.arange(11) * 10\n",
    "print(x)"
   ]
  },
  {
   "cell_type": "code",
   "execution_count": 36,
   "metadata": {
    "id": "GtpHVEggieSc"
   },
   "outputs": [
    {
     "name": "stdout",
     "output_type": "stream",
     "text": [
      "10 50 70\n"
     ]
    }
   ],
   "source": [
    "# Normal index\n",
    "print(x[1],x[5],x[7])"
   ]
  },
  {
   "cell_type": "code",
   "execution_count": 37,
   "metadata": {
    "id": "Uav99jU7ieSc"
   },
   "outputs": [
    {
     "data": {
      "text/plain": [
       "array([10, 50, 70])"
      ]
     },
     "execution_count": 37,
     "metadata": {},
     "output_type": "execute_result"
    }
   ],
   "source": [
    "# Dùng list như index\n",
    "ind = [1,5,7]\n",
    "x[ind]"
   ]
  },
  {
   "cell_type": "markdown",
   "metadata": {
    "id": "uWTT7ouNieSd"
   },
   "source": [
    "Khi dùng *fancy indexing*, `shape` của kết quả sẽ là `shape` của *index array*, chứ không phải *mảng được index*"
   ]
  },
  {
   "cell_type": "code",
   "execution_count": 38,
   "metadata": {
    "id": "8vWpmg4jieSd"
   },
   "outputs": [
    {
     "data": {
      "text/plain": [
       "array([[30, 70],\n",
       "       [40, 50]])"
      ]
     },
     "execution_count": 38,
     "metadata": {},
     "output_type": "execute_result"
    }
   ],
   "source": [
    "ind = np.array([[3,7],\n",
    "                [4,5]])\n",
    "x[ind]"
   ]
  },
  {
   "cell_type": "markdown",
   "metadata": {
    "id": "t9cFlPuzieSd"
   },
   "source": [
    "**Fancy indexing 2D**"
   ]
  },
  {
   "cell_type": "code",
   "execution_count": 39,
   "metadata": {
    "id": "-NY1ycHvieSd"
   },
   "outputs": [
    {
     "data": {
      "text/plain": [
       "array([[ 0,  1,  2,  3],\n",
       "       [ 4,  5,  6,  7],\n",
       "       [ 8,  9, 10, 11]])"
      ]
     },
     "execution_count": 39,
     "metadata": {},
     "output_type": "execute_result"
    }
   ],
   "source": [
    "X = np.arange(12).reshape((3, 4))\n",
    "X"
   ]
  },
  {
   "cell_type": "code",
   "execution_count": 40,
   "metadata": {
    "id": "_MC1UyaWieSd"
   },
   "outputs": [
    {
     "data": {
      "text/plain": [
       "array([ 2,  5, 11])"
      ]
     },
     "execution_count": 40,
     "metadata": {},
     "output_type": "execute_result"
    }
   ],
   "source": [
    "# Fancy index 2D\n",
    "row = np.array([0,1,2])\n",
    "col = np.array([2,1,3])\n",
    "X[row,col]"
   ]
  },
  {
   "cell_type": "code",
   "execution_count": 41,
   "metadata": {
    "id": "KjqWzqjSieSd"
   },
   "outputs": [
    {
     "data": {
      "text/plain": [
       "array([10,  8,  9])"
      ]
     },
     "execution_count": 41,
     "metadata": {},
     "output_type": "execute_result"
    }
   ],
   "source": [
    "#Fancy and simple index\n",
    "X[2,[2,0,1]]"
   ]
  },
  {
   "cell_type": "code",
   "execution_count": 43,
   "metadata": {
    "id": "KmfBcPa_ieSd"
   },
   "outputs": [
    {
     "data": {
      "text/plain": [
       "array([[ 6,  4,  5],\n",
       "       [10,  8,  9]])"
      ]
     },
     "execution_count": 43,
     "metadata": {},
     "output_type": "execute_result"
    }
   ],
   "source": [
    "#Fancy and simple index\n",
    "X[1:,[2,0,1]]"
   ]
  },
  {
   "cell_type": "markdown",
   "metadata": {
    "id": "pJ7pv24xieSd"
   },
   "source": [
    "## Sorting"
   ]
  },
  {
   "cell_type": "code",
   "execution_count": 45,
   "metadata": {
    "id": "pTWvPfyzieSd"
   },
   "outputs": [
    {
     "data": {
      "text/plain": [
       "array([1, 2, 3, 4, 5])"
      ]
     },
     "execution_count": 45,
     "metadata": {},
     "output_type": "execute_result"
    }
   ],
   "source": [
    "# Sort mảng x\n",
    "x = np.array([2, 1, 4, 3, 5])\n",
    "np.sort(x)"
   ]
  },
  {
   "cell_type": "code",
   "execution_count": 47,
   "metadata": {
    "id": "-7bBRjaLieSd"
   },
   "outputs": [
    {
     "data": {
      "text/plain": [
       "array([1, 2, 3, 4, 5])"
      ]
     },
     "execution_count": 47,
     "metadata": {},
     "output_type": "execute_result"
    }
   ],
   "source": [
    "# Sort mảng x\n",
    "x = np.array([2, 1, 4, 3, 5])\n",
    "x.sort()\n",
    "x"
   ]
  },
  {
   "cell_type": "code",
   "execution_count": 54,
   "metadata": {
    "id": "RieXHLj3ieSj"
   },
   "outputs": [
    {
     "data": {
      "text/plain": [
       "array([1, 0, 3, 2, 4])"
      ]
     },
     "execution_count": 54,
     "metadata": {},
     "output_type": "execute_result"
    }
   ],
   "source": [
    "# argsort\n",
    "x = np.array([2, 1, 4, 3, 5])\n",
    "idx = np.argsort(x)\n",
    "idx"
   ]
  },
  {
   "cell_type": "code",
   "execution_count": 55,
   "metadata": {
    "id": "HKpNYBbRieSk"
   },
   "outputs": [
    {
     "data": {
      "text/plain": [
       "array([1, 2, 3])"
      ]
     },
     "execution_count": 55,
     "metadata": {},
     "output_type": "execute_result"
    }
   ],
   "source": [
    "x[[1,0,3]]"
   ]
  },
  {
   "cell_type": "markdown",
   "metadata": {
    "id": "qWYjtvyXieSk"
   },
   "source": [
    "**2D Sort**"
   ]
  },
  {
   "cell_type": "code",
   "execution_count": 57,
   "metadata": {
    "id": "_DnKI5gzieSk"
   },
   "outputs": [
    {
     "name": "stdout",
     "output_type": "stream",
     "text": [
      "[[4 1 8 2 7 9]\n",
      " [5 3 7 5 3 6]\n",
      " [7 5 8 5 3 5]\n",
      " [4 5 6 9 6 8]]\n"
     ]
    }
   ],
   "source": [
    "X = np.random.randint(0, 10, (4, 6))\n",
    "print(X)"
   ]
  },
  {
   "cell_type": "code",
   "execution_count": 60,
   "metadata": {
    "id": "frfb_09SieSk"
   },
   "outputs": [
    {
     "data": {
      "text/plain": [
       "array([[4, 1, 6, 2, 3, 5],\n",
       "       [4, 3, 7, 5, 3, 6],\n",
       "       [5, 5, 8, 5, 6, 8],\n",
       "       [7, 5, 8, 9, 7, 9]])"
      ]
     },
     "execution_count": 60,
     "metadata": {},
     "output_type": "execute_result"
    }
   ],
   "source": [
    "# sort each column of X\n",
    "np.sort(X,axis=0)"
   ]
  },
  {
   "cell_type": "code",
   "execution_count": 59,
   "metadata": {
    "id": "owx1L0QmieSk"
   },
   "outputs": [
    {
     "data": {
      "text/plain": [
       "array([[1, 2, 4, 7, 8, 9],\n",
       "       [3, 3, 5, 5, 6, 7],\n",
       "       [3, 5, 5, 5, 7, 8],\n",
       "       [4, 5, 6, 6, 8, 9]])"
      ]
     },
     "execution_count": 59,
     "metadata": {},
     "output_type": "execute_result"
    }
   ],
   "source": [
    "# sort each row of X\n",
    "np.sort(X,axis=1)"
   ]
  },
  {
   "cell_type": "code",
   "execution_count": 69,
   "metadata": {
    "id": "Jdh-_EpOieSk"
   },
   "outputs": [
    {
     "data": {
      "text/plain": [
       "array([ 3,  2,  3,  9, 11, 11, 16])"
      ]
     },
     "execution_count": 69,
     "metadata": {},
     "output_type": "execute_result"
    }
   ],
   "source": [
    "# Tìm ra k số nhỏ nhất với partition\n",
    "x = np.random.randint(0,20,7)\n",
    "np.partition(x,3)"
   ]
  },
  {
   "cell_type": "code",
   "execution_count": 70,
   "metadata": {},
   "outputs": [
    {
     "data": {
      "text/plain": [
       "array([[4, 1, 8, 2, 7, 9],\n",
       "       [5, 3, 7, 5, 3, 6],\n",
       "       [7, 5, 8, 5, 3, 5],\n",
       "       [4, 5, 6, 9, 6, 8]])"
      ]
     },
     "execution_count": 70,
     "metadata": {},
     "output_type": "execute_result"
    }
   ],
   "source": [
    "X"
   ]
  },
  {
   "cell_type": "code",
   "execution_count": 71,
   "metadata": {
    "id": "4Xs5wotuieSl"
   },
   "outputs": [
    {
     "data": {
      "text/plain": [
       "array([[1, 2, 4, 8, 7, 9],\n",
       "       [3, 3, 5, 7, 5, 6],\n",
       "       [3, 5, 5, 8, 7, 5],\n",
       "       [4, 5, 6, 9, 6, 8]])"
      ]
     },
     "execution_count": 71,
     "metadata": {},
     "output_type": "execute_result"
    }
   ],
   "source": [
    "# Tìm ra k số nhỏ nhất mỗi hàng\n",
    "np.partition(X,2,axis=1)"
   ]
  },
  {
   "cell_type": "markdown",
   "metadata": {
    "id": "hPqdb-BlieSl"
   },
   "source": []
  },
  {
   "cell_type": "markdown",
   "metadata": {
    "id": "B3HhjxpHieSl",
    "tags": []
   },
   "source": [
    "## Broadcasting"
   ]
  },
  {
   "cell_type": "markdown",
   "metadata": {
    "id": "VKWkDXoWieSl"
   },
   "source": [
    "Là cơ chế của Numpy cho phép thực hiện tính toán khi các array không có cùng shape như thể có cùng shape (ở bên dưới, vụ này sẽ được thực hiện một cách hiệu quả: sẽ không tạo ra các array mới có cùng shape).\n",
    "\n",
    "Ví dụ:\n",
    "\n",
    "`a = np.array([1, 2, 3])`\n",
    "\n",
    "`a + 10`\n",
    "\n",
    "[Luật broadcasting](https://numpy.org/devdocs/user/quickstart.html#broadcasting-rules):\n",
    "\n",
    "- Rule 1: If the two arrays differ in their number of dimensions, the shape of the one with fewer dimensions is *padded* with ones on its leading (left) side.\n",
    "- Rule 2: If the shape of the two arrays does not match in any dimension, the array with shape equal to 1 in that dimension is stretched to match the other shape.\n",
    "- Rule 3: If in any dimension the sizes disagree and neither is equal to 1, an error is raised."
   ]
  },
  {
   "cell_type": "code",
   "execution_count": 72,
   "metadata": {
    "id": "zkunXzfiieSl"
   },
   "outputs": [
    {
     "name": "stdout",
     "output_type": "stream",
     "text": [
      "(2, 3)\n",
      "(3,)\n"
     ]
    }
   ],
   "source": [
    "#Ví dụ 1: 1D + 2D\n",
    "M = np.ones((2, 3))\n",
    "a = np.arange(3)\n",
    "print(f'{M.shape}\\n{a.shape}')"
   ]
  },
  {
   "cell_type": "code",
   "execution_count": 74,
   "metadata": {
    "id": "AHkEjCNVieSl"
   },
   "outputs": [
    {
     "data": {
      "text/plain": [
       "array([[1., 2., 3.],\n",
       "       [1., 2., 3.]])"
      ]
     },
     "execution_count": 74,
     "metadata": {},
     "output_type": "execute_result"
    }
   ],
   "source": [
    "M+a"
   ]
  },
  {
   "cell_type": "code",
   "execution_count": 75,
   "metadata": {
    "id": "DLylHU9rieSl"
   },
   "outputs": [
    {
     "data": {
      "text/plain": [
       "(2, 3)"
      ]
     },
     "execution_count": 75,
     "metadata": {},
     "output_type": "execute_result"
    }
   ],
   "source": [
    "# Ví dụ 2\n",
    "a = np.array([[4, 5, 6],\n",
    "              [7, 8, 9]])\n",
    "a.shape"
   ]
  },
  {
   "cell_type": "code",
   "execution_count": 76,
   "metadata": {
    "id": "tTH3Sd1FieSl"
   },
   "outputs": [
    {
     "data": {
      "text/plain": [
       "array([[14, 15, 16],\n",
       "       [17, 18, 19]])"
      ]
     },
     "execution_count": 76,
     "metadata": {},
     "output_type": "execute_result"
    }
   ],
   "source": [
    "a + 10"
   ]
  },
  {
   "cell_type": "code",
   "execution_count": 77,
   "metadata": {
    "id": "HLVoX3YKieSm"
   },
   "outputs": [
    {
     "name": "stdout",
     "output_type": "stream",
     "text": [
      "(2, 3)\n",
      "(3,)\n"
     ]
    }
   ],
   "source": [
    "# Ví dụ 3\n",
    "a = np.array([[4, 5, 6],\n",
    "              [7, 8, 9]])\n",
    "b = np.array([1, 2, 3])\n",
    "print(f'{a.shape}\\n{b.shape}')"
   ]
  },
  {
   "cell_type": "code",
   "execution_count": 78,
   "metadata": {
    "id": "48eo3QBZieSm"
   },
   "outputs": [
    {
     "data": {
      "text/plain": [
       "array([[ 4, 10, 18],\n",
       "       [ 7, 16, 27]])"
      ]
     },
     "execution_count": 78,
     "metadata": {},
     "output_type": "execute_result"
    }
   ],
   "source": [
    "a * b"
   ]
  },
  {
   "cell_type": "code",
   "execution_count": 79,
   "metadata": {
    "id": "1XbrdIQXieSm",
    "tags": []
   },
   "outputs": [
    {
     "name": "stdout",
     "output_type": "stream",
     "text": [
      "(3, 1)\n",
      "(3,)\n"
     ]
    }
   ],
   "source": [
    "# Broadcasting - ví dụ 4\n",
    "a = np.array([[4],\n",
    "              [5],\n",
    "              [6]])\n",
    "b = np.array([1, 2, 3])\n",
    "print(f'{a.shape}\\n{b.shape}')"
   ]
  },
  {
   "cell_type": "code",
   "execution_count": 80,
   "metadata": {
    "id": "Dgm-TeIkieSm"
   },
   "outputs": [
    {
     "data": {
      "text/plain": [
       "array([[5, 6, 7],\n",
       "       [6, 7, 8],\n",
       "       [7, 8, 9]])"
      ]
     },
     "execution_count": 80,
     "metadata": {},
     "output_type": "execute_result"
    }
   ],
   "source": [
    "a + b"
   ]
  },
  {
   "cell_type": "code",
   "execution_count": 81,
   "metadata": {
    "id": "4Bc-_M7_ieSm"
   },
   "outputs": [
    {
     "name": "stdout",
     "output_type": "stream",
     "text": [
      "(2, 3)\n",
      "(2,)\n"
     ]
    }
   ],
   "source": [
    "# Broadcasting - ví dụ 5\n",
    "a = np.array([[4, 5, 6],\n",
    "              [7, 8, 9]])\n",
    "b = np.array([1, 2])\n",
    "print(f'{a.shape}\\n{b.shape}')"
   ]
  },
  {
   "cell_type": "code",
   "execution_count": 84,
   "metadata": {
    "id": "BM7FfN8LieSm"
   },
   "outputs": [
    {
     "ename": "ValueError",
     "evalue": "operands could not be broadcast together with shapes (2,3) (2,) ",
     "output_type": "error",
     "traceback": [
      "\u001b[0;31m---------------------------------------------------------------------------\u001b[0m",
      "\u001b[0;31mValueError\u001b[0m                                Traceback (most recent call last)",
      "Cell \u001b[0;32mIn[84], line 1\u001b[0m\n\u001b[0;32m----> 1\u001b[0m \u001b[43ma\u001b[49m\u001b[43m \u001b[49m\u001b[38;5;241;43m*\u001b[39;49m\u001b[43m \u001b[49m\u001b[43mb\u001b[49m\n",
      "\u001b[0;31mValueError\u001b[0m: operands could not be broadcast together with shapes (2,3) (2,) "
     ]
    }
   ],
   "source": [
    "a * b"
   ]
  },
  {
   "cell_type": "code",
   "execution_count": 100,
   "metadata": {
    "id": "RNsyrCE3ieSn"
   },
   "outputs": [
    {
     "name": "stdout",
     "output_type": "stream",
     "text": [
      "[-2.22044605e-17  0.00000000e+00]\n",
      "[1. 1.]\n"
     ]
    }
   ],
   "source": [
    "# Bài tập broadcasting:\n",
    "# Chuẩn hóa để các cột của array data có mean = 0 & std = 1\n",
    "# (Cách làm: lấy mỗi cột trừ cho mean của cột đó,\n",
    "#            rồi chia cho std của cột đó)\n",
    "data = np.random.randint(0, 10, (20, 2))\n",
    "data[:, 1] *= 3\n",
    "# TODO\n",
    "means = data.mean(axis=0)\n",
    "stds = data.std(axis=0)\n",
    "tdata = (data-means)/stds\n",
    "print(tdata.mean(axis=0))\n",
    "print(tdata.std(axis=0))"
   ]
  },
  {
   "cell_type": "markdown",
   "metadata": {
    "id": "Rv4tQSzgieSn"
   },
   "source": [
    "## Áp dụng Numpy để làm một ví dụ thực tế: k-Nearest Neighbors"
   ]
  },
  {
   "cell_type": "code",
   "execution_count": 101,
   "metadata": {
    "id": "gXe_xvdzieSn"
   },
   "outputs": [
    {
     "data": {
      "text/plain": [
       "array([[0.7238472 , 0.96556165],\n",
       "       [0.06577368, 0.15959878],\n",
       "       [0.97697295, 0.94417133],\n",
       "       [0.24768017, 0.65561896],\n",
       "       [0.08049929, 0.75209843],\n",
       "       [0.47314775, 0.17042906],\n",
       "       [0.73137791, 0.2134917 ],\n",
       "       [0.51812388, 0.52769233],\n",
       "       [0.55855975, 0.62638961],\n",
       "       [0.07413852, 0.0019792 ]])"
      ]
     },
     "execution_count": 101,
     "metadata": {},
     "output_type": "execute_result"
    }
   ],
   "source": [
    "X = np.random.rand(10, 2)\n",
    "X"
   ]
  },
  {
   "cell_type": "code",
   "execution_count": 102,
   "metadata": {
    "id": "FdOBO9IwieSn"
   },
   "outputs": [
    {
     "data": {
      "image/png": "[encoded data removed]",
      "text/plain": [
       "<Figure size 640x480 with 1 Axes>"
      ]
     },
     "metadata": {},
     "output_type": "display_data"
    }
   ],
   "source": [
    "plt.scatter(X[:, 0], X[:, 1], s=100);"
   ]
  },
  {
   "cell_type": "code",
   "execution_count": 118,
   "metadata": {
    "id": "qcVcWWS0ieSn"
   },
   "outputs": [
    {
     "data": {
      "text/plain": [
       "(10, 10, 2)"
      ]
     },
     "execution_count": 118,
     "metadata": {},
     "output_type": "execute_result"
    }
   ],
   "source": [
    "# for each pair of points, compute differences in their coordinates\n",
    "diff = X.reshape(len(X),1,-1) - X\n",
    "diff.shape"
   ]
  },
  {
   "cell_type": "code",
   "execution_count": 120,
   "metadata": {
    "id": "wqS52upaieSn"
   },
   "outputs": [
    {
     "data": {
      "text/plain": [
       "array([[[0.00000000e+00, 0.00000000e+00],\n",
       "        [4.33060751e-01, 6.49576161e-01],\n",
       "        [6.40726502e-02, 4.57546087e-04],\n",
       "        [2.26735036e-01, 9.60644746e-02],\n",
       "        [4.13896528e-01, 4.55665464e-02],\n",
       "        [6.28502118e-02, 6.32235848e-01],\n",
       "        [5.67116385e-05, 5.65609213e-01],\n",
       "        [4.23220826e-02, 1.91729542e-01],\n",
       "        [2.73199388e-02, 1.15037678e-01],\n",
       "        [4.22121365e-01, 9.28491142e-01]],\n",
       "\n",
       "       [[4.33060751e-01, 6.49576161e-01],\n",
       "        [0.00000000e+00, 0.00000000e+00],\n",
       "        [8.30284117e-01, 6.15554088e-01],\n",
       "        [3.30899708e-02, 2.46036021e-01],\n",
       "        [2.16843544e-04, 3.51055844e-01],\n",
       "        [1.65953632e-01, 1.17294979e-04],\n",
       "        [4.43028988e-01, 2.90444747e-03],\n",
       "        [2.04620702e-01, 1.35492867e-01],\n",
       "        [2.42838112e-01, 2.17893680e-01],\n",
       "        [6.99705050e-05, 2.48439301e-02]],\n",
       "\n",
       "       [[6.40726502e-02, 4.57546087e-04],\n",
       "        [8.30284117e-01, 6.15554088e-01],\n",
       "        [0.00000000e+00, 0.00000000e+00],\n",
       "        [5.31867966e-01, 8.32624695e-02],\n",
       "        [8.03665033e-01, 3.68919964e-02],\n",
       "        [2.53839837e-01, 5.98677101e-01],\n",
       "        [6.03169269e-02, 5.33892715e-01],\n",
       "        [2.10542474e-01, 1.73454753e-01],\n",
       "        [1.75069608e-01, 1.00985222e-01],\n",
       "        [8.15110020e-01, 8.87726001e-01]],\n",
       "\n",
       "       [[2.26735036e-01, 9.60644746e-02],\n",
       "        [3.30899708e-02, 2.46036021e-01],\n",
       "        [5.31867966e-01, 8.32624695e-02],\n",
       "        [0.00000000e+00, 0.00000000e+00],\n",
       "        [2.79494469e-02, 9.30828915e-03],\n",
       "        [5.08356297e-02, 2.35409241e-01],\n",
       "        [2.33963502e-01, 1.95476511e-01],\n",
       "        [7.31398001e-02, 1.63652215e-02],\n",
       "        [9.66461147e-02, 8.54355007e-04],\n",
       "        [3.01167049e-02, 4.27244931e-01]],\n",
       "\n",
       "       [[4.13896528e-01, 4.55665464e-02],\n",
       "        [2.16843544e-04, 3.51055844e-01],\n",
       "        [8.03665033e-01, 3.68919964e-02],\n",
       "        [2.79494469e-02, 9.30828915e-03],\n",
       "        [0.00000000e+00, 0.00000000e+00],\n",
       "        [1.54172814e-01, 3.38339264e-01],\n",
       "        [4.23642977e-01, 2.90097211e-01],\n",
       "        [1.91515282e-01, 5.03580980e-02],\n",
       "        [2.28541806e-01, 1.58027092e-02],\n",
       "        [4.04594081e-05, 5.62678862e-01]],\n",
       "\n",
       "       [[6.28502118e-02, 6.32235848e-01],\n",
       "        [1.65953632e-01, 1.17294979e-04],\n",
       "        [2.53839837e-01, 5.98677101e-01],\n",
       "        [5.08356297e-02, 2.35409241e-01],\n",
       "        [1.54172814e-01, 3.38339264e-01],\n",
       "        [0.00000000e+00, 0.00000000e+00],\n",
       "        [6.66828146e-02, 1.85439142e-03],\n",
       "        [2.02285223e-03, 1.27637049e-01],\n",
       "        [7.29521012e-03, 2.07900023e-01],\n",
       "        [1.59208367e-01, 2.83753536e-02]],\n",
       "\n",
       "       [[5.67116385e-05, 5.65609213e-01],\n",
       "        [4.43028988e-01, 2.90444747e-03],\n",
       "        [6.03169269e-02, 5.33892715e-01],\n",
       "        [2.33963502e-01, 1.95476511e-01],\n",
       "        [4.23642977e-01, 2.90097211e-01],\n",
       "        [6.66828146e-02, 1.85439142e-03],\n",
       "        [0.00000000e+00, 0.00000000e+00],\n",
       "        [4.54772807e-02, 9.87220366e-02],\n",
       "        [2.98661150e-02, 1.70484680e-01],\n",
       "        [4.31963616e-01, 4.47375377e-02]],\n",
       "\n",
       "       [[4.23220826e-02, 1.91729542e-01],\n",
       "        [2.04620702e-01, 1.35492867e-01],\n",
       "        [2.10542474e-01, 1.73454753e-01],\n",
       "        [7.31398001e-02, 1.63652215e-02],\n",
       "        [1.91515282e-01, 5.03580980e-02],\n",
       "        [2.02285223e-03, 1.27637049e-01],\n",
       "        [4.54772807e-02, 9.87220366e-02],\n",
       "        [0.00000000e+00, 0.00000000e+00],\n",
       "        [1.63505980e-03, 9.74115182e-03],\n",
       "        [1.97123001e-01, 2.76374296e-01]],\n",
       "\n",
       "       [[2.73199388e-02, 1.15037678e-01],\n",
       "        [2.42838112e-01, 2.17893680e-01],\n",
       "        [1.75069608e-01, 1.00985222e-01],\n",
       "        [9.66461147e-02, 8.54355007e-04],\n",
       "        [2.28541806e-01, 1.58027092e-02],\n",
       "        [7.29521012e-03, 2.07900023e-01],\n",
       "        [2.98661150e-02, 1.70484680e-01],\n",
       "        [1.63505980e-03, 9.74115182e-03],\n",
       "        [0.00000000e+00, 0.00000000e+00],\n",
       "        [2.34663932e-01, 3.89888354e-01]],\n",
       "\n",
       "       [[4.22121365e-01, 9.28491142e-01],\n",
       "        [6.99705050e-05, 2.48439301e-02],\n",
       "        [8.15110020e-01, 8.87726001e-01],\n",
       "        [3.01167049e-02, 4.27244931e-01],\n",
       "        [4.04594081e-05, 5.62678862e-01],\n",
       "        [1.59208367e-01, 2.83753536e-02],\n",
       "        [4.31963616e-01, 4.47375377e-02],\n",
       "        [1.97123001e-01, 2.76374296e-01],\n",
       "        [2.34663932e-01, 3.89888354e-01],\n",
       "        [0.00000000e+00, 0.00000000e+00]]])"
      ]
     },
     "execution_count": 120,
     "metadata": {},
     "output_type": "execute_result"
    }
   ],
   "source": [
    "# square the coordinate differences\n",
    "sq_diff = diff**2\n",
    "sq_diff"
   ]
  },
  {
   "cell_type": "code",
   "execution_count": 124,
   "metadata": {
    "id": "uTy3RN-SieSn"
   },
   "outputs": [
    {
     "name": "stdout",
     "output_type": "stream",
     "text": [
      "[[0.         1.08263691 0.0645302  0.32279951 0.45946307 0.69508606\n",
      "  0.56566592 0.23405162 0.14235762 1.35061251]\n",
      " [1.08263691 0.         1.44583821 0.27912599 0.35127269 0.16607093\n",
      "  0.44593344 0.34011357 0.46073179 0.0249139 ]\n",
      " [0.0645302  1.44583821 0.         0.61513044 0.84055703 0.85251694\n",
      "  0.59420964 0.38399723 0.27605483 1.70283602]\n",
      " [0.32279951 0.27912599 0.61513044 0.         0.03725774 0.28624487\n",
      "  0.42944001 0.08950502 0.09750047 0.45736164]\n",
      " [0.45946307 0.35127269 0.84055703 0.03725774 0.         0.49251208\n",
      "  0.71374019 0.24187338 0.24434452 0.56271932]\n",
      " [0.69508606 0.16607093 0.85251694 0.28624487 0.49251208 0.\n",
      "  0.06853721 0.1296599  0.21519523 0.18758372]\n",
      " [0.56566592 0.44593344 0.59420964 0.42944001 0.71374019 0.06853721\n",
      "  0.         0.14419932 0.20035079 0.47670115]\n",
      " [0.23405162 0.34011357 0.38399723 0.08950502 0.24187338 0.1296599\n",
      "  0.14419932 0.         0.01137621 0.4734973 ]\n",
      " [0.14235762 0.46073179 0.27605483 0.09750047 0.24434452 0.21519523\n",
      "  0.20035079 0.01137621 0.         0.62455229]\n",
      " [1.35061251 0.0249139  1.70283602 0.45736164 0.56271932 0.18758372\n",
      "  0.47670115 0.4734973  0.62455229 0.        ]]\n"
     ]
    }
   ],
   "source": [
    "# sum the coordinate differences to get the squared distance\n",
    "dist_sq=sq_diff.sum(-1)\n",
    "print(dist_sq)"
   ]
  },
  {
   "cell_type": "code",
   "execution_count": 125,
   "metadata": {
    "id": "duiItoLQieSn"
   },
   "outputs": [
    {
     "data": {
      "text/plain": [
       "array([0., 0., 0., 0., 0., 0., 0., 0., 0., 0.])"
      ]
     },
     "execution_count": 125,
     "metadata": {},
     "output_type": "execute_result"
    }
   ],
   "source": [
    "dist_sq.diagonal()"
   ]
  },
  {
   "cell_type": "code",
   "execution_count": 126,
   "metadata": {
    "id": "I_Esq_jWieSo"
   },
   "outputs": [
    {
     "data": {
      "text/plain": [
       "array([[0, 2, 8, 7, 3, 4, 6, 5, 1, 9],\n",
       "       [1, 9, 5, 3, 7, 4, 6, 8, 0, 2],\n",
       "       [2, 0, 8, 7, 6, 3, 4, 5, 1, 9],\n",
       "       [3, 4, 7, 8, 1, 5, 0, 6, 9, 2],\n",
       "       [4, 3, 7, 8, 1, 0, 5, 9, 6, 2],\n",
       "       [5, 6, 7, 1, 9, 8, 3, 4, 0, 2],\n",
       "       [6, 5, 7, 8, 3, 1, 9, 0, 2, 4],\n",
       "       [7, 8, 3, 5, 6, 0, 4, 1, 2, 9],\n",
       "       [8, 7, 3, 0, 6, 5, 4, 2, 1, 9],\n",
       "       [9, 1, 5, 3, 7, 6, 4, 8, 0, 2]])"
      ]
     },
     "execution_count": 126,
     "metadata": {},
     "output_type": "execute_result"
    }
   ],
   "source": [
    "nearest = np.argsort(dist_sq,axis=1)\n",
    "nearest"
   ]
  },
  {
   "cell_type": "code",
   "execution_count": 140,
   "metadata": {
    "id": "iJw0ABNnieSo"
   },
   "outputs": [
    {
     "name": "stdout",
     "output_type": "stream",
     "text": [
      "[[2 8]\n",
      " [9 5]\n",
      " [0 8]\n",
      " [4 7]\n",
      " [3 7]\n",
      " [6 7]\n",
      " [5 7]\n",
      " [8 3]\n",
      " [7 3]\n",
      " [1 5]]\n"
     ]
    }
   ],
   "source": [
    "K = 2\n",
    "nearest_partition = nearest[:,1:K+1]\n",
    "print(nearest_partition)"
   ]
  },
  {
   "cell_type": "code",
   "execution_count": 141,
   "metadata": {
    "id": "woHE2iBcieSo"
   },
   "outputs": [
    {
     "data": {
      "image/png": "[encoded data removed]",
      "text/plain": [
       "<Figure size 640x480 with 1 Axes>"
      ]
     },
     "metadata": {},
     "output_type": "display_data"
    }
   ],
   "source": [
    "plt.scatter(X[:, 0], X[:, 1], s=100)\n",
    "\n",
    "# draw lines from each point to its two nearest neighbors\n",
    "K = 2\n",
    "\n",
    "for i in range(X.shape[0]):\n",
    "    for j in nearest_partition[i, :]:\n",
    "        # plot a line from X[i] to X[j]\n",
    "        # use some zip magic to make it happen:\n",
    "        plt.plot(*zip(X[j], X[i]), color='black')"
   ]
  },
  {
   "cell_type": "code",
   "execution_count": 138,
   "metadata": {
    "id": "1Js4nUykieSo"
   },
   "outputs": [
    {
     "data": {
      "text/plain": [
       "array([[0, 2, 8, 7, 3, 4, 6, 5, 1, 9],\n",
       "       [9, 1, 5, 3, 7, 4, 6, 2, 8, 0],\n",
       "       [8, 2, 0, 7, 3, 6, 4, 5, 1, 9],\n",
       "       [3, 7, 4, 8, 1, 5, 0, 6, 2, 9],\n",
       "       [3, 7, 4, 8, 1, 0, 6, 5, 2, 9],\n",
       "       [5, 6, 7, 1, 9, 8, 3, 4, 2, 0],\n",
       "       [5, 6, 7, 8, 3, 1, 9, 0, 2, 4],\n",
       "       [3, 8, 7, 5, 0, 6, 4, 1, 2, 9],\n",
       "       [8, 7, 3, 0, 6, 5, 4, 1, 2, 9],\n",
       "       [9, 1, 5, 3, 7, 6, 4, 2, 8, 0]])"
      ]
     },
     "execution_count": 138,
     "metadata": {},
     "output_type": "execute_result"
    }
   ],
   "source": [
    "#dist_sq\n",
    "K= 2\n",
    "nearest_partition =np.argpartition(dist_sq, K+1,axis = 1)\n",
    "nearest_partition"
   ]
  },
  {
   "cell_type": "code",
   "execution_count": 142,
   "metadata": {
    "id": "vGwQbxFvieSo"
   },
   "outputs": [
    {
     "data": {
      "image/png": "[encoded data removed]",
      "text/plain": [
       "<Figure size 640x480 with 1 Axes>"
      ]
     },
     "metadata": {},
     "output_type": "display_data"
    }
   ],
   "source": [
    "plt.scatter(X[:, 0], X[:, 1], s=100)\n",
    "\n",
    "# draw lines from each point to its two nearest neighbors\n",
    "K = 2\n",
    "\n",
    "for i in range(X.shape[0]):\n",
    "    for j in nearest_partition[i, :K+1]:\n",
    "        # plot a line from X[i] to X[j]\n",
    "        # use some zip magic to make it happen:\n",
    "        plt.plot(*zip(X[j], X[i]), color='black')"
   ]
  },
  {
   "cell_type": "code",
   "execution_count": null,
   "metadata": {
    "id": "SNhaGGzFieSp"
   },
   "outputs": [],
   "source": []
  },
  {
   "cell_type": "markdown",
   "metadata": {
    "id": "mf2zOwkxieSp",
    "tags": []
   },
   "source": [
    "## Áp dụng Numpy để làm một ví dụ thực tế: recommender system"
   ]
  },
  {
   "cell_type": "code",
   "execution_count": 143,
   "metadata": {
    "id": "QfAUAxZ3ieSp"
   },
   "outputs": [
    {
     "data": {
      "text/plain": [
       "array([[ 5.,  4., nan,  1., nan],\n",
       "       [nan,  4.,  4.,  2.,  2.],\n",
       "       [ 3., nan, nan,  5.,  5.],\n",
       "       [nan,  3.,  4.,  4., nan]])"
      ]
     },
     "execution_count": 143,
     "metadata": {},
     "output_type": "execute_result"
    }
   ],
   "source": [
    "# Đọc file Ratings-Small.csv vào Numpy array\n",
    "# Trong file này:\n",
    "# - Mỗi cột ứng với một phim\n",
    "# - Mỗi dòng ứng với một người dùng, và cho biết người này đã\n",
    "#   cho mỗi phim bao nhiêu điểm (thang 1-5)\n",
    "ratings = np.genfromtxt('Data/Ratings-Small.csv',\n",
    "                        delimiter=',',\n",
    "                        skip_header=1)\n",
    "ratings"
   ]
  },
  {
   "cell_type": "markdown",
   "metadata": {
    "id": "uEmmE_N4ieSp"
   },
   "source": [
    "Mục tiêu ở đây là dự đoán các giá trị thiếu của mỗi người dùng; từ đó, recommend cho người dùng các bộ phim mà ta dự đoán người dùng sẽ cho điểm cao.\n",
    "\n",
    "Để đơn giản, ở đây ta chỉ tập trung làm cho người dùng đầu tiên."
   ]
  },
  {
   "cell_type": "code",
   "execution_count": 144,
   "metadata": {
    "id": "wJoSUfaWieSp"
   },
   "outputs": [],
   "source": [
    "np.set_printoptions(suppress=True) # Để numpy in dễ nhìn"
   ]
  },
  {
   "cell_type": "code",
   "execution_count": 152,
   "metadata": {
    "id": "g-prC6bJieSp",
    "scrolled": true
   },
   "outputs": [
    {
     "data": {
      "text/plain": [
       "array([1000.        ,    1.99600798,    0.33322226,    0.49975012])"
      ]
     },
     "execution_count": 152,
     "metadata": {},
     "output_type": "execute_result"
    }
   ],
   "source": [
    "# Tính trọng số thể hiện cho độ tương tự giữa người dùng đầu tiên\n",
    "# với tất cả người dùng\n",
    "r0 = ratings[0]\n",
    "a = np.abs(ratings - r0)\n",
    "a= np.nanmean(a, axis=1)\n",
    "w = 1/(a+0.001)\n",
    "w"
   ]
  },
  {
   "cell_type": "code",
   "execution_count": 155,
   "metadata": {
    "id": "u5kVbSwPieSp"
   },
   "outputs": [
    {
     "data": {
      "text/plain": [
       "array([[nan, nan],\n",
       "       [ 4.,  2.],\n",
       "       [nan,  5.],\n",
       "       [ 4., nan]])"
      ]
     },
     "execution_count": 155,
     "metadata": {},
     "output_type": "execute_result"
    }
   ],
   "source": [
    "# Lấy ra các cột ứng với các phim\n",
    "# mà người dùng đầu tiên chưa cho điểm\n",
    "b = ratings[:,np.isnan(r0)]\n",
    "b"
   ]
  },
  {
   "cell_type": "code",
   "execution_count": 164,
   "metadata": {
    "id": "ZHWHXXJoieSq"
   },
   "outputs": [
    {
     "data": {
      "text/plain": [
       "array([[0.        , 0.        ],\n",
       "       [0.79976019, 0.85693889],\n",
       "       [0.        , 0.14306111],\n",
       "       [0.20023981, 0.        ]])"
      ]
     },
     "execution_count": 164,
     "metadata": {},
     "output_type": "execute_result"
    }
   ],
   "source": [
    "# Tính ma trận trọng số đã được chuẩn hóa\n",
    "# có cùng shape với kết quả ở trên\n",
    "# (tổng các cột sẽ bằng 1)\n",
    "norm_w = ~np.isnan(b)*w.reshape(-1,1)\n",
    "norm_w =norm_w / norm_w.sum(axis=0)\n",
    "norm_w"
   ]
  },
  {
   "cell_type": "code",
   "execution_count": 167,
   "metadata": {
    "id": "1xfvPeClieSq"
   },
   "outputs": [
    {
     "data": {
      "text/plain": [
       "array([4.        , 2.42918332])"
      ]
     },
     "execution_count": 167,
     "metadata": {},
     "output_type": "execute_result"
    }
   ],
   "source": [
    "# Nhân điểm (rating) với trọng số đã chuẩn hóa rồi cộng lại\n",
    "# là sẽ ra điểm dự đoán cho người dùng đầu tiên\n",
    "np.nansum(norm_w * b,axis =0)"
   ]
  },
  {
   "cell_type": "markdown",
   "metadata": {
    "id": "bhMnPcYBieSq"
   },
   "source": [
    "Như vậy, ta có thể recommend cho người dùng đầu tiên phim có điểm dự đoán cao."
   ]
  }
 ],
 "metadata": {
  "colab": {
   "provenance": []
  },
  "kernelspec": {
   "display_name": "Python 3 (ipykernel)",
   "language": "python",
   "name": "python3"
  },
  "language_info": {
   "codemirror_mode": {
    "name": "ipython",
    "version": 3
   },
   "file_extension": ".py",
   "mimetype": "text/x-python",
   "name": "python",
   "nbconvert_exporter": "python",
   "pygments_lexer": "ipython3",
   "version": "3.10.8"
  },
  "toc": {
   "base_numbering": 1,
   "nav_menu": {},
   "number_sections": false,
   "sideBar": true,
   "skip_h1_title": false,
   "title_cell": "Table of Contents",
   "title_sidebar": "Contents",
   "toc_cell": false,
   "toc_position": {
    "height": "338.4px",
    "left": "140px",
    "top": "32.133px",
    "width": "165px"
   },
   "toc_section_display": true,
   "toc_window_display": false
  }
 },
 "nbformat": 4,
 "nbformat_minor": 4
}
