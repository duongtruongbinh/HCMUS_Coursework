{
 "cells": [
  {
   "cell_type": "markdown",
   "metadata": {
    "id": "DRCOd2oFy42_",
    "tags": []
   },
   "source": [
    "# Numpy"
   ]
  },
  {
   "cell_type": "markdown",
   "metadata": {
    "id": "3lKv0r5By43B"
   },
   "source": [
    "**Reference for numpy**\n",
    "1. [Official Document](https://numpy.org/doc/stable/reference/arrays.html)\n",
    "2. [Python Data Science Handbook\n",
    "](https://jakevdp.github.io/PythonDataScienceHandbook/02.00-introduction-to-numpy.html)\n",
    "3. [Numpy cheat sheet](https://www.datacamp.com/cheat-sheet/numpy-cheat-sheet-data-analysis-in-python)"
   ]
  },
  {
   "cell_type": "code",
   "execution_count": 1,
   "metadata": {
    "hide_input": false,
    "id": "cGeCGrP9y43C"
   },
   "outputs": [],
   "source": [
    "import numpy as np\n",
    "\n",
    "import matplotlib.pyplot as plt\n",
    "import random # Thư viện built-in của Python"
   ]
  },
  {
   "cell_type": "markdown",
   "metadata": {
    "id": "enRXdvv8y43E"
   },
   "source": [
    "Kiểm tra cài đặt numpy"
   ]
  },
  {
   "cell_type": "code",
   "execution_count": 2,
   "metadata": {
    "id": "dZHmO8OJy43E"
   },
   "outputs": [
    {
     "data": {
      "text/plain": [
       "'1.24.1'"
      ]
     },
     "execution_count": 2,
     "metadata": {},
     "output_type": "execute_result"
    }
   ],
   "source": [
    "np.__version__"
   ]
  },
  {
   "cell_type": "markdown",
   "metadata": {
    "id": "Muhy3_J7y43E",
    "tags": []
   },
   "source": [
    "## Tại sao lại cần Numpy"
   ]
  },
  {
   "cell_type": "markdown",
   "metadata": {
    "id": "CTecmewEy43F"
   },
   "source": [
    "Nhân 2 ma trận bằng Python list + vòng lặp:"
   ]
  },
  {
   "cell_type": "code",
   "execution_count": 3,
   "metadata": {
    "id": "5-rqLfNDy43F",
    "tags": []
   },
   "outputs": [
    {
     "name": "stdout",
     "output_type": "stream",
     "text": [
      "1000 500\n",
      "500 1000\n"
     ]
    }
   ],
   "source": [
    "# Tạo 2 ma trận có kích thước 1000x500 và 500x1000\n",
    "nrows1 = 1000; ncols1 = nrows2 = 500; ncols2 = 1000\n",
    "m1_list = []\n",
    "for r in range(nrows1):\n",
    "    row_vals = []\n",
    "    for c in range(ncols1):\n",
    "        row_vals.append(random.randint(-100, 100))\n",
    "    m1_list.append(row_vals)\n",
    "\n",
    "m2_list = []\n",
    "for r in range(nrows2):\n",
    "    row_vals = []\n",
    "    for c in range(ncols2):\n",
    "        row_vals.append(random.randint(-100, 100))\n",
    "    m2_list.append(row_vals)\n",
    "\n",
    "print(len(m1_list), len(m1_list[0]))\n",
    "print(len(m2_list), len(m2_list[0]))"
   ]
  },
  {
   "cell_type": "code",
   "execution_count": 4,
   "metadata": {
    "id": "zr5DWi8Ey43F",
    "tags": []
   },
   "outputs": [
    {
     "name": "stdout",
     "output_type": "stream",
     "text": [
      "CPU times: user 1min 41s, sys: 114 ms, total: 1min 41s\n",
      "Wall time: 1min 41s\n"
     ]
    }
   ],
   "source": [
    "%%time\n",
    "# Nhân 2 ma trận\n",
    "m3_list = []\n",
    "for r in range(nrows1):\n",
    "    row_vals = []\n",
    "    for c in range(ncols2):\n",
    "        temp = 0\n",
    "        for i in range(ncols1):\n",
    "            temp += m1_list[r][i] * m2_list[i][c]\n",
    "        row_vals.append(temp)\n",
    "    m3_list.append(row_vals)"
   ]
  },
  {
   "cell_type": "markdown",
   "metadata": {
    "id": "qhubHIVxy43F"
   },
   "source": [
    "Nhân 2 ma trận bằng Numpy array + toán tử nhân ma trận của Numpy:"
   ]
  },
  {
   "cell_type": "code",
   "execution_count": null,
   "metadata": {
    "id": "7qwMapm5y43F"
   },
   "outputs": [],
   "source": []
  },
  {
   "cell_type": "code",
   "execution_count": null,
   "metadata": {
    "id": "NL00II21y43F"
   },
   "outputs": [],
   "source": []
  },
  {
   "cell_type": "markdown",
   "metadata": {
    "id": "F0uITq49y43G"
   },
   "source": [
    "So sánh 2 cách làm:\n",
    "\n",
    "- Thời gian viết code: ...\n",
    "- Thời gian chạy: ...\n",
    "- Kết quả: ..."
   ]
  },
  {
   "cell_type": "code",
   "execution_count": 5,
   "metadata": {
    "id": "dFJ57722y43G"
   },
   "outputs": [
    {
     "ename": "NameError",
     "evalue": "name 'm3_array' is not defined",
     "output_type": "error",
     "traceback": [
      "\u001b[0;31m---------------------------------------------------------------------------\u001b[0m",
      "\u001b[0;31mNameError\u001b[0m                                 Traceback (most recent call last)",
      "Cell \u001b[0;32mIn[5], line 2\u001b[0m\n\u001b[1;32m      1\u001b[0m \u001b[38;5;66;03m# m3_list có bằng m3_array không?\u001b[39;00m\n\u001b[0;32m----> 2\u001b[0m np\u001b[38;5;241m.\u001b[39mall(np\u001b[38;5;241m.\u001b[39marray(m3_list) \u001b[38;5;241m==\u001b[39m \u001b[43mm3_array\u001b[49m)\n",
      "\u001b[0;31mNameError\u001b[0m: name 'm3_array' is not defined"
     ]
    }
   ],
   "source": [
    "# m3_list có bằng m3_array không?\n",
    "np.all(np.array(m3_list) == m3_array)"
   ]
  },
  {
   "cell_type": "markdown",
   "metadata": {
    "id": "tiCGst1ry43G",
    "tags": []
   },
   "source": [
    "## Tạo Numpy array & xem thông tin của Numpy array"
   ]
  },
  {
   "cell_type": "code",
   "execution_count": null,
   "metadata": {
    "id": "mWNNBvGvy43G"
   },
   "outputs": [],
   "source": [
    "# Tạo 1D array từ list\n"
   ]
  },
  {
   "cell_type": "code",
   "execution_count": null,
   "metadata": {
    "id": "4G6V9vJRy43G"
   },
   "outputs": [],
   "source": [
    "# Tạo 2D array từ list\n"
   ]
  },
  {
   "cell_type": "code",
   "execution_count": null,
   "metadata": {
    "id": "XfQC7kSCy43G"
   },
   "outputs": [],
   "source": [
    "# Xem các thông tin của array\n",
    "print('Số chiều:', )\n",
    "print('Số lượng phần tử của mỗi chiều:', )\n",
    "print('Tổng số lượng phần tử:', )\n",
    "print('Kiểu dữ liệu của mỗi phần tử:', )\n",
    "print('Kích thước (byte) của mỗi phần tử:', )\n",
    "print('Tổng kích thước (byte):', )"
   ]
  },
  {
   "cell_type": "code",
   "execution_count": null,
   "metadata": {
    "id": "ZNVse9ZEy43G"
   },
   "outputs": [],
   "source": [
    "# Tạo ra array toàn với cùng một giá trị, chẳng hạn 0\n",
    " # Shortcut: np.zeros((2,3)) (cũng có np.ones)\n"
   ]
  },
  {
   "cell_type": "code",
   "execution_count": null,
   "metadata": {
    "id": "w2BX5mRFy43H"
   },
   "outputs": [],
   "source": [
    "# Tạo ra array gồm các số được phát sinh ngẫu nghiên\n",
    "# Ví dụ, số nguyên được phát sinh theo phân bố đều trong [0, 10)\n"
   ]
  },
  {
   "cell_type": "code",
   "execution_count": null,
   "metadata": {
    "id": "VPVbN6Ewy43H"
   },
   "outputs": [],
   "source": [
    "# Tạo ra array rỗng (không khởi tạo giá trị)\n"
   ]
  },
  {
   "cell_type": "code",
   "execution_count": null,
   "metadata": {
    "id": "aQsTPLPPy43H"
   },
   "outputs": [],
   "source": [
    "# Tạo ra ma trận đơn vị (identity matrix)\n"
   ]
  },
  {
   "cell_type": "code",
   "execution_count": null,
   "metadata": {
    "id": "bLgNkGJ7y43H"
   },
   "outputs": [],
   "source": [
    "# Tạo ra array gồm các số cách đều nhau\n",
    "# Ví dụ, array gồm: 1, 1.5, 2, 2.5, ..., 5\n",
    "# Cách 1: chỉ định đầu, cuối, và bước nhảy\n"
   ]
  },
  {
   "cell_type": "code",
   "execution_count": null,
   "metadata": {
    "id": "CC_ZkJ8iy43H"
   },
   "outputs": [],
   "source": [
    "# Tạo ra array gồm các số cách đều nhau\n",
    "# Ví dụ, array gồm: 1, 1.5, 2, 2.5, ..., 5\n",
    "# Cách 2: chỉ định đầu, cuối, và số lượng phần tử\n"
   ]
  },
  {
   "cell_type": "code",
   "execution_count": null,
   "metadata": {
    "id": "Ad9Q85wny43H"
   },
   "outputs": [],
   "source": [
    "# Tạo ra array từ một array khác bằng cách thay đổi shape\n"
   ]
  },
  {
   "cell_type": "markdown",
   "metadata": {
    "id": "zyPSVL4Jy43H"
   },
   "source": [
    "`b` trỏ tới một array object khác với `a`:"
   ]
  },
  {
   "cell_type": "code",
   "execution_count": null,
   "metadata": {
    "id": "C8Yh5CPdy43H"
   },
   "outputs": [],
   "source": [
    "b is a"
   ]
  },
  {
   "cell_type": "markdown",
   "metadata": {
    "id": "lEQHYEzLy43I"
   },
   "source": [
    "Nếu object mà `b` trỏ tới hoàn toàn độc lập với object mà `a` trỏ tới thì `b` được gọi là một copy (deep copy) của `a` $\\to$ khi thay đổi dữ liệu ở `b` (ví dụ, cho `b[0, 0] = 99`) thì không làm ảnh hưởng đến dữ liệu ở `a`.\n",
    "\n",
    "Còn nếu object mà `b` trỏ tới dùng chung dữ liệu (một object có khá nhiều thành phần, trong đó có dữ liệu) với object mà `a` trỏ tới thì `b` được gọi là view (shallow copy) của `a` $\\to$ khi thay đổi dữ liệu ở `b` thì sẽ làm thay đổi dữ liệu ở `a`.\n",
    "\n",
    "Ở đây, `b` là có được bằng cách reshape `a`. Vậy `b` là copy hay là view của `a`?\n",
    "\n",
    "Một cách là kiểm tra `b.flags.owndata`. Nếu kết quả là True thì có nghĩa là `b` có dữ liệu độc lập của `b`, tức `b` là copy của `a`; ngược lại `b` là view của `a`."
   ]
  },
  {
   "cell_type": "code",
   "execution_count": null,
   "metadata": {
    "id": "iJGwdhpLy43I"
   },
   "outputs": [],
   "source": []
  },
  {
   "cell_type": "code",
   "execution_count": null,
   "metadata": {
    "id": "-skoeCLUy43I"
   },
   "outputs": [],
   "source": []
  },
  {
   "cell_type": "markdown",
   "metadata": {
    "id": "K-3JiZpdy43I"
   },
   "source": [
    "**Các kiểu dữ liệu của numpy**"
   ]
  },
  {
   "cell_type": "markdown",
   "metadata": {
    "id": "J6u0PVrIy43I"
   },
   "source": [
    "| Data type\t    | Description |\n",
    "|---------------|-------------|\n",
    "| ``bool_``     | Boolean (True or False) stored as a byte |\n",
    "| ``int_``      | Default integer type (same as C ``long``; normally either ``int64`` or ``int32``)|\n",
    "| ``intc``      | Identical to C ``int`` (normally ``int32`` or ``int64``)|\n",
    "| ``intp``      | Integer used for indexing (same as C ``ssize_t``; normally either ``int32`` or ``int64``)|\n",
    "| ``int8``      | Byte (-128 to 127)|\n",
    "| ``int16``     | Integer (-32768 to 32767)|\n",
    "| ``int32``     | Integer (-2147483648 to 2147483647)|\n",
    "| ``int64``     | Integer (-9223372036854775808 to 9223372036854775807)|\n",
    "| ``uint8``     | Unsigned integer (0 to 255)|\n",
    "| ``uint16``    | Unsigned integer (0 to 65535)|\n",
    "| ``uint32``    | Unsigned integer (0 to 4294967295)|\n",
    "| ``uint64``    | Unsigned integer (0 to 18446744073709551615)|\n",
    "| ``float_``    | Shorthand for ``float64``.|\n",
    "| ``float16``   | Half precision float: sign bit, 5 bits exponent, 10 bits mantissa|\n",
    "| ``float32``   | Single precision float: sign bit, 8 bits exponent, 23 bits mantissa|\n",
    "| ``float64``   | Double precision float: sign bit, 11 bits exponent, 52 bits mantissa|\n",
    "| ``complex_``  | Shorthand for ``complex128``.|\n",
    "| ``complex64`` | Complex number, represented by two 32-bit floats|\n",
    "| ``complex128``| Complex number, represented by two 64-bit floats|"
   ]
  },
  {
   "cell_type": "code",
   "execution_count": 11,
   "metadata": {
    "id": "F9NRYbsIy43I",
    "scrolled": true
   },
   "outputs": [
    {
     "data": {
      "text/plain": [
       "array([[ 0.  ,  0.  ,  0.  ,  0.  ],\n",
       "       [10.  , 10.  , 10.  ,  9.5 ],\n",
       "       [10.  ,  9.25,  9.  ,  7.  ],\n",
       "       [10.  ,  9.5 ,  9.85,  8.  ],\n",
       "       [10.  ,  9.75,  9.75,  9.  ],\n",
       "       [10.  , 10.  , 10.  ,  8.5 ],\n",
       "       [10.  , 10.  ,  9.75,  9.  ],\n",
       "       [10.  ,  9.5 ,  9.7 ,  9.  ],\n",
       "       [10.  ,  9.75,  9.35,  9.  ],\n",
       "       [10.  , 10.  ,  9.6 ,  8.  ],\n",
       "       [ 9.  ,  9.25,  9.9 ,  7.5 ],\n",
       "       [10.  , 10.  , 10.  ,  8.  ],\n",
       "       [10.  ,  8.5 ,  5.75,  7.  ],\n",
       "       [10.  ,  9.5 ,  9.75,  8.  ],\n",
       "       [ 9.25, 10.  , 10.  ,  8.5 ],\n",
       "       [10.  , 10.  , 10.  , 10.  ],\n",
       "       [ 8.5 ,  8.25,  0.  ,  0.  ],\n",
       "       [10.  , 10.  ,  9.9 ,  9.  ],\n",
       "       [10.  ,  9.5 ,  9.45,  9.  ],\n",
       "       [ 9.75, 10.  , 10.  ,  9.  ],\n",
       "       [10.  , 10.  ,  9.  , 10.  ],\n",
       "       [10.  ,  9.75, 10.  , 10.  ],\n",
       "       [ 9.75,  9.5 ,  5.25,  6.5 ],\n",
       "       [ 9.75,  9.75, 10.  ,  9.5 ],\n",
       "       [ 9.5 , 10.  , 10.  ,  7.5 ],\n",
       "       [10.  ,  9.25,  9.9 ,  9.  ],\n",
       "       [10.  , 10.  , 10.  ,  7.5 ],\n",
       "       [ 9.5 , 10.  ,  9.75,  9.5 ],\n",
       "       [ 9.75, 10.  ,  9.4 ,  7.  ],\n",
       "       [ 1.5 ,  5.5 ,  9.  ,  7.5 ],\n",
       "       [10.  ,  8.  , 10.  ,  9.  ],\n",
       "       [10.  ,  9.  , 10.  ,  9.  ],\n",
       "       [ 9.75, 10.  ,  9.6 ,  7.  ],\n",
       "       [10.  , 10.  , 10.  ,  7.  ],\n",
       "       [ 8.75, 10.  ,  8.25,  7.5 ],\n",
       "       [ 0.  ,  9.  ,  9.55,  6.5 ],\n",
       "       [ 9.5 , 10.  ,  9.75,  6.5 ],\n",
       "       [ 9.75,  9.5 ,  9.2 ,  7.  ],\n",
       "       [ 0.  ,  9.75,  0.  ,  8.5 ],\n",
       "       [10.  ,  9.5 ,  9.8 ,  6.5 ],\n",
       "       [10.  , 10.  , 10.  ,  9.  ],\n",
       "       [ 9.5 , 10.  ,  9.  ,  8.5 ],\n",
       "       [10.  , 10.  , 10.  , 10.  ],\n",
       "       [ 0.  ,  8.5 ,  9.6 ,  9.  ],\n",
       "       [ 9.75, 10.  , 10.  ,  8.  ]])"
      ]
     },
     "execution_count": 11,
     "metadata": {},
     "output_type": "execute_result"
    }
   ],
   "source": [
    "# Tạo array từ file\n",
    "# File 'P4DS-Grades.csv' chứa điểm môn này của khóa trước ;-)\n",
    "# 3 cột đầu ứng với điểm 3 HW (mỗi HW chiếm 50%/3 tổng điểm)\n",
    "# cột cuối ứng điểm đồ án cuối kỳ (chiếm 50% tổng điểm)\n",
    "p4ds_grades = np.genfromtxt('Data/P4DS-Grades.csv',delimiter=',',skip_header=1)\n",
    "p4ds_grades"
   ]
  },
  {
   "cell_type": "markdown",
   "metadata": {
    "id": "MOrC5DzPy43I",
    "tags": []
   },
   "source": [
    "## Truy xuất (và thay đổi) các phần tử trong Numpy array"
   ]
  },
  {
   "cell_type": "markdown",
   "metadata": {
    "heading_collapsed": true,
    "id": "9S4SReXky43I"
   },
   "source": [
    "### Integer indexing"
   ]
  },
  {
   "cell_type": "code",
   "execution_count": null,
   "metadata": {
    "hidden": true,
    "id": "gD9JIwzzy43I"
   },
   "outputs": [],
   "source": [
    "# Sinh viên đầu tiên có điểm đồ án cuối kỳ là bao nhiêu?\n"
   ]
  },
  {
   "cell_type": "code",
   "execution_count": null,
   "metadata": {
    "hidden": true,
    "id": "01ucc9aGy43J",
    "scrolled": true
   },
   "outputs": [],
   "source": [
    "# Sinh viên cuối cùng có điểm đồ án cuối kỳ là bao nhiêu?\n"
   ]
  },
  {
   "cell_type": "code",
   "execution_count": null,
   "metadata": {
    "hidden": true,
    "id": "NyHISBCry43J",
    "scrolled": true
   },
   "outputs": [],
   "source": [
    "# Sửa điểm đồ án cho sinh viên đầu tiên thành 0.5\n"
   ]
  },
  {
   "cell_type": "markdown",
   "metadata": {
    "heading_collapsed": true,
    "id": "F-j-N4gmy43J"
   },
   "source": [
    "### Slicing"
   ]
  },
  {
   "cell_type": "markdown",
   "metadata": {
    "id": "FXMMP07my43N"
   },
   "source": [
    "Tương tự slicing trong List \\\n",
    "**`x[start:stop:step]`**"
   ]
  },
  {
   "cell_type": "code",
   "execution_count": null,
   "metadata": {
    "id": "JIGtEfuky43N"
   },
   "outputs": [],
   "source": []
  },
  {
   "cell_type": "code",
   "execution_count": null,
   "metadata": {
    "id": "V-Dvmpksy43N"
   },
   "outputs": [],
   "source": [
    "# Lấy các phần tử ở vị trí chẵn\n"
   ]
  },
  {
   "cell_type": "code",
   "execution_count": null,
   "metadata": {
    "id": "l7QeCULry43O"
   },
   "outputs": [],
   "source": [
    "# Lấy các phần tử ở vị trí lẻ\n"
   ]
  },
  {
   "cell_type": "code",
   "execution_count": null,
   "metadata": {
    "id": "XdjSYj5Qy43O"
   },
   "outputs": [],
   "source": [
    "# Đảo ngược dãy số\n"
   ]
  },
  {
   "cell_type": "code",
   "execution_count": null,
   "metadata": {
    "hidden": true,
    "id": "eQ0KwFsvy43O"
   },
   "outputs": [],
   "source": [
    "# 5 sinh viên đầu có điểm 3 HW là bao nhiêu?\n"
   ]
  },
  {
   "cell_type": "code",
   "execution_count": null,
   "metadata": {
    "hidden": true,
    "id": "k4z6iT1wy43P",
    "scrolled": true
   },
   "outputs": [],
   "source": [
    "# Lấy ra cột điểm đồ án cuối kỳ\n"
   ]
  },
  {
   "cell_type": "code",
   "execution_count": null,
   "metadata": {
    "hidden": true,
    "id": "hq1seBSiy43P"
   },
   "outputs": [],
   "source": [
    "# Lấy ra cột điểm đồ án cuối kỳ\n",
    "# bằng cách kết hợp slicing với integer indexing\n",
    " # Array kết quả bị giảm chiều"
   ]
  },
  {
   "cell_type": "code",
   "execution_count": null,
   "metadata": {
    "hidden": true,
    "id": "FB71qqvEy43P",
    "scrolled": true
   },
   "outputs": [],
   "source": [
    "# Sinh viên cuối cùng có các điểm là bao nhiêu?\n",
    "# (lấy ra mảng một chiều)\n",
    " # Hoặc: p4ds_grades[-1]"
   ]
  },
  {
   "cell_type": "code",
   "execution_count": null,
   "metadata": {
    "hidden": true,
    "id": "sHkZq7Zuy43P",
    "scrolled": true
   },
   "outputs": [],
   "source": [
    "# Array có được khi thực hiện slicing\n",
    "# là view hay copy của array ban đầu?\n"
   ]
  },
  {
   "cell_type": "code",
   "execution_count": null,
   "metadata": {
    "hidden": true,
    "id": "bTjpJ9SGy43P"
   },
   "outputs": [],
   "source": [
    "# Để ý sự kết biệt giữa slicing ở Numpy array và slicing ở list\n"
   ]
  },
  {
   "cell_type": "code",
   "execution_count": null,
   "metadata": {
    "id": "6h_bF4Tgy43Q"
   },
   "outputs": [],
   "source": [
    "# Tạo ra mảng copy của mảng gốc\n"
   ]
  },
  {
   "cell_type": "markdown",
   "metadata": {
    "id": "sP03wuJ9y43Q"
   },
   "source": [
    "**Convert mảng 1D thành 2D**"
   ]
  },
  {
   "cell_type": "code",
   "execution_count": null,
   "metadata": {
    "id": "ESpFBb5Zy43Q"
   },
   "outputs": [],
   "source": [
    "x = np.arange(3)\n",
    "x"
   ]
  },
  {
   "cell_type": "code",
   "execution_count": null,
   "metadata": {
    "id": "50IUSQ1Qy43Q"
   },
   "outputs": [],
   "source": [
    "# Dùng reshape\n"
   ]
  },
  {
   "cell_type": "code",
   "execution_count": null,
   "metadata": {
    "id": "e44DhZxZy43R"
   },
   "outputs": [],
   "source": [
    "# Dùng newaxis\n"
   ]
  },
  {
   "cell_type": "code",
   "execution_count": null,
   "metadata": {
    "id": "riFTpwUBy43R"
   },
   "outputs": [],
   "source": [
    "# Dùng newaxis\n"
   ]
  },
  {
   "cell_type": "markdown",
   "metadata": {
    "id": "n15x6YgLy43R"
   },
   "source": [
    "**Nối hai mảng**"
   ]
  },
  {
   "cell_type": "code",
   "execution_count": 6,
   "metadata": {
    "id": "hxWUC4cPy43R"
   },
   "outputs": [],
   "source": [
    "# Nối hai mảng x và y\n",
    "x = np.array([1, 2, 3])\n",
    "y = np.array([3, 2, 1])\n"
   ]
  },
  {
   "cell_type": "code",
   "execution_count": 7,
   "metadata": {
    "id": "Zr2X63Yvy43S"
   },
   "outputs": [],
   "source": [
    "# Nối mảng 2D\n",
    "grid = np.array([[1, 2, 3],\n",
    "                 [4, 5, 6]])"
   ]
  },
  {
   "cell_type": "code",
   "execution_count": 8,
   "metadata": {
    "id": "McmxUjfoy43S"
   },
   "outputs": [
    {
     "data": {
      "text/plain": [
       "array([[1, 2, 3, 1, 2, 3],\n",
       "       [4, 5, 6, 4, 5, 6]])"
      ]
     },
     "execution_count": 8,
     "metadata": {},
     "output_type": "execute_result"
    }
   ],
   "source": [
    "# Nối theo chiều ngang\n",
    "np.concatenate([grid,grid],axis=1)\n"
   ]
  },
  {
   "cell_type": "code",
   "execution_count": null,
   "metadata": {
    "id": "3I_B6SvQy43S"
   },
   "outputs": [],
   "source": [
    "# Nối theo chiều dọc\n"
   ]
  },
  {
   "cell_type": "markdown",
   "metadata": {
    "heading_collapsed": true,
    "id": "aZl0nG9Vy43S"
   },
   "source": [
    "### Bool array indexing"
   ]
  },
  {
   "cell_type": "code",
   "execution_count": 12,
   "metadata": {
    "hidden": true,
    "id": "7sSI5pCNy43S"
   },
   "outputs": [
    {
     "data": {
      "text/plain": [
       "array([0., 0.])"
      ]
     },
     "execution_count": 12,
     "metadata": {},
     "output_type": "execute_result"
    }
   ],
   "source": [
    "# Lấy ra các điểm đồ án cuối kỳ < 5\n",
    "project_grade = p4ds_grades[:,-1]\n",
    "project_grade[project_grade<5]"
   ]
  },
  {
   "cell_type": "code",
   "execution_count": 13,
   "metadata": {
    "hidden": true,
    "id": "ZKSxr6Sky43S"
   },
   "outputs": [
    {
     "data": {
      "text/plain": [
       "array([8. , 9. , 8.5, 9. , 9. , 9. , 8. , 8. , 8. , 8.5, 9. , 9. , 9. ,\n",
       "       9. , 9. , 9. , 8.5, 9. , 8.5, 9. , 8. ])"
      ]
     },
     "execution_count": 13,
     "metadata": {},
     "output_type": "execute_result"
    }
   ],
   "source": [
    "# Lấy ra các điểm đồ án cuối kỳ >= 8 và <= 9\n",
    "project_grade[(project_grade >=8) & (project_grade<=9)]"
   ]
  },
  {
   "cell_type": "markdown",
   "metadata": {
    "id": "8g9ngF_Hy43T"
   },
   "source": [
    "**Sự khác biệt giữa `and` và `&`** \\\n",
    "`and` : boolean AND \\\n",
    "`&`: bitwise AND"
   ]
  },
  {
   "cell_type": "code",
   "execution_count": 14,
   "metadata": {
    "id": "GJmwjMAty43T"
   },
   "outputs": [
    {
     "data": {
      "text/plain": [
       "True"
      ]
     },
     "execution_count": 14,
     "metadata": {},
     "output_type": "execute_result"
    }
   ],
   "source": [
    "0 < 1 and 0 < 2"
   ]
  },
  {
   "cell_type": "code",
   "execution_count": 15,
   "metadata": {
    "id": "D1IWBRVIy43T"
   },
   "outputs": [
    {
     "data": {
      "text/plain": [
       "4"
      ]
     },
     "execution_count": 15,
     "metadata": {},
     "output_type": "execute_result"
    }
   ],
   "source": [
    "5&6"
   ]
  },
  {
   "cell_type": "code",
   "execution_count": 16,
   "metadata": {
    "id": "w-ANiQR6y43T"
   },
   "outputs": [
    {
     "name": "stdout",
     "output_type": "stream",
     "text": [
      "[False False  True False  True]\n",
      "[ True  True  True  True  True]\n",
      "[False False  True False  True]\n",
      "[ True  True  True  True  True]\n"
     ]
    }
   ],
   "source": [
    "a = np.random.choice(a=[False, True],size=5)\n",
    "b = np.random.choice(a=[False, True],size=5)\n",
    "print(a)\n",
    "print(b)\n",
    "print(a&b)\n",
    "print(a|b)"
   ]
  },
  {
   "cell_type": "code",
   "execution_count": 24,
   "metadata": {
    "hidden": true,
    "id": "olDvW0Kfy43T"
   },
   "outputs": [
    {
     "data": {
      "text/plain": [
       "array([[10.],\n",
       "       [10.],\n",
       "       [10.],\n",
       "       [10.]])"
      ]
     },
     "execution_count": 24,
     "metadata": {},
     "output_type": "execute_result"
    }
   ],
   "source": [
    "# Lấy ra điểm HW1 của các sinh viên có điểm đồ án cuối kỳ = 10\n",
    "# bằng cách kết hợp bool array indexing với integer indexing\n",
    "p4ds_grades[project_grade==10,0:1]\n"
   ]
  },
  {
   "cell_type": "code",
   "execution_count": null,
   "metadata": {
    "hidden": true,
    "id": "C3NGtRCZy43U"
   },
   "outputs": [],
   "source": [
    "# Lấy ra các điểm ứng với các sinh viên có điểm đồ án cuối kỳ = 10\n",
    "# bằng cách kết hợp bool array indexing với slicing\n"
   ]
  },
  {
   "cell_type": "markdown",
   "metadata": {
    "heading_collapsed": true,
    "id": "VLw64tRty43U"
   },
   "source": [
    "### Integer array indexing"
   ]
  },
  {
   "cell_type": "code",
   "execution_count": 25,
   "metadata": {},
   "outputs": [
    {
     "name": "stdout",
     "output_type": "stream",
     "text": [
      "[6 7 9 2 0 0 7]\n",
      "[9 2]\n"
     ]
    }
   ],
   "source": [
    "a =np.random.randint(0,10,7)\n",
    "print(a)\n",
    "print(a[[2,3]])"
   ]
  },
  {
   "cell_type": "code",
   "execution_count": 30,
   "metadata": {
    "hidden": true,
    "id": "ANYwVHGry43U"
   },
   "outputs": [
    {
     "data": {
      "text/plain": [
       "array([0.  , 9.75, 8.  ])"
      ]
     },
     "execution_count": 30,
     "metadata": {},
     "output_type": "execute_result"
    }
   ],
   "source": [
    "# Lấy ra điểm HW1 của sinh viên thứ nhất\n",
    "#        điểm HW2 của sinh viên thứ năm\n",
    "#        điểm đồ án cuối kỳ của sinh viên thứ mười\n",
    "p4ds_grades[[0,4,9],[0,1,-1]]"
   ]
  },
  {
   "cell_type": "code",
   "execution_count": 32,
   "metadata": {
    "hidden": true,
    "id": "20zkml34y43U"
   },
   "outputs": [
    {
     "data": {
      "text/plain": [
       "array([[ 9.75, 10.  ,  9.6 ,  7.  ],\n",
       "       [ 9.75, 10.  , 10.  ,  8.  ],\n",
       "       [ 9.75, 10.  , 10.  ,  9.  ],\n",
       "       [10.  , 10.  , 10.  , 10.  ],\n",
       "       [ 0.  ,  9.75,  0.  ,  8.5 ]])"
      ]
     },
     "execution_count": 32,
     "metadata": {},
     "output_type": "execute_result"
    }
   ],
   "source": [
    "# Lấy ra ngẫu nhiên 5 sinh viên để xem điểm\n",
    "p4ds_grades[np.random.randint(0,len(p4ds_grades),5)]"
   ]
  },
  {
   "cell_type": "code",
   "execution_count": 36,
   "metadata": {},
   "outputs": [
    {
     "data": {
      "text/plain": [
       "array([33, 25, 41, 27, 34])"
      ]
     },
     "execution_count": 36,
     "metadata": {},
     "output_type": "execute_result"
    }
   ],
   "source": [
    "index = np.random.permutation(len(p4ds_grades))[:5]\n",
    "index"
   ]
  },
  {
   "cell_type": "markdown",
   "metadata": {
    "id": "WE3V4Ey2y43U",
    "tags": []
   },
   "source": [
    "## Fun example: vẽ hình"
   ]
  },
  {
   "cell_type": "markdown",
   "metadata": {
    "id": "cnlwruSJy43V"
   },
   "source": [
    "Vẽ bàn cờ 8x8 như hình. Bạn có thể tùy ý chọn màu cho ô (xem giá trị rgb của các màu [ở đây](https://flaviocopes.com/rgb-color-codes/)). Nếu bạn có array 3 chiều với `shape` là height x with x 3 và `dtype` là `np.uint8` thì bạn có thể trực quan hóa array này dưới dạng ảnh bằng hàm `plt.imshow`.\n",
    "![image.png](data:image/png;base64,iVBORw0KGgoAAAANSUhEUgAAAPUAAAD4CAYAAAA0L6C7AAAAOXRFWHRTb2Z0d2FyZQBNYXRwbG90bGliIHZlcnNpb24zLjQuMSwgaHR0cHM6Ly9tYXRwbG90bGliLm9yZy/Z1A+gAAAACXBIWXMAAAsTAAALEwEAmpwYAAAL7UlEQVR4nO3dXahl9XnH8e8vozYZnaBEG6wjGiH4QqBqB2kQpNU0mCaYm14oTKChZXrRBKWFYOpFyYW3Ib0ogUFNhfGF1EQIYk2ERCTQJvE10ZmxGJng1NgxxOA4gcqYpxdnW47xTGadffZ/z+nj9wOH2fvszXqev+Nv1tp7r72eVBWS+njPiW5A0mIZaqkZQy01Y6ilZgy11MxJIza67fST6gN/8HsjNv0OP9v366XUATjv4q1LqwV919Z1XbDctVVV1vp9Rnykdf4lp9Ytey5a+HbXsuuPnlhKHYDdj1++tFrQd21d1wXLXduxQu3ht9SMoZaaMdRSM4ZaasZQS80YaqkZQy01Y6ilZgy11MykUCe5NslzSZ5PcvPopiTN77ihTrIF+GfgE8AlwA1JLhndmKT5TNlTXwE8X1UvVNUbwL3Ap8e2JWleU0J9DvDiqvsHZ797myS7kjyW5LHDrx5dVH+S1mlKqNf6Jsg7vtpVVburakdV7dh2xpBvdEqaYEqoDwLnrrq/HXhpTDuSNmpKqH8EfDjJh5KcAlwPfGtsW5Lmddzj5Ko6muRzwLeBLcAdVfXs8M4kzWXSi9+qehB4cHAvkhbAM8qkZgy11Iyhlpox1FIzhlpqxlBLzRhqqZkhEzqSLG2SfdfJEtB3bV3XBctb260793Ng7xEndEjvBoZaasZQS80YaqkZQy01Y6ilZgy11Iyhlpox1FIzhlpqZsqEjjuSHEryzDIakrQxU/bU/wJcO7gPSQty3FBX1aPAL5fQi6QFWNgojSS7gF2L2p6k+Sws1FW1G9gNy/3qpaS3891vqRlDLTUz5SOte4B/By5McjDJX41vS9K8pszSumEZjUhaDA+/pWYMtdSMoZaaMdRSM4ZaasZQS80YaqmZhZ37vdp5F2/llj0Xjdj0O3QdFwN919Z1XbD8MT9rcU8tNWOopWYMtdSMoZaaMdRSM4ZaasZQS80YaqkZQy01Y6ilZqZco+zcJN9Lsi/Js0luXEZjkuYz5dzvo8DfV9UTSbYBjyd5uKr2Du5N0hymjN35eVU9Mbt9GNgHnDO6MUnzWddr6iTnA5cBP1jjsV1JHkvy2OFXjy6oPUnrNTnUSU4DvgHcVFWv/fbjVbW7qnZU1Y5tZwz5RqekCSaFOsnJrAT6rqr65tiWJG3ElHe/A9wO7KuqL49vSdJGTNlTXwl8Brg6yVOznz8f3JekOU0Zu/N9IEvoRdICeEaZ1Iyhlpox1FIzhlpqxlBLzRhqqRlDLTVjqKVmUlWL32iy+I0eQ9cZUNB3bV3XBctb260793Ng75E1TwpzTy01Y6ilZgy11Iyhlpox1FIzhlpqxlBLzRhqqRlDLTUz5cKD703ywyRPz8bufGkZjUmaz5QLdP8PcHVVvT67VPD3k/xbVf3H4N4kzWHKhQcLeH129+TZz9LO7Za0PlMv5r8lyVPAIeDhqvqdY3cW3KOkdZgU6qp6s6ouBbYDVyT5yBrP+b+xOwvuUdI6rOvd76r6FfAIcO2IZiRt3JR3v89Kcvrs9vuAjwH7B/claU5T3v0+G7gzyRZW/hH4elU9MLYtSfOa8u73j1mZSS3p/wHPKJOaMdRSM4ZaasZQS80YaqkZQy01Y6ilZgy11MyUM8rW7byLt3LLnotGbPoduo6Lgb5r67ouWP6Yn7W4p5aaMdRSM4ZaasZQS80YaqkZQy01Y6ilZgy11Iyhlpox1FIzk0M9u6D/k0m86KC0ia1nT30jsG9UI5IWY+rYne3AJ4HbxrYjaaOm7qm/AnwB+M2xnrB6ltbhV48uojdJc5gyoeNTwKGqevx3PW/1LK1tZwz5RqekCabsqa8ErktyALgXuDrJnqFdSZrbcUNdVV+squ1VdT5wPfDdqto5vDNJc/FzaqmZdb34rapHWBllK2mTck8tNWOopWYMtdSMoZaaMdRSM4ZaasZQS82kqha/0WTxGz2GruNioO/auq4Llre2W3fu58DeI1nrMffUUjOGWmrGUEvNGGqpGUMtNWOopWYMtdSMoZaaMdRSM4ZaambS5YxmVxI9DLwJHK2qHSObkjS/9Vyj7E+r6hfDOpG0EB5+S81MDXUB30nyeJJdaz1h9didxbUnab2mHn5fWVUvJfl94OEk+6vq0dVPqKrdwG5Y7lcvJb3dpD11Vb00+/MQcD9wxcimJM1vyoC8U5Nse+s28HHgmdGNSZrPlMPvDwL3J3nr+XdX1UNDu5I0t+OGuqpeAP5wCb1IWgA/0pKaMdRSM4ZaasZQS80YaqkZQy01Y6ilZtbz1cvJzrt4K7fsuWjEpt+h67gY6Lu2ruuC5Y/5WYt7aqkZQy01Y6ilZgy11Iyhlpox1FIzhlpqxlBLzRhqqRlDLTUzKdRJTk9yX5L9SfYl+ejoxiTNZ+q53/8EPFRVf5HkFGDrwJ4kbcBxQ53k/cBVwF8CVNUbwBtj25I0rymH3xcArwBfS/Jkkttm1/9+m9Vjdw6/enThjUqaZkqoTwIuB75aVZcBR4Cbf/tJVbW7qnZU1Y5tZwz5RqekCaaE+iBwsKp+MLt/Hyshl7QJHTfUVfUy8GKSC2e/ugbYO7QrSXObepz8eeCu2TvfLwCfHdeSpI2YFOqqegrYMbYVSYvgGWVSM4ZaasZQS80YaqkZQy01Y6ilZgy11IyhlppJVS1+o8niN3oMXWdAQd+1dV0XLG9tt+7cz4G9R7LWY+6ppWYMtdSMoZaaMdRSM4ZaasZQS80YaqkZQy01Y6ilZo4b6iQXJnlq1c9rSW5aQm+S5nDca5RV1XPApQBJtgD/Bdw/ti1J81rv4fc1wE+r6mcjmpG0cesdpXE9cM9aDyTZBezacEeSNmTynnp2ze/rgH9d6/HVY3cW1Zyk9VvP4fcngCeq6r9HNSNp49YT6hs4xqG3pM1jUqiTbAX+DPjm2HYkbdTUsTu/Bj4wuBdJC+AZZVIzhlpqxlBLzRhqqRlDLTVjqKVmDLXUjKGWmhk1ducVYL1fzzwT+MXCmznxtZZdz1rvjlrnVdVZaz0wJNTzSPLYsr7htcxay65nLWt5+C01Y6ilZjZTqHc3rbXsetZ6l9faNK+pJS3GZtpTS1oAQy01sylCneTaJM8leT7JzQPr3JHkUJJnRtVYVevcJN9Lsi/Js0luHFjrvUl+mOTpWa0vjaq1quaWJE8meWAJtQ4k+clsmMRjg2udnuS+JPtnf3cfHVRn3JCMqjqhP8AW4KfABcApwNPAJYNqXQVcDjyzhHWdDVw+u70N+M+B6wpw2uz2ycAPgD8evL6/A+4GHljCf8sDwJmj68xq3Qn89ez2KcDpS6i5BXiZlRNKNry9zbCnvgJ4vqpeqKo3gHuBT48oVFWPAr8cse01av28qp6Y3T4M7APOGVSrqur12d2TZz/D3gFNsh34JHDbqBonQpL3s/IP/+0AVfVGVf1qCaUXOiRjM4T6HODFVfcPMuh//hMlyfnAZazsQUfV2JLkKeAQ8HBVDasFfAX4AvCbgTVWK+A7SR6fDY0Y5QLgFeBrs5cWtyU5dWC9txxzSMY8NkOos8bv2nzOluQ04BvATVX12qg6VfVmVV0KbAeuSPKREXWSfAo4VFWPj9j+MVxZVZezcu35v01y1aA6J7Hy8uyrVXUZcAQY9h4PHH9Ixjw2Q6gPAueuur8deOkE9bJQSU5mJdB3VdVSLq88O1x8BLh2UIkrgeuSHGDlpdLVSfYMqgVAVb00+/MQK8MZrxhU6iBwcNVRzn2shHykhQ/J2Ayh/hHw4SQfmv2rdT3wrRPc04YlCSuvzfZV1ZcH1zoryemz2+8DPgbsH1Grqr5YVdur6nxW/q6+W1U7R9QCSHJqkm1v3QY+Dgz59KKqXgZeTHLh7FfXAHtH1Fpl4UMy1jsgb+Gq6miSzwHfZuVdwDuq6tkRtZLcA/wJcGaSg8A/VtXtI2qxskf7DPCT2WtdgH+oqgcH1DobuHM2avg9wNeravhHTUvyQeD+lX8jOQm4u6oeGljv88Bdsx3MC8BnRxVaNSTjbxa63dlb6pKa2AyH35IWyFBLzRhqqRlDLTVjqKVmDLXUjKGWmvlfTejBjb6nYzMAAAAASUVORK5CYII=)"
   ]
  },
  {
   "cell_type": "code",
   "execution_count": 45,
   "metadata": {
    "id": "vSy7XQV5y43V"
   },
   "outputs": [
    {
     "data": {
      "image/png": "[encoded data removed]",
      "text/plain": [
       "<Figure size 640x480 with 1 Axes>"
      ]
     },
     "metadata": {},
     "output_type": "display_data"
    }
   ],
   "source": [
    "a = np.zeros((8, 8, 3), dtype=np.uint8)\n",
    "yellow_green = [154, 205, 50]\n",
    "a[::2,::2] = yellow_green\n",
    "a[1::2,1::2] = yellow_green\n",
    "plt.imshow(a)\n",
    "plt.xticks(range(8))\n",
    "plt.yticks(range(8));"
   ]
  },
  {
   "cell_type": "markdown",
   "metadata": {
    "id": "Xjb3m7c8y43W",
    "tags": []
   },
   "source": [
    "## Tính toán trên Numpy array"
   ]
  },
  {
   "cell_type": "code",
   "execution_count": 49,
   "metadata": {},
   "outputs": [
    {
     "name": "stdout",
     "output_type": "stream",
     "text": [
      "[ 0  1  2  3  4  5  6  7  8  9 10]\n",
      "[ 2  3  4  5  6  7  8  9 10 11 12]\n",
      "[ 2  4  6  8 10 12 14 16 18 20 22]\n"
     ]
    }
   ],
   "source": [
    "a = np.arange(11)\n",
    "b = np.arange(11)+2\n",
    "print(a)\n",
    "print(b)\n",
    "print(a+b)"
   ]
  },
  {
   "cell_type": "markdown",
   "metadata": {
    "id": "LiGtYiDmy43W"
   },
   "source": [
    "Để sử dụng Numpy hiệu quả thì thay đổi cách tư duy: cần suy nghĩ về <font color=blue>các thao tác tính toán trên nguyên mảng</font> mà Numpy đã cung cấp, chứ không phải là các thao tác tính toán trên từng con số"
   ]
  },
  {
   "cell_type": "markdown",
   "metadata": {
    "id": "npZI3wP8y43W"
   },
   "source": [
    "Hầu hết mọi thao tác tính toán trên mảng mà ta có thể nghĩ tới thì đều đã được Numpy cung cấp:\n",
    "\n",
    "`+`, `np.add`\\\n",
    "`-`, `np.subtract`\\\n",
    "`-`, `np.negative`\\\n",
    "`*`, `np.multiply`\\\n",
    "`@`, `np.dot`\\\n",
    "`/`, `np.divide`\\\n",
    "`//`, `np.floor_divide`\\\n",
    "`**`, `np.power`\\\n",
    "`%`, `np.mod`\\\n",
    "`np.abs`\\\n",
    "`np.exp`\\\n",
    "`np.log`\\\n",
    "...\n",
    "\n",
    "`==`, `np.equal`\\\n",
    "`<`, `np.less`\\\n",
    "`>`, `np.greater`\\\n",
    "`!=`, `np.not_equal`\\\n",
    "`<=`, `np.less_equal`\\\n",
    "`>=`, `np.greater_equal`\\\n",
    "`&`, `np.bitwise_and`\\\n",
    "`|`, `np.bitwise_or`\\\n",
    "`~`, `np.bitwise_not`\\\n",
    "`np.nonzero`\\\n",
    "`np.any`\\\n",
    "`np.all`\\\n",
    "...\n",
    "\n",
    "`np.sum`\\\n",
    "`np.prod`\\\n",
    "`np.min`\\\n",
    "`np.max`\\\n",
    "`np.argmin`\\\n",
    "`np.argmax`\\\n",
    "...\n",
    "\n",
    "`np.mean`\\\n",
    "`np.std`\\\n",
    "`np.percentile`\\\n",
    "`np.histogram`\\\n",
    "`np.unique`\\\n",
    "`np.sort`\\\n",
    "`np.argsort`\\\n",
    "...\n",
    "\n",
    "Với một tính toán nào đó trên Numpy array, ngoài dạng hàm (hoặc toán tử) thì thường ta cũng có thể gọi phương thức tương đương từ Numpy array \\\n",
    "$\\to$ Giúp đáp ứng các \"khẩu vị code\" khác nhau của người dùng"
   ]
  },
  {
   "cell_type": "code",
   "execution_count": 53,
   "metadata": {
    "id": "AgXuEAnEy43W"
   },
   "outputs": [
    {
     "data": {
      "text/plain": [
       "array([10., 10., 10., 10.])"
      ]
     },
     "execution_count": 53,
     "metadata": {},
     "output_type": "execute_result"
    }
   ],
   "source": [
    "# Tính min, max của mỗi cột điểm\n",
    "# để xem có gì bất thường không\n",
    "np.min(p4ds_grades,axis=0)\n",
    "np.max(p4ds_grades,axis=0)"
   ]
  },
  {
   "cell_type": "code",
   "execution_count": 56,
   "metadata": {
    "id": "YBPDLqnSy43W"
   },
   "outputs": [
    {
     "data": {
      "text/plain": [
       "array([ 0. ,  9.8,  8.2,  8.9,  9.4,  9.2,  9.5,  9.4,  9.4,  8.9,  8.4,\n",
       "        9. ,  7.5,  8.9,  9.1, 10. ,  2.8,  9.5,  9.3,  9.5,  9.8, 10. ,\n",
       "        7.3,  9.7,  8.7,  9.4,  8.8,  9.6,  8.4,  6.4,  9.2,  9.3,  8.4,\n",
       "        8.5,  8.2,  6.3,  8.1,  8.2,  5.9,  8.1,  9.5,  9. , 10. ,  7.5,\n",
       "        9. ])"
      ]
     },
     "execution_count": 56,
     "metadata": {},
     "output_type": "execute_result"
    }
   ],
   "source": [
    "# Tính cột điểm tổng kết\n",
    "avg_grades = (p4ds_grades[:,0] *0.5/3\n",
    "            + p4ds_grades[:,1]*0.5/3\n",
    "            + p4ds_grades[:,2]*0.5/3\n",
    "            + p4ds_grades[:,3]*0.5)\n",
    "avg_grades.round(1)"
   ]
  },
  {
   "cell_type": "code",
   "execution_count": 59,
   "metadata": {
    "id": "DJb54G5Ay43W"
   },
   "outputs": [
    {
     "data": {
      "text/plain": [
       "0.044444444444444446"
      ]
     },
     "execution_count": 59,
     "metadata": {},
     "output_type": "execute_result"
    }
   ],
   "source": [
    "# Tỉ lệ SV rớt môn là bao nhiêu?\n",
    "len(avg_grades[avg_grades<5])/len(avg_grades)"
   ]
  },
  {
   "cell_type": "code",
   "execution_count": 61,
   "metadata": {},
   "outputs": [
    {
     "data": {
      "text/plain": [
       "0.044444444444444446"
      ]
     },
     "execution_count": 61,
     "metadata": {},
     "output_type": "execute_result"
    }
   ],
   "source": [
    "a = avg_grades <5\n",
    "np.mean(a)"
   ]
  },
  {
   "cell_type": "markdown",
   "metadata": {
    "id": "R0WJiYucy43X"
   },
   "source": [
    "## Example: Iris dataset extraction"
   ]
  },
  {
   "cell_type": "code",
   "execution_count": 68,
   "metadata": {},
   "outputs": [
    {
     "data": {
      "text/plain": [
       "array([(5.1, 3.5, 1.4, 0.2, 'Iris-setosa'),\n",
       "       (4.9, 3. , 1.4, 0.2, 'Iris-setosa'),\n",
       "       (4.7, 3.2, 1.3, 0.2, 'Iris-setosa'),\n",
       "       (4.6, 3.1, 1.5, 0.2, 'Iris-setosa'),\n",
       "       (5. , 3.6, 1.4, 0.2, 'Iris-setosa'),\n",
       "       (5.4, 3.9, 1.7, 0.4, 'Iris-setosa'),\n",
       "       (4.6, 3.4, 1.4, 0.3, 'Iris-setosa'),\n",
       "       (5. , 3.4, 1.5, 0.2, 'Iris-setosa'),\n",
       "       (4.4, 2.9, 1.4, 0.2, 'Iris-setosa'),\n",
       "       (4.9, 3.1, 1.5, 0.1, 'Iris-setosa'),\n",
       "       (5.4, 3.7, 1.5, 0.2, 'Iris-setosa'),\n",
       "       (4.8, 3.4, 1.6, 0.2, 'Iris-setosa'),\n",
       "       (4.8, 3. , 1.4, 0.1, 'Iris-setosa'),\n",
       "       (4.3, 3. , 1.1, 0.1, 'Iris-setosa'),\n",
       "       (5.8, 4. , 1.2, 0.2, 'Iris-setosa'),\n",
       "       (5.7, 4.4, 1.5, 0.4, 'Iris-setosa'),\n",
       "       (5.4, 3.9, 1.3, 0.4, 'Iris-setosa'),\n",
       "       (5.1, 3.5, 1.4, 0.3, 'Iris-setosa'),\n",
       "       (5.7, 3.8, 1.7, 0.3, 'Iris-setosa'),\n",
       "       (5.1, 3.8, 1.5, 0.3, 'Iris-setosa'),\n",
       "       (5.4, 3.4, 1.7, 0.2, 'Iris-setosa'),\n",
       "       (5.1, 3.7, 1.5, 0.4, 'Iris-setosa'),\n",
       "       (4.6, 3.6, 1. , 0.2, 'Iris-setosa'),\n",
       "       (5.1, 3.3, 1.7, 0.5, 'Iris-setosa'),\n",
       "       (4.8, 3.4, 1.9, 0.2, 'Iris-setosa'),\n",
       "       (5. , 3. , 1.6, 0.2, 'Iris-setosa'),\n",
       "       (5. , 3.4, 1.6, 0.4, 'Iris-setosa'),\n",
       "       (5.2, 3.5, 1.5, 0.2, 'Iris-setosa'),\n",
       "       (5.2, 3.4, 1.4, 0.2, 'Iris-setosa'),\n",
       "       (4.7, 3.2, 1.6, 0.2, 'Iris-setosa'),\n",
       "       (4.8, 3.1, 1.6, 0.2, 'Iris-setosa'),\n",
       "       (5.4, 3.4, 1.5, 0.4, 'Iris-setosa'),\n",
       "       (5.2, 4.1, 1.5, 0.1, 'Iris-setosa'),\n",
       "       (5.5, 4.2, 1.4, 0.2, 'Iris-setosa'),\n",
       "       (4.9, 3.1, 1.5, 0.1, 'Iris-setosa'),\n",
       "       (5. , 3.2, 1.2, 0.2, 'Iris-setosa'),\n",
       "       (5.5, 3.5, 1.3, 0.2, 'Iris-setosa'),\n",
       "       (4.9, 3.1, 1.5, 0.1, 'Iris-setosa'),\n",
       "       (4.4, 3. , 1.3, 0.2, 'Iris-setosa'),\n",
       "       (5.1, 3.4, 1.5, 0.2, 'Iris-setosa'),\n",
       "       (5. , 3.5, 1.3, 0.3, 'Iris-setosa'),\n",
       "       (4.5, 2.3, 1.3, 0.3, 'Iris-setosa'),\n",
       "       (4.4, 3.2, 1.3, 0.2, 'Iris-setosa'),\n",
       "       (5. , 3.5, 1.6, 0.6, 'Iris-setosa'),\n",
       "       (5.1, 3.8, 1.9, 0.4, 'Iris-setosa'),\n",
       "       (4.8, 3. , 1.4, 0.3, 'Iris-setosa'),\n",
       "       (5.1, 3.8, 1.6, 0.2, 'Iris-setosa'),\n",
       "       (4.6, 3.2, 1.4, 0.2, 'Iris-setosa'),\n",
       "       (5.3, 3.7, 1.5, 0.2, 'Iris-setosa'),\n",
       "       (5. , 3.3, 1.4, 0.2, 'Iris-setosa'),\n",
       "       (7. , 3.2, 4.7, 1.4, 'Iris-versicolor'),\n",
       "       (6.4, 3.2, 4.5, 1.5, 'Iris-versicolor'),\n",
       "       (6.9, 3.1, 4.9, 1.5, 'Iris-versicolor'),\n",
       "       (5.5, 2.3, 4. , 1.3, 'Iris-versicolor'),\n",
       "       (6.5, 2.8, 4.6, 1.5, 'Iris-versicolor'),\n",
       "       (5.7, 2.8, 4.5, 1.3, 'Iris-versicolor'),\n",
       "       (6.3, 3.3, 4.7, 1.6, 'Iris-versicolor'),\n",
       "       (4.9, 2.4, 3.3, 1. , 'Iris-versicolor'),\n",
       "       (6.6, 2.9, 4.6, 1.3, 'Iris-versicolor'),\n",
       "       (5.2, 2.7, 3.9, 1.4, 'Iris-versicolor'),\n",
       "       (5. , 2. , 3.5, 1. , 'Iris-versicolor'),\n",
       "       (5.9, 3. , 4.2, 1.5, 'Iris-versicolor'),\n",
       "       (6. , 2.2, 4. , 1. , 'Iris-versicolor'),\n",
       "       (6.1, 2.9, 4.7, 1.4, 'Iris-versicolor'),\n",
       "       (5.6, 2.9, 3.6, 1.3, 'Iris-versicolor'),\n",
       "       (6.7, 3.1, 4.4, 1.4, 'Iris-versicolor'),\n",
       "       (5.6, 3. , 4.5, 1.5, 'Iris-versicolor'),\n",
       "       (5.8, 2.7, 4.1, 1. , 'Iris-versicolor'),\n",
       "       (6.2, 2.2, 4.5, 1.5, 'Iris-versicolor'),\n",
       "       (5.6, 2.5, 3.9, 1.1, 'Iris-versicolor'),\n",
       "       (5.9, 3.2, 4.8, 1.8, 'Iris-versicolor'),\n",
       "       (6.1, 2.8, 4. , 1.3, 'Iris-versicolor'),\n",
       "       (6.3, 2.5, 4.9, 1.5, 'Iris-versicolor'),\n",
       "       (6.1, 2.8, 4.7, 1.2, 'Iris-versicolor'),\n",
       "       (6.4, 2.9, 4.3, 1.3, 'Iris-versicolor'),\n",
       "       (6.6, 3. , 4.4, 1.4, 'Iris-versicolor'),\n",
       "       (6.8, 2.8, 4.8, 1.4, 'Iris-versicolor'),\n",
       "       (6.7, 3. , 5. , 1.7, 'Iris-versicolor'),\n",
       "       (6. , 2.9, 4.5, 1.5, 'Iris-versicolor'),\n",
       "       (5.7, 2.6, 3.5, 1. , 'Iris-versicolor'),\n",
       "       (5.5, 2.4, 3.8, 1.1, 'Iris-versicolor'),\n",
       "       (5.5, 2.4, 3.7, 1. , 'Iris-versicolor'),\n",
       "       (5.8, 2.7, 3.9, 1.2, 'Iris-versicolor'),\n",
       "       (6. , 2.7, 5.1, 1.6, 'Iris-versicolor'),\n",
       "       (5.4, 3. , 4.5, 1.5, 'Iris-versicolor'),\n",
       "       (6. , 3.4, 4.5, 1.6, 'Iris-versicolor'),\n",
       "       (6.7, 3.1, 4.7, 1.5, 'Iris-versicolor'),\n",
       "       (6.3, 2.3, 4.4, 1.3, 'Iris-versicolor'),\n",
       "       (5.6, 3. , 4.1, 1.3, 'Iris-versicolor'),\n",
       "       (5.5, 2.5, 4. , 1.3, 'Iris-versicolor'),\n",
       "       (5.5, 2.6, 4.4, 1.2, 'Iris-versicolor'),\n",
       "       (6.1, 3. , 4.6, 1.4, 'Iris-versicolor'),\n",
       "       (5.8, 2.6, 4. , 1.2, 'Iris-versicolor'),\n",
       "       (5. , 2.3, 3.3, 1. , 'Iris-versicolor'),\n",
       "       (5.6, 2.7, 4.2, 1.3, 'Iris-versicolor'),\n",
       "       (5.7, 3. , 4.2, 1.2, 'Iris-versicolor'),\n",
       "       (5.7, 2.9, 4.2, 1.3, 'Iris-versicolor'),\n",
       "       (6.2, 2.9, 4.3, 1.3, 'Iris-versicolor'),\n",
       "       (5.1, 2.5, 3. , 1.1, 'Iris-versicolor'),\n",
       "       (5.7, 2.8, 4.1, 1.3, 'Iris-versicolor'),\n",
       "       (6.3, 3.3, 6. , 2.5, 'Iris-virginica'),\n",
       "       (5.8, 2.7, 5.1, 1.9, 'Iris-virginica'),\n",
       "       (7.1, 3. , 5.9, 2.1, 'Iris-virginica'),\n",
       "       (6.3, 2.9, 5.6, 1.8, 'Iris-virginica'),\n",
       "       (6.5, 3. , 5.8, 2.2, 'Iris-virginica'),\n",
       "       (7.6, 3. , 6.6, 2.1, 'Iris-virginica'),\n",
       "       (4.9, 2.5, 4.5, 1.7, 'Iris-virginica'),\n",
       "       (7.3, 2.9, 6.3, 1.8, 'Iris-virginica'),\n",
       "       (6.7, 2.5, 5.8, 1.8, 'Iris-virginica'),\n",
       "       (7.2, 3.6, 6.1, 2.5, 'Iris-virginica'),\n",
       "       (6.5, 3.2, 5.1, 2. , 'Iris-virginica'),\n",
       "       (6.4, 2.7, 5.3, 1.9, 'Iris-virginica'),\n",
       "       (6.8, 3. , 5.5, 2.1, 'Iris-virginica'),\n",
       "       (5.7, 2.5, 5. , 2. , 'Iris-virginica'),\n",
       "       (5.8, 2.8, 5.1, 2.4, 'Iris-virginica'),\n",
       "       (6.4, 3.2, 5.3, 2.3, 'Iris-virginica'),\n",
       "       (6.5, 3. , 5.5, 1.8, 'Iris-virginica'),\n",
       "       (7.7, 3.8, 6.7, 2.2, 'Iris-virginica'),\n",
       "       (7.7, 2.6, 6.9, 2.3, 'Iris-virginica'),\n",
       "       (6. , 2.2, 5. , 1.5, 'Iris-virginica'),\n",
       "       (6.9, 3.2, 5.7, 2.3, 'Iris-virginica'),\n",
       "       (5.6, 2.8, 4.9, 2. , 'Iris-virginica'),\n",
       "       (7.7, 2.8, 6.7, 2. , 'Iris-virginica'),\n",
       "       (6.3, 2.7, 4.9, 1.8, 'Iris-virginica'),\n",
       "       (6.7, 3.3, 5.7, 2.1, 'Iris-virginica'),\n",
       "       (7.2, 3.2, 6. , 1.8, 'Iris-virginica'),\n",
       "       (6.2, 2.8, 4.8, 1.8, 'Iris-virginica'),\n",
       "       (6.1, 3. , 4.9, 1.8, 'Iris-virginica'),\n",
       "       (6.4, 2.8, 5.6, 2.1, 'Iris-virginica'),\n",
       "       (7.2, 3. , 5.8, 1.6, 'Iris-virginica'),\n",
       "       (7.4, 2.8, 6.1, 1.9, 'Iris-virginica'),\n",
       "       (7.9, 3.8, 6.4, 2. , 'Iris-virginica'),\n",
       "       (6.4, 2.8, 5.6, 2.2, 'Iris-virginica'),\n",
       "       (6.3, 2.8, 5.1, 1.5, 'Iris-virginica'),\n",
       "       (6.1, 2.6, 5.6, 1.4, 'Iris-virginica'),\n",
       "       (7.7, 3. , 6.1, 2.3, 'Iris-virginica'),\n",
       "       (6.3, 3.4, 5.6, 2.4, 'Iris-virginica'),\n",
       "       (6.4, 3.1, 5.5, 1.8, 'Iris-virginica'),\n",
       "       (6. , 3. , 4.8, 1.8, 'Iris-virginica'),\n",
       "       (6.9, 3.1, 5.4, 2.1, 'Iris-virginica'),\n",
       "       (6.7, 3.1, 5.6, 2.4, 'Iris-virginica'),\n",
       "       (6.9, 3.1, 5.1, 2.3, 'Iris-virginica'),\n",
       "       (5.8, 2.7, 5.1, 1.9, 'Iris-virginica'),\n",
       "       (6.8, 3.2, 5.9, 2.3, 'Iris-virginica'),\n",
       "       (6.7, 3.3, 5.7, 2.5, 'Iris-virginica'),\n",
       "       (6.7, 3. , 5.2, 2.3, 'Iris-virginica'),\n",
       "       (6.3, 2.5, 5. , 1.9, 'Iris-virginica'),\n",
       "       (6.5, 3. , 5.2, 2. , 'Iris-virginica'),\n",
       "       (6.2, 3.4, 5.4, 2.3, 'Iris-virginica'),\n",
       "       (5.9, 3. , 5.1, 1.8, 'Iris-virginica')],\n",
       "      dtype=[('f0', '<f8'), ('f1', '<f8'), ('f2', '<f8'), ('f3', '<f8'), ('f4', '<U15')])"
      ]
     },
     "execution_count": 68,
     "metadata": {},
     "output_type": "execute_result"
    }
   ],
   "source": [
    "iris_1d= np.genfromtxt('Data/Iris.csv',delimiter=',',skip_header=1,dtype=None,encoding=None)\n",
    "iris_1d"
   ]
  },
  {
   "cell_type": "markdown",
   "metadata": {
    "id": "vQriPxOHy43X"
   },
   "source": [
    "Trong bài này, chúng ta sẽ áp dụng numpy để tiền xử lý dữ liệu trong tập dữ liệu [Iris](https://www.kaggle.com/datasets/arshid/iris-flower-dataset/data)."
   ]
  },
  {
   "cell_type": "code",
   "execution_count": 71,
   "metadata": {
    "id": "VlbEBI6ay43a"
   },
   "outputs": [],
   "source": [
    "# Q. Rút trích cột text về loại hoa từ tập dữ liệu\n",
    "species = [row[-1] for row in iris_1d]\n",
    "species =np.array(species)\n"
   ]
  },
  {
   "cell_type": "code",
   "execution_count": 77,
   "metadata": {
    "id": "shTXOiMhy43b"
   },
   "outputs": [
    {
     "data": {
      "text/plain": [
       "array([[5.1, 3.5, 1.4, 0.2],\n",
       "       [4.9, 3. , 1.4, 0.2],\n",
       "       [4.7, 3.2, 1.3, 0.2],\n",
       "       [4.6, 3.1, 1.5, 0.2],\n",
       "       [5. , 3.6, 1.4, 0.2],\n",
       "       [5.4, 3.9, 1.7, 0.4],\n",
       "       [4.6, 3.4, 1.4, 0.3],\n",
       "       [5. , 3.4, 1.5, 0.2],\n",
       "       [4.4, 2.9, 1.4, 0.2],\n",
       "       [4.9, 3.1, 1.5, 0.1],\n",
       "       [5.4, 3.7, 1.5, 0.2],\n",
       "       [4.8, 3.4, 1.6, 0.2],\n",
       "       [4.8, 3. , 1.4, 0.1],\n",
       "       [4.3, 3. , 1.1, 0.1],\n",
       "       [5.8, 4. , 1.2, 0.2],\n",
       "       [5.7, 4.4, 1.5, 0.4],\n",
       "       [5.4, 3.9, 1.3, 0.4],\n",
       "       [5.1, 3.5, 1.4, 0.3],\n",
       "       [5.7, 3.8, 1.7, 0.3],\n",
       "       [5.1, 3.8, 1.5, 0.3],\n",
       "       [5.4, 3.4, 1.7, 0.2],\n",
       "       [5.1, 3.7, 1.5, 0.4],\n",
       "       [4.6, 3.6, 1. , 0.2],\n",
       "       [5.1, 3.3, 1.7, 0.5],\n",
       "       [4.8, 3.4, 1.9, 0.2],\n",
       "       [5. , 3. , 1.6, 0.2],\n",
       "       [5. , 3.4, 1.6, 0.4],\n",
       "       [5.2, 3.5, 1.5, 0.2],\n",
       "       [5.2, 3.4, 1.4, 0.2],\n",
       "       [4.7, 3.2, 1.6, 0.2],\n",
       "       [4.8, 3.1, 1.6, 0.2],\n",
       "       [5.4, 3.4, 1.5, 0.4],\n",
       "       [5.2, 4.1, 1.5, 0.1],\n",
       "       [5.5, 4.2, 1.4, 0.2],\n",
       "       [4.9, 3.1, 1.5, 0.1],\n",
       "       [5. , 3.2, 1.2, 0.2],\n",
       "       [5.5, 3.5, 1.3, 0.2],\n",
       "       [4.9, 3.1, 1.5, 0.1],\n",
       "       [4.4, 3. , 1.3, 0.2],\n",
       "       [5.1, 3.4, 1.5, 0.2],\n",
       "       [5. , 3.5, 1.3, 0.3],\n",
       "       [4.5, 2.3, 1.3, 0.3],\n",
       "       [4.4, 3.2, 1.3, 0.2],\n",
       "       [5. , 3.5, 1.6, 0.6],\n",
       "       [5.1, 3.8, 1.9, 0.4],\n",
       "       [4.8, 3. , 1.4, 0.3],\n",
       "       [5.1, 3.8, 1.6, 0.2],\n",
       "       [4.6, 3.2, 1.4, 0.2],\n",
       "       [5.3, 3.7, 1.5, 0.2],\n",
       "       [5. , 3.3, 1.4, 0.2],\n",
       "       [7. , 3.2, 4.7, 1.4],\n",
       "       [6.4, 3.2, 4.5, 1.5],\n",
       "       [6.9, 3.1, 4.9, 1.5],\n",
       "       [5.5, 2.3, 4. , 1.3],\n",
       "       [6.5, 2.8, 4.6, 1.5],\n",
       "       [5.7, 2.8, 4.5, 1.3],\n",
       "       [6.3, 3.3, 4.7, 1.6],\n",
       "       [4.9, 2.4, 3.3, 1. ],\n",
       "       [6.6, 2.9, 4.6, 1.3],\n",
       "       [5.2, 2.7, 3.9, 1.4],\n",
       "       [5. , 2. , 3.5, 1. ],\n",
       "       [5.9, 3. , 4.2, 1.5],\n",
       "       [6. , 2.2, 4. , 1. ],\n",
       "       [6.1, 2.9, 4.7, 1.4],\n",
       "       [5.6, 2.9, 3.6, 1.3],\n",
       "       [6.7, 3.1, 4.4, 1.4],\n",
       "       [5.6, 3. , 4.5, 1.5],\n",
       "       [5.8, 2.7, 4.1, 1. ],\n",
       "       [6.2, 2.2, 4.5, 1.5],\n",
       "       [5.6, 2.5, 3.9, 1.1],\n",
       "       [5.9, 3.2, 4.8, 1.8],\n",
       "       [6.1, 2.8, 4. , 1.3],\n",
       "       [6.3, 2.5, 4.9, 1.5],\n",
       "       [6.1, 2.8, 4.7, 1.2],\n",
       "       [6.4, 2.9, 4.3, 1.3],\n",
       "       [6.6, 3. , 4.4, 1.4],\n",
       "       [6.8, 2.8, 4.8, 1.4],\n",
       "       [6.7, 3. , 5. , 1.7],\n",
       "       [6. , 2.9, 4.5, 1.5],\n",
       "       [5.7, 2.6, 3.5, 1. ],\n",
       "       [5.5, 2.4, 3.8, 1.1],\n",
       "       [5.5, 2.4, 3.7, 1. ],\n",
       "       [5.8, 2.7, 3.9, 1.2],\n",
       "       [6. , 2.7, 5.1, 1.6],\n",
       "       [5.4, 3. , 4.5, 1.5],\n",
       "       [6. , 3.4, 4.5, 1.6],\n",
       "       [6.7, 3.1, 4.7, 1.5],\n",
       "       [6.3, 2.3, 4.4, 1.3],\n",
       "       [5.6, 3. , 4.1, 1.3],\n",
       "       [5.5, 2.5, 4. , 1.3],\n",
       "       [5.5, 2.6, 4.4, 1.2],\n",
       "       [6.1, 3. , 4.6, 1.4],\n",
       "       [5.8, 2.6, 4. , 1.2],\n",
       "       [5. , 2.3, 3.3, 1. ],\n",
       "       [5.6, 2.7, 4.2, 1.3],\n",
       "       [5.7, 3. , 4.2, 1.2],\n",
       "       [5.7, 2.9, 4.2, 1.3],\n",
       "       [6.2, 2.9, 4.3, 1.3],\n",
       "       [5.1, 2.5, 3. , 1.1],\n",
       "       [5.7, 2.8, 4.1, 1.3],\n",
       "       [6.3, 3.3, 6. , 2.5],\n",
       "       [5.8, 2.7, 5.1, 1.9],\n",
       "       [7.1, 3. , 5.9, 2.1],\n",
       "       [6.3, 2.9, 5.6, 1.8],\n",
       "       [6.5, 3. , 5.8, 2.2],\n",
       "       [7.6, 3. , 6.6, 2.1],\n",
       "       [4.9, 2.5, 4.5, 1.7],\n",
       "       [7.3, 2.9, 6.3, 1.8],\n",
       "       [6.7, 2.5, 5.8, 1.8],\n",
       "       [7.2, 3.6, 6.1, 2.5],\n",
       "       [6.5, 3.2, 5.1, 2. ],\n",
       "       [6.4, 2.7, 5.3, 1.9],\n",
       "       [6.8, 3. , 5.5, 2.1],\n",
       "       [5.7, 2.5, 5. , 2. ],\n",
       "       [5.8, 2.8, 5.1, 2.4],\n",
       "       [6.4, 3.2, 5.3, 2.3],\n",
       "       [6.5, 3. , 5.5, 1.8],\n",
       "       [7.7, 3.8, 6.7, 2.2],\n",
       "       [7.7, 2.6, 6.9, 2.3],\n",
       "       [6. , 2.2, 5. , 1.5],\n",
       "       [6.9, 3.2, 5.7, 2.3],\n",
       "       [5.6, 2.8, 4.9, 2. ],\n",
       "       [7.7, 2.8, 6.7, 2. ],\n",
       "       [6.3, 2.7, 4.9, 1.8],\n",
       "       [6.7, 3.3, 5.7, 2.1],\n",
       "       [7.2, 3.2, 6. , 1.8],\n",
       "       [6.2, 2.8, 4.8, 1.8],\n",
       "       [6.1, 3. , 4.9, 1.8],\n",
       "       [6.4, 2.8, 5.6, 2.1],\n",
       "       [7.2, 3. , 5.8, 1.6],\n",
       "       [7.4, 2.8, 6.1, 1.9],\n",
       "       [7.9, 3.8, 6.4, 2. ],\n",
       "       [6.4, 2.8, 5.6, 2.2],\n",
       "       [6.3, 2.8, 5.1, 1.5],\n",
       "       [6.1, 2.6, 5.6, 1.4],\n",
       "       [7.7, 3. , 6.1, 2.3],\n",
       "       [6.3, 3.4, 5.6, 2.4],\n",
       "       [6.4, 3.1, 5.5, 1.8],\n",
       "       [6. , 3. , 4.8, 1.8],\n",
       "       [6.9, 3.1, 5.4, 2.1],\n",
       "       [6.7, 3.1, 5.6, 2.4],\n",
       "       [6.9, 3.1, 5.1, 2.3],\n",
       "       [5.8, 2.7, 5.1, 1.9],\n",
       "       [6.8, 3.2, 5.9, 2.3],\n",
       "       [6.7, 3.3, 5.7, 2.5],\n",
       "       [6.7, 3. , 5.2, 2.3],\n",
       "       [6.3, 2.5, 5. , 1.9],\n",
       "       [6.5, 3. , 5.2, 2. ],\n",
       "       [6.2, 3.4, 5.4, 2.3],\n",
       "       [5.9, 3. , 5.1, 1.8]])"
      ]
     },
     "execution_count": 77,
     "metadata": {},
     "output_type": "execute_result"
    }
   ],
   "source": [
    "# Q. Convert mảng 1 chiều iris thành mảng 2 chiều bằng cách bỏ cột text\n",
    "species = np.array([row.tolist()[:-1] for row in iris_1d])\n",
    "species"
   ]
  },
  {
   "cell_type": "code",
   "execution_count": 82,
   "metadata": {
    "id": "M-FxQevmy43b"
   },
   "outputs": [
    {
     "name": "stdout",
     "output_type": "stream",
     "text": [
      "5.843333333333334\n",
      "5.8\n",
      "0.8253012917851409\n"
     ]
    }
   ],
   "source": [
    "# Q. Tìm mean, median, standard deviation của sepallength (1st column)\n",
    "sepal_length = species[:,0]\n",
    "print(np.mean(sepal_length))\n",
    "print(np.median(sepal_length))\n",
    "print(np.std(sepal_length))\n"
   ]
  },
  {
   "cell_type": "code",
   "execution_count": 84,
   "metadata": {
    "id": "pWuRj5YMy43b"
   },
   "outputs": [
    {
     "data": {
      "text/plain": [
       "array([0.22, 0.17, 0.11, 0.08, 0.19, 0.31, 0.08, 0.19, 0.03, 0.17, 0.31,\n",
       "       0.14, 0.14, 0.  , 0.42, 0.39, 0.31, 0.22, 0.39, 0.22, 0.31, 0.22,\n",
       "       0.08, 0.22, 0.14, 0.19, 0.19, 0.25, 0.25, 0.11, 0.14, 0.31, 0.25,\n",
       "       0.33, 0.17, 0.19, 0.33, 0.17, 0.03, 0.22, 0.19, 0.06, 0.03, 0.19,\n",
       "       0.22, 0.14, 0.22, 0.08, 0.28, 0.19, 0.75, 0.58, 0.72, 0.33, 0.61,\n",
       "       0.39, 0.56, 0.17, 0.64, 0.25, 0.19, 0.44, 0.47, 0.5 , 0.36, 0.67,\n",
       "       0.36, 0.42, 0.53, 0.36, 0.44, 0.5 , 0.56, 0.5 , 0.58, 0.64, 0.69,\n",
       "       0.67, 0.47, 0.39, 0.33, 0.33, 0.42, 0.47, 0.31, 0.47, 0.67, 0.56,\n",
       "       0.36, 0.33, 0.33, 0.5 , 0.42, 0.19, 0.36, 0.39, 0.39, 0.53, 0.22,\n",
       "       0.39, 0.56, 0.42, 0.78, 0.56, 0.61, 0.92, 0.17, 0.83, 0.67, 0.81,\n",
       "       0.61, 0.58, 0.69, 0.39, 0.42, 0.58, 0.61, 0.94, 0.94, 0.47, 0.72,\n",
       "       0.36, 0.94, 0.56, 0.67, 0.81, 0.53, 0.5 , 0.58, 0.81, 0.86, 1.  ,\n",
       "       0.58, 0.56, 0.5 , 0.94, 0.56, 0.58, 0.47, 0.72, 0.67, 0.72, 0.42,\n",
       "       0.69, 0.67, 0.67, 0.56, 0.61, 0.53, 0.44])"
      ]
     },
     "execution_count": 84,
     "metadata": {},
     "output_type": "execute_result"
    }
   ],
   "source": [
    "# Q. Chuẩn hóa cột sepallength để giá trị trong khoảng [0,1]\n",
    "sepal_length_norm = ((sepal_length -np.min(sepal_length))/(np.max(sepal_length)-np.min(sepal_length)))\n",
    "sepal_length_norm.round(2)"
   ]
  },
  {
   "cell_type": "code",
   "execution_count": 86,
   "metadata": {},
   "outputs": [
    {
     "data": {
      "text/plain": [
       "array([0.00214401, 0.0158422 , 0.11705891, 0.86495488])"
      ]
     },
     "execution_count": 86,
     "metadata": {},
     "output_type": "execute_result"
    }
   ],
   "source": [
    "a = np.array([2,4,6,8])\n",
    "a = np.exp(a)/np.sum(np.exp(a))\n",
    "a"
   ]
  },
  {
   "cell_type": "code",
   "execution_count": 89,
   "metadata": {
    "id": "HgGVaZxPy43b"
   },
   "outputs": [
    {
     "name": "stdout",
     "output_type": "stream",
     "text": [
      "[0.00221959 0.00181724 0.00148783 0.00134625 0.00200836 0.00299613\n",
      " 0.00134625 0.00200836 0.00110221 0.00181724 0.00299613 0.00164431\n",
      " 0.00164431 0.00099732 0.0044697  0.00404435 0.00299613 0.00221959\n",
      " 0.00404435 0.00221959 0.00299613 0.00221959 0.00134625 0.00221959\n",
      " 0.00164431 0.00200836 0.00200836 0.00245302 0.00245302 0.00148783\n",
      " 0.00164431 0.00299613 0.00245302 0.00331123 0.00181724 0.00200836\n",
      " 0.00331123 0.00181724 0.00110221 0.00221959 0.00200836 0.00121813\n",
      " 0.00110221 0.00200836 0.00221959 0.00164431 0.00221959 0.00134625\n",
      " 0.00271101 0.00200836 0.01483991 0.00814432 0.01342771 0.00331123\n",
      " 0.00900086 0.00404435 0.00736928 0.00181724 0.00994749 0.00245302\n",
      " 0.00200836 0.00493978 0.0054593  0.00603346 0.00365948 0.01099368\n",
      " 0.00365948 0.0044697  0.006668   0.00365948 0.00493978 0.00603346\n",
      " 0.00736928 0.00603346 0.00814432 0.00994749 0.01214989 0.01099368\n",
      " 0.0054593  0.00404435 0.00331123 0.00331123 0.0044697  0.0054593\n",
      " 0.00299613 0.0054593  0.01099368 0.00736928 0.00365948 0.00331123\n",
      " 0.00331123 0.00603346 0.0044697  0.00200836 0.00365948 0.00404435\n",
      " 0.00404435 0.006668   0.00221959 0.00404435 0.00736928 0.0044697\n",
      " 0.01640064 0.00736928 0.00900086 0.02704008 0.00181724 0.02003179\n",
      " 0.01099368 0.01812551 0.00900086 0.00814432 0.01214989 0.00404435\n",
      " 0.0044697  0.00814432 0.00900086 0.02988391 0.02988391 0.0054593\n",
      " 0.01342771 0.00365948 0.02988391 0.00736928 0.01099368 0.01812551\n",
      " 0.006668   0.00603346 0.00814432 0.01812551 0.02213855 0.0365003\n",
      " 0.00814432 0.00736928 0.00603346 0.02988391 0.00736928 0.00814432\n",
      " 0.0054593  0.01342771 0.01099368 0.01342771 0.0044697  0.01214989\n",
      " 0.01099368 0.01099368 0.00736928 0.00900086 0.006668   0.00493978]\n"
     ]
    },
    {
     "data": {
      "text/plain": [
       "0.9999999999999996"
      ]
     },
     "execution_count": 89,
     "metadata": {},
     "output_type": "execute_result"
    }
   ],
   "source": [
    "# Q. Tính softmax score của sepallength.\n",
    "\n",
    "# The Softmax regression is a form of logistic regression that normalizes an input\n",
    "# value into a vector of values that follows a probability distribution whose total sums up to 1.\n",
    "e_s = np.exp(sepal_length)\n",
    "res = e_s/np.sum(e_s)\n",
    "print(res)\n",
    "np.sum(res)"
   ]
  }
 ],
 "metadata": {
  "colab": {
   "provenance": []
  },
  "kernelspec": {
   "display_name": "Python 3 (ipykernel)",
   "language": "python",
   "name": "python3"
  },
  "language_info": {
   "codemirror_mode": {
    "name": "ipython",
    "version": 3
   },
   "file_extension": ".py",
   "mimetype": "text/x-python",
   "name": "python",
   "nbconvert_exporter": "python",
   "pygments_lexer": "ipython3",
   "version": "3.10.8"
  },
  "toc": {
   "base_numbering": 1,
   "nav_menu": {},
   "number_sections": false,
   "sideBar": true,
   "skip_h1_title": false,
   "title_cell": "Table of Contents",
   "title_sidebar": "Contents",
   "toc_cell": false,
   "toc_position": {
    "height": "338.4px",
    "left": "140px",
    "top": "32.133px",
    "width": "165px"
   },
   "toc_section_display": true,
   "toc_window_display": true
  }
 },
 "nbformat": 4,
 "nbformat_minor": 4
}
