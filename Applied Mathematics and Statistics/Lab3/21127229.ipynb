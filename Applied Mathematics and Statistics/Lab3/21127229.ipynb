{
 "cells": [
  {
   "attachments": {},
   "cell_type": "markdown",
   "id": "ba524b4d",
   "metadata": {},
   "source": [
    "# Thông tin sinh viên\n",
    "\n",
    "**Họ tên**: Dương Trường Bình\n",
    "\n",
    "**MSSV**: 21127229"
   ]
  },
  {
   "attachments": {},
   "cell_type": "markdown",
   "id": "f4342074",
   "metadata": {},
   "source": [
    "# Thuật toán Gram-Schmidt\n",
    "- **Bước 1**: Lập ma trận $U$ với các vector $u_i$ là các cột của ma trận $A$.\n",
    "- **Bước 2**: Tính các vector $v_i$ theo công thức $v_i = u_i-\\sum_{j=1}^{i-1} \\frac{\\langle u_i,v_j\\rangle}{\\rVert v_j \\rVert^2}v_j$ với $i=1,2,\\dots,n$.\n",
    "- **Bước 3**: Tính các vector $q_i$ của ma trận $Q$ theo công thức $q_i = \\frac{v_i}{\\rVert v_i \\rVert}$ với $i=1,2,\\dots,n$.\n",
    "- **Bước 4**: Tính ma trận $R$ với $r_{ij} = \\langle q_i,u_j\\rangle$ với $i\\leq j$.\n",
    "- **Bước 5**: Trả về ma trận $Q$ và $R$."
   ]
  },
  {
   "cell_type": "code",
   "execution_count": 11,
   "id": "3c6feb9e",
   "metadata": {},
   "outputs": [],
   "source": [
    "def print_matrix(matrix):\n",
    "    m = len(matrix)\n",
    "    n = len(matrix[0])\n",
    "    \n",
    "    print('[', end='')\n",
    "    for i in range(m):\n",
    "        if i != 0:\n",
    "            print(' ', end='')\n",
    "        print('[', end='')\n",
    "        for j in range(n):\n",
    "            print(f'{matrix[i][j]:5.2f}', end=' ')\n",
    "        print(']', end='')\n",
    "        if i < m - 1:\n",
    "            print()\n",
    "    print(']')\n",
    "    print()\n",
    "\n",
    "\n",
    "def permuteRow(matrix, i, j):\n",
    "    matrix[i], matrix[j] = matrix[j], matrix[i]"
   ]
  },
  {
   "cell_type": "code",
   "execution_count": 12,
   "id": "a43ae19c",
   "metadata": {},
   "outputs": [],
   "source": [
    "def dot_product(v1, v2):\n",
    "    if len(v1) != len(v2):\n",
    "        raise Exception('Vector length mismatch')\n",
    "    return sum([i1 * i2 for i1, i2 in zip(v1, v2)])\n",
    "def norm(v):\n",
    "    return (dot_product(v, v))**(1/2)\n",
    "def normalize(v):\n",
    "    if norm(v) == 0:\n",
    "        raise Exception('Cannot normalize zero vector')\n",
    "    return [i / norm(v) for i in v]\n",
    "def subtract(v1, v2):\n",
    "    if len(v1) != len(v2):\n",
    "        raise Exception('Vector length mismatch')\n",
    "    return [i1 - i2 for i1, i2 in zip(v1, v2)]\n",
    "def transpose(matrix):\n",
    "    return [[matrix[j][i] for j in range(len(matrix))] for i in range(len(matrix[0]))]\n",
    "def scalar_mult(v, s):\n",
    "    return [i * s for i in v]\n",
    "def dot_matrix(m1, m2):\n",
    "    if len(m1[0]) != len(m2):\n",
    "        raise Exception('Matrix dimension mismatch')\n",
    "    return [[dot_product(m1[i], [m2[j][k] for j in range(len(m2))]) for k in range(len(m2[0]))] for i in range(len(m1))]"
   ]
  },
  {
   "cell_type": "code",
   "execution_count": 13,
   "id": "23f59ab8",
   "metadata": {},
   "outputs": [],
   "source": [
    "def decomposition(matrix):\n",
    "    # Matrix dimension\n",
    "    m = len(matrix)\n",
    "    n = len(matrix[0])\n",
    "\n",
    "    \n",
    "    matrix_v = []\n",
    "    # Matrix U is the transpose of matrix\n",
    "    matrix_u = transpose(matrix)\n",
    "\n",
    "    # Gram-Schmidt process\n",
    "    for i in range(n):\n",
    "        # Initialize v\n",
    "        v = matrix_u[i].copy()\n",
    "        for j in range(i):\n",
    "            # Calculate the factor\n",
    "            product = dot_product(matrix_u[i], matrix_v[j])\n",
    "            squared_norm = norm(matrix_v[j]) ** 2\n",
    "            factor = product / squared_norm\n",
    "            # Subtract the projection\n",
    "            v = subtract(v, scalar_mult(matrix_v[j], factor))\n",
    "        # if v is zero vector, matrix is not independent\n",
    "        if norm(v) == 0:\n",
    "            raise Exception('Matrix is not independent')\n",
    "        matrix_v.append(v)\n",
    "    # Normalize v to get Q\n",
    "    Q = [normalize(i) for i in matrix_v]\n",
    "\n",
    "    # Calculate R matrix from Q and U\n",
    "    R = [[0 for j in range(n)] for i in range(n)]\n",
    "    for i in range(n):\n",
    "        for j in range(i,n):\n",
    "            R[i][j] = dot_product(Q[i], matrix_u[j])\n",
    "\n",
    "    return transpose(Q), R"
   ]
  },
  {
   "cell_type": "code",
   "execution_count": 14,
   "id": "71dd1984",
   "metadata": {},
   "outputs": [
    {
     "name": "stdout",
     "output_type": "stream",
     "text": [
      "[[ 0.45  0.45 -0.45 ]\n",
      " [ 0.89  0.89 -0.89 ]]\n",
      "\n",
      "[[ 2.24  4.47  6.71 ]\n",
      " [ 0.00  4.47  6.71 ]\n",
      " [ 0.00  0.00 -6.71 ]]\n",
      "\n",
      "[[ 1.00  4.00  9.00 ]\n",
      " [ 2.00  8.00 18.00 ]]\n",
      "\n"
     ]
    }
   ],
   "source": [
    "import numpy as np\n",
    "a = [\n",
    "    [1, 1, 0],\n",
    "    [-1, 0, 1],\n",
    "    [0, 1, 1],\n",
    "    [1, -1, 0]\n",
    "]\n",
    "b = [\n",
    "    [1, 2, 3],\n",
    "    [3, 2, 1],\n",
    "    [2, 1, 2]\n",
    "]\n",
    "c = [\n",
    "    [1.4, 1.7, 2.9],\n",
    "    [0.7, 1, 3],\n",
    "    [1.8, 4.3, 2]\n",
    "]\n",
    "d = [\n",
    "    [1, 2, 3],\n",
    "    [2,4,6]\n",
    "]\n",
    "\n",
    "q, r = decomposition(d)\n",
    "print_matrix(q)\n",
    "print_matrix(r)\n",
    "# Check if QR = A\n",
    "print_matrix(dot_matrix(q, r))"
   ]
  },
  {
   "attachments": {},
   "cell_type": "markdown",
   "id": "7a32b68b",
   "metadata": {},
   "source": [
    "## Ý tưởng thực hiện\n",
    "\n"
   ]
  },
  {
   "cell_type": "markdown",
   "id": "311c35d6",
   "metadata": {},
   "source": [
    "Ý tưởng thực hiện\n",
    "\n",
    "1. Chuyển vị ma trận $A$ để được ma trận $U$ với các vector $u_i$ là các cột của ma trận $A$.\n",
    "2. Lặp qua từng vector $u_i$ của ma trận $U$ để tính các vector $v_i$ theo công thức $v_i = u_i-\\sum_{j=1}^{i-1} \\frac{\\langle u_i,v_j\\rangle}{\\rVert v_j \\rVert^2}v_j$ với $i=1,2,\\dots,n$.\n",
    "\n",
    "    Nếu có vector $v_j$ nào có độ dài bằng 0 thì dừng thuật toán.\n",
    "3. Chuẩn hóa các vector $v_i$ để được các vector $q_i$ của ma trận $Q$ theo công thức $q_i = \\frac{v_i}{\\rVert v_i \\rVert}$ với $i=1,2,\\dots,n$.\n",
    "4. Tính ma trận $R$ với $r_{ij} = \\langle q_i,u_j\\rangle$ với $i\\leq j$.\n",
    "5. Trả về ma trận $Q$ và $R$.\n",
    "\n"
   ]
  },
  {
   "attachments": {},
   "cell_type": "markdown",
   "id": "58bd79f6",
   "metadata": {},
   "source": [
    "# Mô tả các hàm\n",
    "\n",
    "## printSystemOfEquations\n",
    "\n",
    "- **Input**:\n",
    "    - matrix: Ma trận đầu vào\n",
    "- **Output**: None\n",
    "- **Mục đích**: In ra ma trận được căn chỉnh cho dễ nhìn\n",
    "- **Hoạt động**: Lặp qua từng phần tử và in ra nó\n",
    "\n",
    "## permuteRow\n",
    "\n",
    "- **Input**:\n",
    "    - matrix: Ma trận  đầu vào\n",
    "    - i,j: Thứ tự của 2 dòng cần đổi chỗ\n",
    "- **Output**: None\n",
    "- **Mục đích**: Đổi chỗ hai dòng i và j của ma trận \n",
    "- **Hoạt động**: Dùng cú pháp của python để đổi chỗ hai dòng của ma trận\n",
    "\n",
    "## dot_product\n",
    "- **Input**: Hai vector v1 và v2.\n",
    "- **Output**: Tích vô hướng của hai vector.\n",
    "- **Mục đích**: Hàm tính tích vô hướng của hai vector v1 và v2.\n",
    "- **Hoạt động**: \n",
    "    - Kiểm tra nếu độ dài của v1 khác độ dài của v2, nếu có thì gây ra một ngoại lệ với thông báo \"Vector length mismatch\".\n",
    "    - Sử dụng list comprehension và hàm zip để tính tích vô hướng của hai vector\n",
    "    - Trả về kết quả tích vô hướng.\n",
    "\n",
    "## norm\n",
    "- **Input**: Một vector v.\n",
    "- **Output**: độ dài của vector v.\n",
    "- **Mục đích**: Hàm tính độ dài của vector v.\n",
    "- **Hoạt động**: \n",
    "    - Gọi hàm dot_product(v, v) để tính tích vô hướng của vector v với chính nó.\n",
    "    - Lấy căn bậc hai của kết quả tích vô hướng bằng cách nhân với 1/2.\n",
    "    - Trả về kết quả độ dài của vector.\n",
    "\n",
    "## normalize\n",
    "- **Input**: Một vector v.\n",
    "- **Output**: Vector đơn vị của vector v.\n",
    "- **Mục đích**: Tạo một vector đơn vị từ vector v.\n",
    "- **Hoạt động**: \n",
    "    - Kiểm tra nếu độ dài của vector v bằng 0 thì gây ra một ngoại lệ với thông báo \"Cannot normalize zero vector\".\n",
    "    - Tính độ dài của vector v bằng cách gọi hàm norm(v).\n",
    "    - Sử dụng list comprehension để tạo một vector đơn vị, bằng cách chia từng phần tử của v cho độ dài của v.\n",
    "    - Trả về kết quả vector chuẩn hóa.\n",
    "\n",
    "## subtract\n",
    "- **Input**: Hai vector v1 và v2.\n",
    "- **Output**: Hiệu của v1 trừ v2.\n",
    "- **Mục đích**: Tính hiệu của hai vector v1 và v2.\n",
    "- **Hoạt động**: \n",
    "    - Kiểm tra nếu độ dài của v1 khác độ dài của v2, nếu có thì gây ra một ngoại lệ với thông báo \"Vector length mismatch\".\n",
    "    - Sử dụng list comprehension và hàm zip để tính hiệu của hai vector.\n",
    "    - Trả về kết quả vector hiệu.\n",
    "\n",
    "## transpose\n",
    "- **Input**: Một ma trận matrix.\n",
    "- **Output**: Ma trận chuyển vị của matrix.\n",
    "- **Mục đích**: Hàm tính ma trận chuyển vị của matrix.\n",
    "- **Hoạt động**: \n",
    "    - Sử dụng list comprehension và hai vòng lặp để tạo ma trận chuyển vị.\n",
    "    - Trong vòng lặp bên ngoài, duyệt qua từng cột của matrix (theo chiều dọc).\n",
    "    - Trong vòng lặp bên trong, duyệt qua từng hàng của matrix (theo chiều ngang).\n",
    "    - Trong cùng một vòng lặp bên trong, trích xuất từng phần tử từ các hàng tương ứng của matrix và sắp xếp chúng thành một cột.\n",
    "    - Trả về kết quả ma trận chuyển vị.\n",
    "\n",
    "## scalar_mult\n",
    "- **Input**: Một vector v và một số s.\n",
    "- **Output**: Kết quả là một vector với mỗi phần tử của v được nhân với s.\n",
    "- **Mục đích**: Hàm tính tích của một vector v với một số s.\n",
    "- **Hoạt động**: \n",
    "    - Sử dụng list comprehension để nhân từng phần tử của v với s.\n",
    "    - Trả về kết quả vector tích.\n",
    "\n",
    "## dot_matrix\n",
    "- **Input**: Hai ma trận m1 và m2.\n",
    "- **Output**: Một ma trận, là tích của m1 với m2, theo quy tắc nhân ma trận.\n",
    "- **Mục đích**: Hàm tính tích của hai ma trận m1 và m2.\n",
    "- **Hoạt động**: \n",
    "    - Sử dụng list comprehension và hai vòng lặp để tính tích của hai ma trận theo quy tắc nhân ma trận.\n",
    "    - Trong vòng lặp bên ngoài, duyệt qua từng hàng của m1.\n",
    "    - Trong vòng lặp bên trong, duyệt qua từng cột của m2.\n",
    "    - Sử dụng hàm dot_product để tính tích vô hướng của hàng hiện tại của m1 với cột hiện tại của m2.\n",
    "    - Trả về kết quả tích.\n"
   ]
  },
  {
   "cell_type": "markdown",
   "id": "843370b6",
   "metadata": {},
   "source": [
    "# decomposition\n",
    "\n",
    "- **Input**:\n",
    "    - matrix: Ma trận đầu vào\n",
    "- **Output**: Ma trận $Q$ và $R$\n",
    "- **Mục đích**: Phân tích ma trận đầu vào thành tích của hai ma trận $Q$ và $R$ với $Q$ là ma trận trực giao và $R$ là ma trận tam giác trên\n",
    "- **Hoạt động**: \n",
    "    - Tạo ma trận $U$ bằng các cột của ma trận ban đầu (chuyển vị ma trận ban đầu)\n",
    "    - Lặp qua từng vector $u_i$ của ma trận $U$:\n",
    "        - Tính $v_i = u_i-\\sum_{j=1}^{i-1} \\frac{\\langle u_i,v_j\\rangle}{\\rVert v_j \\rVert^2}v_j$\n",
    "    - Tính $Q$ bằng cách chuẩn hóa các vector $v_i$ (chia cho độ dài của chúng)\n",
    "    - Tính các phần tử $r_i$ của ma trận $R$ bằng tích vô hướng của $q_i$ với $u_i$\n",
    "    - Trả về kết quả $Q$ và $R$\n"
   ]
  },
  {
   "attachments": {},
   "cell_type": "markdown",
   "id": "c5306d0f",
   "metadata": {},
   "source": [
    "# Mở rộng hàm/ phương thức của các thư viện khác\n"
   ]
  },
  {
   "cell_type": "markdown",
   "id": "31381963",
   "metadata": {},
   "source": [
    "### Thư viện NumPy"
   ]
  },
  {
   "cell_type": "code",
   "execution_count": 15,
   "id": "e26b7291",
   "metadata": {},
   "outputs": [
    {
     "name": "stdout",
     "output_type": "stream",
     "text": [
      "Numpy QR\n",
      "[[-0.58 -0.58  0.00 ]\n",
      " [ 0.58 -0.00 -0.58 ]\n",
      " [-0.00 -0.58 -0.58 ]\n",
      " [-0.58  0.58 -0.58 ]]\n",
      "\n",
      "[[-1.73  0.00  0.58 ]\n",
      " [ 0.00 -1.73 -0.58 ]\n",
      " [ 0.00  0.00 -1.15 ]]\n",
      "\n",
      "[[ 1.00  1.00 -0.00 ]\n",
      " [-1.00  0.00  1.00 ]\n",
      " [ 0.00  1.00  1.00 ]\n",
      " [ 1.00 -1.00  0.00 ]]\n",
      "\n"
     ]
    }
   ],
   "source": [
    "import numpy as np\n",
    "matrix = np.array([\n",
    "    [1, 1, 0],\n",
    "    [-1, 0, 1],\n",
    "    [0, 1, 1],\n",
    "    [1, -1, 0]\n",
    "])\n",
    "q, r = np.linalg.qr(matrix)\n",
    "print('Numpy QR')\n",
    "print_matrix(q)\n",
    "print_matrix(r)\n",
    "# Check if QR = A\n",
    "print_matrix(dot_matrix(q, r))"
   ]
  },
  {
   "cell_type": "markdown",
   "id": "421983d3",
   "metadata": {},
   "source": [
    "### Thư viện SciPy"
   ]
  },
  {
   "cell_type": "code",
   "execution_count": 16,
   "id": "bf28a7a0",
   "metadata": {},
   "outputs": [
    {
     "name": "stdout",
     "output_type": "stream",
     "text": [
      "Scipy QR\n",
      "[[-0.58 -0.58  0.00 ]\n",
      " [ 0.58 -0.00 -0.58 ]\n",
      " [-0.00 -0.58 -0.58 ]\n",
      " [-0.58  0.58 -0.58 ]]\n",
      "\n",
      "[[-1.73  0.00  0.58 ]\n",
      " [ 0.00 -1.73 -0.58 ]\n",
      " [ 0.00  0.00 -1.15 ]]\n",
      "\n",
      "[[ 1.00  1.00 -0.00 ]\n",
      " [-1.00  0.00  1.00 ]\n",
      " [ 0.00  1.00  1.00 ]\n",
      " [ 1.00 -1.00  0.00 ]]\n",
      "\n"
     ]
    }
   ],
   "source": [
    "import scipy.linalg as la\n",
    "import numpy as np\n",
    "\n",
    "matrix = np.array([\n",
    "    [1, 1, 0],\n",
    "    [-1, 0, 1],\n",
    "    [0, 1, 1],\n",
    "    [1, -1, 0]\n",
    "])\n",
    "\n",
    "q, r = la.qr(matrix, mode='economic')\n",
    "print('Scipy QR')\n",
    "print_matrix(q)\n",
    "print_matrix(r)\n",
    "# Check if QR = A\n",
    "print_matrix(dot_matrix(q, r))"
   ]
  },
  {
   "attachments": {},
   "cell_type": "markdown",
   "id": "598e7be3",
   "metadata": {},
   "source": [
    "## So sánh kết quả"
   ]
  },
  {
   "cell_type": "markdown",
   "id": "a42fe0ae",
   "metadata": {},
   "source": [
    "Vậy kết quả của hai thư viện và thuật toán ở trên đều ra kết quả giống nhau."
   ]
  },
  {
   "cell_type": "markdown",
   "id": "e0406d5f",
   "metadata": {},
   "source": [
    "## Ứng dụng của QR decomposition\n",
    "Phân rã QR (QR decomposition) là một phép phân tích ma trận trong đại số tuyến tính, trong đó ma trận ban đầu được phân tích thành một tích của hai ma trận: ma trận Orthogonal (Q) và ma trận Upper triangular (R). Phân rã QR có rất nhiều ứng dụng quan trọng trong các lĩnh vực khác nhau, bao gồm:\n",
    "\n",
    "- Giải hệ phương trình tuyến tính: Một trong những ứng dụng chính của phân rã QR là giải hệ phương trình tuyến tính. Bằng cách thực hiện phân rã QR trên ma trận hệ số của hệ phương trình, ta có thể dễ dàng giải hệ phương trình này bằng cách sử dụng thuật toán giải phương trình dựa trên ma trận tam giác. Điều này giúp tối ưu hóa quá trình giải phương trình và giảm độ phức tạp tính toán so với các phương pháp khác.\n",
    "    - Chuẩn bị ma trận hệ số và vector hằng số: Xác định ma trận hệ số A và vector hằng số b trong hệ phương trình Ax = b.\n",
    "\n",
    "    - Phân rã QR: Sử dụng phân rã QR để phân tích ma trận hệ số A thành một tích của ma trận Orthogonal (Q) và ma trận Upper triangular (R).\n",
    "\n",
    "    - Giải hệ phương trình mới: Thay thế ma trận hệ số A trong hệ phương trình gốc bằng tích QR. Điều này dẫn đến một hệ phương trình mới có dạng R.x = Q^T.b.\n",
    "    - Giải phương trình tam giác trên R.x = Q^T.b để tìm vector nghiệm x.\n",
    "\n",
    "- Tối ưu hóa và hồi quy tuyến tính: Phân rã QR cũng được sử dụng trong các bài toán tối ưu hóa và hồi quy tuyến tính. Khi thực hiện các phép tính tối ưu hóa hoặc tìm các tham số trong mô hình hồi quy tuyến tính, việc áp dụng phân rã QR giúp giảm bớt độ phức tạp tính toán. Nó cho phép tìm nghiệm tối ưu nhanh chóng và ổn định hơn, đồng thời cung cấp các thông tin về sự phụ thuộc tuyến tính giữa các biến độc lập.\n",
    "\n",
    "- Xử lý ảnh và âm thanh: Phân rã QR cũng được sử dụng trong xử lý ảnh và âm thanh để nén dữ liệu và giảm nhiễu. Bằng cách áp dụng phân rã QR cho ma trận đầu vào, ta có thể giảm số lượng thông tin không cần thiết và giữ lại các thành phần quan trọng. Điều này giúp cải thiện chất lượng ảnh và âm thanh, đồng thời giảm kích thước dữ liệu lưu trữ và tăng tốc quá trình xử lý.\n",
    "\n",
    "- Tính định thức: Phân rã QR cũng có thể được sử dụng để tính định thức của một ma trận. Bằng cách tính tích của các phần tử trên đường chéo chính của ma trận R, ta có thể tính được định thức của ma trận ban đầu. Điều này hữu ích trong nhiều bài toán, bao gồm tính ổn định của một hệ thống và tính chất của một ma trận.\n",
    "    - Áp dụng phân rã QR lên ma trận ban đầu để tạo ra Q và R.\n",
    "    - Tính tích của các phần tử trên đường chéo chính của ma trận R.\n",
    "    - Nhân tích định thức của ma trận R với định thức của ma trận Q (định thức Q có thể là 1 hoặc -1 vì là ma trận trực giao).\n",
    "\n"
   ]
  }
 ],
 "metadata": {
  "kernelspec": {
   "display_name": "Python 3 (ipykernel)",
   "language": "python",
   "name": "python3"
  },
  "language_info": {
   "codemirror_mode": {
    "name": "ipython",
    "version": 3
   },
   "file_extension": ".py",
   "mimetype": "text/x-python",
   "name": "python",
   "nbconvert_exporter": "python",
   "pygments_lexer": "ipython3",
   "version": "3.10.11"
  }
 },
 "nbformat": 4,
 "nbformat_minor": 5
}
