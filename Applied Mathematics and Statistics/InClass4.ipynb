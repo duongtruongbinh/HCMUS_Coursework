{
 "cells": [
  {
   "cell_type": "code",
   "execution_count": 28,
   "id": "8228398f",
   "metadata": {},
   "outputs": [],
   "source": [
    "import random\n",
    "import numpy as np"
   ]
  },
  {
   "cell_type": "code",
   "execution_count": 36,
   "id": "d3ec3424",
   "metadata": {},
   "outputs": [],
   "source": [
    "def inner(vector1,vector2):\n",
    "    return sum([v1*v2 for (v1,v2)in zip(vector1,vector2)])\n",
    "def norm(vector):\n",
    "    return sum([i*i for i in vector])**(1/2)\n",
    "def col(matrix,i):\n",
    "    return [row[i] for row in matrix]\n",
    "def create_vector(n):\n",
    "    return [random.randint(0,n) for _ in range(n)]\n",
    "def unit_vector(vector):\n",
    "    return [i/norm(vector) for i in vector]\n",
    "def norm_m(vector,m):\n",
    "    return sum([i**m for i in vector])**(1/m)\n",
    "def create_matrix(n,m):\n",
    "    return [[random.randint(0,n*m) for _ in range(m)] for _ in range(n)]\n",
    "def tranpose(matrix):\n",
    "    return [[row[i] for row in matrix]for i in range(len(matrix))]\n",
    "def dot(a,b):\n",
    "    return [[inner(a[i],col(b,j)) for j in range(len(b[0]))] for i in range(len(a))]"
   ]
  },
  {
   "cell_type": "code",
   "execution_count": 8,
   "id": "657a73aa",
   "metadata": {},
   "outputs": [
    {
     "name": "stdout",
     "output_type": "stream",
     "text": [
      "[2, 5]\n"
     ]
    }
   ],
   "source": [
    "matrix=[\n",
    "    [1,2,3],\n",
    "    [4,5,6]\n",
    "]\n",
    "print(col(matrix,1))"
   ]
  },
  {
   "cell_type": "code",
   "execution_count": 21,
   "id": "e119ec7e",
   "metadata": {},
   "outputs": [
    {
     "name": "stdout",
     "output_type": "stream",
     "text": [
      "4\n",
      "1.7320508075688772\n",
      "1.7320508075688772\n"
     ]
    }
   ],
   "source": [
    "a=[1,1,1]\n",
    "b=[2,1,1]\n",
    "print(inner(a,b))\n",
    "print(norm(a))\n",
    "print(norm_m(a,2))"
   ]
  },
  {
   "cell_type": "code",
   "execution_count": 16,
   "id": "3066c970",
   "metadata": {},
   "outputs": [
    {
     "name": "stdout",
     "output_type": "stream",
     "text": [
      "[1, 3, 0]\n"
     ]
    }
   ],
   "source": [
    "print(create_vector(3))"
   ]
  },
  {
   "cell_type": "code",
   "execution_count": 19,
   "id": "417d0b03",
   "metadata": {},
   "outputs": [
    {
     "name": "stdout",
     "output_type": "stream",
     "text": [
      "[0.6, 0.8]\n"
     ]
    }
   ],
   "source": [
    "print(unit_vector([3,4]))"
   ]
  },
  {
   "cell_type": "code",
   "execution_count": 27,
   "id": "acf5ba62",
   "metadata": {},
   "outputs": [
    {
     "name": "stdout",
     "output_type": "stream",
     "text": [
      "[[3, 2], [2, 0]]\n"
     ]
    }
   ],
   "source": [
    "print(create_matrix(2,2))"
   ]
  },
  {
   "cell_type": "code",
   "execution_count": 37,
   "id": "fafcc17f",
   "metadata": {},
   "outputs": [
    {
     "name": "stdout",
     "output_type": "stream",
     "text": [
      "[[-0.85714286  0.39428571  0.33142857]\n",
      " [-0.42857143 -0.90285714 -0.03428571]\n",
      " [ 0.28571429 -0.17142857  0.94285714]]\n",
      "[[ -14.  -21.   14.]\n",
      " [   0. -175.   70.]\n",
      " [   0.    0.  -35.]]\n"
     ]
    }
   ],
   "source": [
    "A = np.array([[12, -51, 4], [6, 167, -68], [-4, 24, -41]])\n",
    "unit=[[1,0,0],[0,1,0],[0,0,1]]\n",
    "Q, R = np.linalg.qr(A)\n",
    "print(Q)\n",
    "print(R)"
   ]
  },
  {
   "cell_type": "code",
   "execution_count": 34,
   "id": "edc34843",
   "metadata": {},
   "outputs": [
    {
     "name": "stdout",
     "output_type": "stream",
     "text": [
      "[[12, 6, -4], [-51, 167, 24], [4, -68, -41]]\n"
     ]
    }
   ],
   "source": [
    "print(tranpose(A))"
   ]
  },
  {
   "cell_type": "code",
   "execution_count": 38,
   "id": "7ad0a936",
   "metadata": {},
   "outputs": [
    {
     "name": "stdout",
     "output_type": "stream",
     "text": [
      "[[12, -51, 4], [6, 167, -68], [-4, 24, -41]]\n"
     ]
    }
   ],
   "source": [
    "print(dot(A,unit))"
   ]
  },
  {
   "cell_type": "code",
   "execution_count": 39,
   "id": "626d5e79",
   "metadata": {},
   "outputs": [
    {
     "name": "stdout",
     "output_type": "stream",
     "text": [
      "[[1.0000000000000002, -2.0816681711721685e-17, -5.551115123125783e-17], [-2.0816681711721685e-17, 0.9999999999999999, 2.7755575615628914e-17], [-5.551115123125783e-17, 2.7755575615628914e-17, 1.0]]\n",
      "[[1.0000000000000002, 8.847089727481716e-17, 0.0], [8.847089727481716e-17, 0.9999999999999998, -3.469446951953614e-17], [0.0, -3.469446951953614e-17, 1.0]]\n"
     ]
    }
   ],
   "source": [
    "print(dot(tranpose(Q),Q))\n",
    "print(dot(Q,tranpose(Q)))\n"
   ]
  },
  {
   "cell_type": "code",
   "execution_count": null,
   "id": "d8e37236",
   "metadata": {},
   "outputs": [],
   "source": []
  }
 ],
 "metadata": {
  "kernelspec": {
   "display_name": "Python 3 (ipykernel)",
   "language": "python",
   "name": "python3"
  },
  "language_info": {
   "codemirror_mode": {
    "name": "ipython",
    "version": 3
   },
   "file_extension": ".py",
   "mimetype": "text/x-python",
   "name": "python",
   "nbconvert_exporter": "python",
   "pygments_lexer": "ipython3",
   "version": "3.10.11"
  }
 },
 "nbformat": 4,
 "nbformat_minor": 5
}
