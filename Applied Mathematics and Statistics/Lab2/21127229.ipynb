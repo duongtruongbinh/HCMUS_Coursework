{
 "cells": [
  {
   "attachments": {},
   "cell_type": "markdown",
   "id": "ba524b4d",
   "metadata": {},
   "source": [
    "# Thông tin sinh viên\n",
    "\n",
    "**Họ tên**: Dương Trường Bình\n",
    "\n",
    "**MSSV**: 21127229"
   ]
  },
  {
   "attachments": {},
   "cell_type": "markdown",
   "id": "f4342074",
   "metadata": {},
   "source": [
    "# Phép khử Gauss - Jordan\n",
    "\n",
    "**Phép khử Gauss - Jordan** là một cách biến đổi tương đương dòng đưa ma trận về ma trận đường chéo. Thuật giải gồm các bước:\n",
    "\n",
    "Thực hiện các bước sau cho cột thứ i, i=1,2,...n\n",
    "\n",
    "> **Bước 1**. Kiểm tra các số hạng từ dòng i đến dòng n của cột thứ i. Nếu chúng gồm toàn số 0, kết luận ma trận A không khả nghịch và giải thuật chấm dứt. Ngược lại, đổi chỗ hai dòng, nếu cần thiết, để đưa số hạng khác 0 nào đó ở dưới dòng thứ j về dòng thứ i.\n",
    "\n",
    "> **Bước 2**. Với số hạng ở dòng thứ i là $a\\neq 0$ , nhân dòng i với \n",
    "$\\frac 1 a$\n",
    " để nhận được số **1** (nằm trên đường chéo của A).\n",
    " \n",
    "> **Bước 3**. Cộng một bội số thích hợp của dòng i với các dòng khác dòng i để biến các số hạng trên cột i về số **0** (trừ số hạng nằm ở dòng i. Trở lại bước 1 cho dòng kế, i = i + 1.\n",
    "\n",
    "Kết thúc giải thuật , ta nhận được ma trận $(I_n|A^{-1})$\n"
   ]
  },
  {
   "cell_type": "code",
   "execution_count": 10,
   "id": "3c6feb9e",
   "metadata": {},
   "outputs": [],
   "source": [
    "def printSystemOfEquations(matrix):\n",
    "    m = len(matrix)\n",
    "    n = len(matrix[0])\n",
    "    \n",
    "    print('[', end='')\n",
    "    for i in range(m):\n",
    "        if i != 0:\n",
    "            print(' ', end='')\n",
    "        print('[', end='')\n",
    "        for j in range(n):\n",
    "            print(f'{matrix[i][j]:5.2f}', end=' ')\n",
    "        print(']', end='')\n",
    "        if i < m - 1:\n",
    "            print()\n",
    "    print(']')\n",
    "    print()\n",
    "\n",
    "\n",
    "def permuteRow(matrix, i, j):\n",
    "    matrix[i], matrix[j] = matrix[j], matrix[i]"
   ]
  },
  {
   "cell_type": "code",
   "execution_count": 11,
   "id": "23f59ab8",
   "metadata": {},
   "outputs": [],
   "source": [
    "def inverse(matrix):\n",
    "\n",
    "    size = len(matrix)\n",
    "\n",
    "    matrix = [matrix[i] + [1 if i ==\n",
    "                           j else 0 for j in range(size)] for i in range(size)]\n",
    "\n",
    "    for index in range(size):\n",
    "\n",
    "        if matrix[index][index] == 0:\n",
    "            for i in range(index + 1, size):\n",
    "                if matrix[i][index] != 0:\n",
    "                    permuteRow(matrix, i, index)\n",
    "                    break\n",
    "\n",
    "            else:\n",
    "                index += 1\n",
    "\n",
    "        factor = matrix[index][index]\n",
    "        matrix[index] = [i / factor for i in matrix[index]]\n",
    "\n",
    "        for i in range(size):\n",
    "            if i != index:\n",
    "                matrix[i] = [matrix[i][j] - matrix[i][index] *\n",
    "                             matrix[index][j] for j in range(size * 2)]\n",
    "\n",
    "    result = [row[size:] for row in matrix]\n",
    "\n",
    "    return result"
   ]
  },
  {
   "cell_type": "code",
   "execution_count": 12,
   "id": "3712a550",
   "metadata": {},
   "outputs": [
    {
     "name": "stdout",
     "output_type": "stream",
     "text": [
      "[[ 1.00 -3.00 -5.00 11.00 ]\n",
      " [ 0.00  1.00  1.00 -2.00 ]\n",
      " [ 0.00  0.00  1.00 -3.00 ]\n",
      " [ 0.00  0.00  0.00  1.00 ]]\n",
      "\n"
     ]
    }
   ],
   "source": [
    "test1=[\n",
    "    [1,3,2,1],\n",
    "    [0,1,-1,-1],\n",
    "    [0,0,1,3],\n",
    "    [0,0,0,1]\n",
    "]\n",
    "test2=[\n",
    "    [1,-1,0],\n",
    "    [2,1,-1],\n",
    "    [0,1,1]\n",
    "]\n",
    "test3=[\n",
    "    [1,2],\n",
    "    [3,4]\n",
    "]\n",
    "result=inverse(test1)\n",
    "printSystemOfEquations(result)\n"
   ]
  },
  {
   "attachments": {},
   "cell_type": "markdown",
   "id": "7a32b68b",
   "metadata": {},
   "source": [
    "## Ý tưởng thực hiện\n",
    "\n",
    "Sử dụng thuật toán Guass-Jordan để tìm ma trận nghịch đảo.\n",
    "\n",
    "1. **Ghép ma trận đơn vị**: Ghép ma trận đơn vị vào ma trận ban đầu để tạo thành một ma trận mở rộng. Mỗi dòng của ma trận đơn vị sẽ có giá trị 1 tại chỉ số đúng hàng của nó và 0 ở các chỉ số còn lại.\n",
    "\n",
    "2. **Biến đổi Gauss-Jordan**: Sử dụng biến đổi Gauss-Jordan để biến đổi thành ma trận đường chéo.\n",
    "   - Xác định phần tử pivot: Với mỗi cột, xác định phần tử pivot. Nếu phần tử pivot bằng 0, tìm dòng khác có phần tử khác 0 để hoán vị hai dòng. Nếu không tìm được dòng nào khác không thì kết luận ma trận không khả nghịch và kết thúc giải thuật.\n",
    "   - Chia cả dòng cho phần tử pivot: Chia dòng cho giá trị của phần tử pivot để đưa pivot về giá trị 1.\n",
    "   - Biến đổi các dòng còn lại: Thực hiện biến đổi để đưa các số hạng trên cùng cột của các dòng khác về 0.\n",
    "\n",
    "3. **Trả về ma trận nghịch đảo**: Lấy các cột bên phải của ma trận sau khi đã hoàn thành các biến đổi."
   ]
  },
  {
   "attachments": {},
   "cell_type": "markdown",
   "id": "58bd79f6",
   "metadata": {},
   "source": [
    "# Mô tả các hàm\n",
    "\n",
    "## printSystemOfEquations\n",
    "\n",
    "- **Input**:\n",
    "    - matrix: Ma trận mở rộng đầu vào\n",
    "- **Output**: None\n",
    "- **Mục đích**: In ra ma trận mở rộng được căn chỉnh cho dễ nhìn\n",
    "- **Hoạt động**: Lặp qua từng phần tử và in ra nó\n",
    "\n",
    "## permuteRow\n",
    "\n",
    "- **Input**:\n",
    "    - matrix: Ma trận mở rộng đầu vào\n",
    "    - i,j: Thứ tự của 2 dòng cần đổi chỗ\n",
    "- **Output**: None\n",
    "- **Mục đích**: Đổi chỗ hai dòng i và j của ma trận mở rộng\n",
    "- **Hoạt động**: Dùng cú pháp của python để đổi chỗ hai dòng của ma trận\n",
    "\n",
    "## inverse\n",
    "\n",
    "- **Input**:\n",
    "    - matrix: Ma trận vuông đầu vào\n",
    "- **Output**: Ma trận nghịch đảo từ ma trận vuông đầu vào hoặc thông báo ma trận không khả nghịch\n",
    "- **Mục đích**: Tìm ma trận nghịch đảo của ma trận vuông đầu vào\n",
    "- **Hoạt động**:\n",
    "    - Ghép ma trận đơn vị vào ma trận vuông đầu vào để tạo thành ma trận mở rộng\n",
    "    - Biến đổi Gauss-Jordan\n",
    "        + Xác định phần tử pivot: Với mỗi cột, xác định phần tử pivot. Nếu phần tử pivot bằng 0, tìm dòng khác có phần tử khác 0 để hoán vị hai dòng. Nếu không tìm được dòng nào khác không thì kết luận ma trận không khả nghịch và kết thúc.\n",
    "        + Chia cả dòng cho phần tử pivot: Chia dòng cho giá trị của pivot để đưa pivot về giá trị 1.\n",
    "        + Biến đổi các dòng còn lại: Thực hiện biến đổi để đưa các số hạng trên cùng cột của các dòng khác về 0.\n",
    "    - Trả về ma trận nghịch đảo bằng cách lấy các cột bên phải của ma trận sau khi đã hoàn thành các biến đổi.\n",
    "\n"
   ]
  },
  {
   "attachments": {},
   "cell_type": "markdown",
   "id": "c5306d0f",
   "metadata": {},
   "source": [
    "# Mở rộng hàm/ phương thức của các thư viện khác\n"
   ]
  },
  {
   "cell_type": "code",
   "execution_count": 13,
   "id": "7c4e9f20",
   "metadata": {},
   "outputs": [
    {
     "name": "stdout",
     "output_type": "stream",
     "text": [
      "Ma trận ban đầu:\n",
      "[[ 1  3  2  1]\n",
      " [ 0  1 -1 -1]\n",
      " [ 0  0  1  3]\n",
      " [ 0  0  0  1]]\n",
      "Ma trận nghịch đảo:\n",
      "[[ 1. -3. -5. 11.]\n",
      " [ 0.  1.  1. -2.]\n",
      " [ 0.  0.  1. -3.]\n",
      " [ 0.  0.  0.  1.]]\n"
     ]
    }
   ],
   "source": [
    "import numpy as np\n",
    "\n",
    "# Ma trận ban đầu\n",
    "matrix = np.array([\n",
    "    [1,3,2,1],\n",
    "    [0,1,-1,-1],\n",
    "    [0,0,1,3],\n",
    "    [0,0,0,1]\n",
    "]\n",
    ")\n",
    "\n",
    "# Tính nghịch đảo ma trận\n",
    "inverse_matrix = np.linalg.inv(matrix)\n",
    "\n",
    "print(\"Ma trận ban đầu:\")\n",
    "print(matrix)\n",
    "\n",
    "print(\"Ma trận nghịch đảo:\")\n",
    "print(inverse_matrix)"
   ]
  },
  {
   "cell_type": "code",
   "execution_count": 14,
   "id": "18e0990c",
   "metadata": {},
   "outputs": [
    {
     "name": "stdout",
     "output_type": "stream",
     "text": [
      "Ma trận ban đầu:\n",
      "[[ 1  3  2  1]\n",
      " [ 0  1 -1 -1]\n",
      " [ 0  0  1  3]\n",
      " [ 0  0  0  1]]\n",
      "Ma trận nghịch đảo:\n",
      "[[ 1. -3. -5. 11.]\n",
      " [ 0.  1.  1. -2.]\n",
      " [ 0.  0.  1. -3.]\n",
      " [ 0.  0.  0.  1.]]\n"
     ]
    }
   ],
   "source": [
    "import numpy as np\n",
    "from scipy.linalg import inv\n",
    "\n",
    "# Ma trận ban đầu\n",
    "matrix = np.array([\n",
    "    [1,3,2,1],\n",
    "    [0,1,-1,-1],\n",
    "    [0,0,1,3],\n",
    "    [0,0,0,1]\n",
    "])\n",
    "# Tính nghịch đảo ma trận\n",
    "inverse_matrix = inv(matrix)\n",
    "\n",
    "print(\"Ma trận ban đầu:\")\n",
    "print(matrix)\n",
    "\n",
    "print(\"Ma trận nghịch đảo:\")\n",
    "print(inverse_matrix)"
   ]
  },
  {
   "cell_type": "code",
   "execution_count": 15,
   "id": "8d300725",
   "metadata": {},
   "outputs": [
    {
     "name": "stdout",
     "output_type": "stream",
     "text": [
      "Ma trận ban đầu:\n",
      "Matrix([[1, 3, 2, 1], [0, 1, -1, -1], [0, 0, 1, 3], [0, 0, 0, 1]])\n",
      "Ma trận nghịch đảo:\n",
      "Matrix([[1, -3, -5, 11], [0, 1, 1, -2], [0, 0, 1, -3], [0, 0, 0, 1]])\n"
     ]
    }
   ],
   "source": [
    "import sympy as sp\n",
    "\n",
    "# Ma trận ban đầu\n",
    "matrix = sp.Matrix([\n",
    "    [1,3,2,1],\n",
    "    [0,1,-1,-1],\n",
    "    [0,0,1,3],\n",
    "    [0,0,0,1]\n",
    "])\n",
    "\n",
    "# Tính nghịch đảo ma trận\n",
    "inverse_matrix = matrix.inv()\n",
    "\n",
    "print(\"Ma trận ban đầu:\")\n",
    "print(matrix)\n",
    "\n",
    "print(\"Ma trận nghịch đảo:\")\n",
    "print(inverse_matrix)\n"
   ]
  },
  {
   "attachments": {},
   "cell_type": "markdown",
   "id": "598e7be3",
   "metadata": {},
   "source": [
    "## So sánh kết quả"
   ]
  },
  {
   "cell_type": "code",
   "execution_count": 16,
   "id": "ed901ed8",
   "metadata": {},
   "outputs": [
    {
     "name": "stdout",
     "output_type": "stream",
     "text": [
      "Trường hợp ma trận khả nghịch:\n",
      "Thuật toán:\n",
      "[[-2.00  1.00 ]\n",
      " [ 1.50 -0.50 ]]\n",
      "\n",
      "NumPy:\n",
      "[[-2.   1. ]\n",
      " [ 1.5 -0.5]]\n",
      "SciPy:\n",
      "[[-2.   1. ]\n",
      " [ 1.5 -0.5]]\n",
      "SymPy:\n",
      "Matrix([[-2, 1], [3/2, -1/2]])\n",
      "Trường hợp ma trận không khả nghịch:\n",
      "Thuật toán:\n",
      "Ma trận không khả nghịch\n",
      "None\n",
      "NumPy:\n",
      "None\n",
      "SciPy:\n",
      "None\n",
      "SymPy:\n",
      "None\n"
     ]
    }
   ],
   "source": [
    "import numpy as np\n",
    "from scipy.linalg import inv as scipy_inv\n",
    "import sympy as sp\n",
    "\n",
    "# Ma trận khả nghịch\n",
    "matrix_invertible = np.array([[1, 2], [3, 4]])\n",
    "\n",
    "# Ma trận không khả nghịch\n",
    "matrix_non_invertible = np.array([[1, 1], [2, 2]])\n",
    "\n",
    "\n",
    "# Sử dụng NumPy\n",
    "try:\n",
    "    numpy_inverse_invertible = np.linalg.inv(matrix_invertible)\n",
    "except np.linalg.LinAlgError as e:\n",
    "    numpy_inverse_invertible = None\n",
    "\n",
    "try:\n",
    "    numpy_inverse_non_invertible = np.linalg.inv(matrix_non_invertible)\n",
    "except np.linalg.LinAlgError as e:\n",
    "    numpy_inverse_non_invertible = None\n",
    "\n",
    "# Sử dụng SciPy\n",
    "try:\n",
    "    scipy_inverse_invertible = scipy_inv(matrix_invertible)\n",
    "except np.linalg.LinAlgError as e:\n",
    "    scipy_inverse_invertible = None\n",
    "\n",
    "try:\n",
    "    scipy_inverse_non_invertible = scipy_inv(matrix_non_invertible)\n",
    "except np.linalg.LinAlgError as e:\n",
    "    scipy_inverse_non_invertible = None\n",
    "\n",
    "# Sử dụng SymPy\n",
    "sympy_matrix_invertible = sp.Matrix(matrix_invertible)\n",
    "sympy_inverse_invertible = sympy_matrix_invertible.inv()\n",
    "\n",
    "sympy_matrix_non_invertible = sp.Matrix(matrix_non_invertible)\n",
    "try:\n",
    "    sympy_inverse_non_invertible = sympy_matrix_non_invertible.inv()\n",
    "except sp.matrices.common.NonInvertibleMatrixError as e:\n",
    "    sympy_inverse_non_invertible = None\n",
    "\n",
    "# In kết quả\n",
    "print(\"Trường hợp ma trận khả nghịch:\")\n",
    "print(\"Thuật toán:\")\n",
    "printSystemOfEquations(inverse(matrix_invertible.tolist()))\n",
    "print(\"NumPy:\")\n",
    "print(numpy_inverse_invertible)\n",
    "print(\"SciPy:\")\n",
    "print(scipy_inverse_invertible)\n",
    "print(\"SymPy:\")\n",
    "print(sympy_inverse_invertible)\n",
    "\n",
    "print(\"Trường hợp ma trận không khả nghịch:\")\n",
    "print(\"Thuật toán:\")\n",
    "print(inverse(matrix_non_invertible.tolist()))\n",
    "print(\"NumPy:\")\n",
    "print(numpy_inverse_non_invertible)\n",
    "print(\"SciPy:\")\n",
    "print(scipy_inverse_non_invertible)\n",
    "print(\"SymPy:\")\n",
    "print(sympy_inverse_non_invertible)\n"
   ]
  },
  {
   "attachments": {},
   "cell_type": "markdown",
   "id": "d445a69c",
   "metadata": {},
   "source": [
    "- Vậy có thể thấy 3 thư viện NumPy, SciPy, SymPy và thuật toán ở trên\n",
    "    - Đều có hàm để tìm ma trận nghịch đảo và ra kết quả giống nhau.\n",
    "    - Tuy nhiên, thư viện NumPy, SciPy, SymPy trong trường hợp ma trận không khả nghịch sẽ báo lỗi còn thuật toán ở trên sẽ in ra thông báo và trả về None."
   ]
  }
 ],
 "metadata": {
  "kernelspec": {
   "display_name": "Python 3 (ipykernel)",
   "language": "python",
   "name": "python3"
  },
  "language_info": {
   "codemirror_mode": {
    "name": "ipython",
    "version": 3
   },
   "file_extension": ".py",
   "mimetype": "text/x-python",
   "name": "python",
   "nbconvert_exporter": "python",
   "pygments_lexer": "ipython3",
   "version": "3.10.11"
  }
 },
 "nbformat": 4,
 "nbformat_minor": 5
}
