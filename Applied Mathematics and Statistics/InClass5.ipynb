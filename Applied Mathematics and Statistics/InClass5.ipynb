{
 "cells": [
  {
   "cell_type": "code",
   "execution_count": 14,
   "metadata": {},
   "outputs": [
    {
     "name": "stdout",
     "output_type": "stream",
     "text": [
      "[[2, 4, 6], [8, 10, 12], [14, 16, 18]]\n",
      "[[5, 7, 9], [5, 6, 7], [9, 11, 11]]\n",
      "[[-3, -3, -3], [3, 4, 5], [5, 5, 7]]\n",
      "[[12, 16, 14], [33, 43, 41], [54, 70, 68]]\n",
      "[[30, 36, 42], [66, 81, 96], [102, 126, 150]]\n",
      "[[1, 3], [7, 9]]\n",
      "2\n"
     ]
    }
   ],
   "source": [
    "def scalar_matrix(matrix, scalar):\n",
    "    return [[scalar*element for element in row] for row in matrix]\n",
    "\n",
    "\n",
    "def sum_matrix(a, b):\n",
    "    if len(a) != len(b) or len(a[0]) != len(b[0]):\n",
    "        raise ValueError(\"Matrices are not the same size.\")\n",
    "    return [[i+j for i, j in zip(a[row], b[row])] for row in range(len(a))]\n",
    "\n",
    "\n",
    "def subtract_matrix(a, b):\n",
    "    if len(a) != len(b) or len(a[0]) != len(b[0]):\n",
    "        raise ValueError(\"Matrices are not the same size.\")\n",
    "    return [[i-j for i, j in zip(a[row], b[row])] for row in range(len(a))]\n",
    "\n",
    "\n",
    "def dot_matrix(a, b):\n",
    "    if len(a[0]) != len(b):\n",
    "        raise ValueError(\"Matrices must be m*n and n*p to multiply.\")\n",
    "    return [[sum(i*j for i, j in zip(row, col)) for col in zip(*b)] for row in a]\n",
    "\n",
    "\n",
    "def matrix_exp(matrix, exp):\n",
    "    if len(matrix) != len(matrix[0]):\n",
    "        raise ValueError(\"Matrix must be square.\")\n",
    "    if exp == 0:\n",
    "        return [[1 if i == j else 0 for i in range(len(matrix))] for j in range(len(matrix))]\n",
    "    if exp == 1:\n",
    "        return matrix\n",
    "    if exp > 1:\n",
    "        return dot_matrix(matrix, matrix_exp(matrix, exp-1))\n",
    "\n",
    "\n",
    "def delete_element(matrix, row, column):\n",
    "    return [row[:column]+row[column+1:] for row in matrix[:row]+matrix[row+1:]]\n",
    "\n",
    "\n",
    "def determinant(matrix):\n",
    "    if len(matrix) != len(matrix[0]):\n",
    "        raise ValueError(\"Matrix must be square.\")\n",
    "    if len(matrix) == 1:\n",
    "        return matrix[0][0]\n",
    "    if len(matrix) == 2:\n",
    "        return matrix[0][0]*matrix[1][1]-matrix[0][1]*matrix[1][0]\n",
    "    else:\n",
    "        return sum((-1)**i*matrix[0][i]*determinant(delete_element(matrix, 0, i)) for i in range(len(matrix)))\n",
    "\n",
    "\n",
    "a = [\n",
    "    [1, 2, 3],\n",
    "    [4, 5, 6],\n",
    "    [7, 8, 9]\n",
    "]\n",
    "b = [\n",
    "    [4, 5, 6],\n",
    "    [1, 1, 1],\n",
    "    [2, 3, 2]\n",
    "]\n",
    "unit_matrix = [\n",
    "    [1, 0, 0],\n",
    "    [0, 1, 0],\n",
    "    [0, 0, 1]\n",
    "]\n",
    "print(scalar_matrix(a, 2))\n",
    "print(sum_matrix(a, b))\n",
    "print(subtract_matrix(a, b))\n",
    "print(dot_matrix(a, b))\n",
    "print(matrix_exp(a, 2))\n",
    "print(delete_element(a, 1, 1))\n",
    "print(determinant(b))"
   ]
  },
  {
   "cell_type": "code",
   "execution_count": null,
   "metadata": {},
   "outputs": [],
   "source": []
  }
 ],
 "metadata": {
  "kernelspec": {
   "display_name": "base",
   "language": "python",
   "name": "python3"
  },
  "language_info": {
   "codemirror_mode": {
    "name": "ipython",
    "version": 3
   },
   "file_extension": ".py",
   "mimetype": "text/x-python",
   "name": "python",
   "nbconvert_exporter": "python",
   "pygments_lexer": "ipython3",
   "version": "3.10.11"
  },
  "orig_nbformat": 4
 },
 "nbformat": 4,
 "nbformat_minor": 2
}
