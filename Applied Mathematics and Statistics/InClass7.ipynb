{
 "cells": [
  {
   "cell_type": "code",
   "execution_count": 1,
   "id": "1f51d758",
   "metadata": {},
   "outputs": [],
   "source": [
    "import numpy as np\n",
    "import random\n",
    "#vector random co tong 100\"\n",
    "def random_vector(n):\n",
    "    vector = [random.random() for _ in range(n)]\n",
    "    res = [v/sum(vector) for v in vector]\n",
    "    return res                        \n",
    "def transpose(matrix):\n",
    "    new= []\n",
    "    for i in range(len(matrix[0])):\n",
    "        temp=[]\n",
    "        for j in range(len(matrix)):\n",
    "            temp.append(matrix[j][i])\n",
    "        new.append(temp)\n",
    "    return new\n",
    "def random_matrix(n):\n",
    "    result=[]\n",
    "    for i in range(n):\n",
    "        result.append(random_vector(n))\n",
    "    return transpose(result)\n"
   ]
  },
  {
   "cell_type": "code",
   "execution_count": 2,
   "id": "e939d0d4",
   "metadata": {},
   "outputs": [
    {
     "name": "stdout",
     "output_type": "stream",
     "text": [
      "[0.538406513483058, 0.46159348651694204]\n"
     ]
    }
   ],
   "source": [
    "print(random_vector(2))"
   ]
  },
  {
   "cell_type": "code",
   "execution_count": 3,
   "id": "deca652b",
   "metadata": {},
   "outputs": [
    {
     "name": "stdout",
     "output_type": "stream",
     "text": [
      "[[0.8255987078845369, 0.5873437801885125], [0.1744012921154631, 0.41265621981148753]]\n"
     ]
    }
   ],
   "source": [
    "print(random_matrix(2))"
   ]
  },
  {
   "cell_type": "code",
   "execution_count": null,
   "id": "2dfa3650",
   "metadata": {},
   "outputs": [],
   "source": []
  }
 ],
 "metadata": {
  "kernelspec": {
   "display_name": "Python 3 (ipykernel)",
   "language": "python",
   "name": "python3"
  },
  "language_info": {
   "codemirror_mode": {
    "name": "ipython",
    "version": 3
   },
   "file_extension": ".py",
   "mimetype": "text/x-python",
   "name": "python",
   "nbconvert_exporter": "python",
   "pygments_lexer": "ipython3",
   "version": "3.10.11"
  }
 },
 "nbformat": 4,
 "nbformat_minor": 5
}
