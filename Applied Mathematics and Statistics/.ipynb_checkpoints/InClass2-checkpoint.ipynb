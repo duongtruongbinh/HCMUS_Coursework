{
 "cells": [
  {
   "cell_type": "code",
   "execution_count": 76,
   "id": "066960c0",
   "metadata": {},
   "outputs": [],
   "source": [
    "def multiply_vector(vector,n):\n",
    "    vector = [i*n for i in vector]\n",
    "    return vector\n",
    "def add_vector(a,b):\n",
    "    return [i+j for (i,j) in zip(a,b)]\n",
    "def substract_vector(a,b):\n",
    "    return [i-j for (i,j) in zip(a,b)]\n",
    "def isZeroVector(vector):\n",
    "    return all (i==0 for i in vector)\n",
    "def transpose(matrix):\n",
    "    return [[matrix[j][x] for j in range(len(matrix))] for x in range(len(matrix[0]))]\n",
    "def submatrix(a,b):\n",
    "    return [x+[y] if type(y)!= list else x+y for (x,y) in zip(a,b)]\n",
    "def permuteRowOfMatrix(matrix,i,j):\n",
    "    matrix[i],matrix[j]=matrix[j],matrix[i]\n",
    "    return matrix\n",
    "def multiplyRowOfMatrix(matrix,i,n):\n",
    "    matrix[i]=multiply_vector(matrix[i],n)\n",
    "    return matrix\n",
    "def multiplyAndAddRowOfMatrix(matrix,i1,i2,n):\n",
    "    # i1 =i1 +n*i2\n",
    "    matrix[i1]=add_vector(matrix[i1],multiply_vector(matrix[i2],n))"
   ]
  },
  {
   "cell_type": "code",
   "execution_count": 72,
   "id": "a90f4458",
   "metadata": {},
   "outputs": [
    {
     "name": "stdout",
     "output_type": "stream",
     "text": [
      "[[2, 3, 4], [1, 1, 1]]\n"
     ]
    }
   ],
   "source": [
    "matrix=[[1,2,3],[1,1,1]]\n",
    "multiplyAndAddRowOfMatrix(matrix,0,1,1)\n",
    "print(matrix)"
   ]
  },
  {
   "cell_type": "code",
   "execution_count": 69,
   "id": "7a5a7d0d",
   "metadata": {},
   "outputs": [
    {
     "data": {
      "text/plain": [
       "[[1, 2, 3], [2, 2, 2]]"
      ]
     },
     "execution_count": 69,
     "metadata": {},
     "output_type": "execute_result"
    }
   ],
   "source": [
    "multiplyRowOfMatrix(matrix,1,2)"
   ]
  },
  {
   "cell_type": "code",
   "execution_count": 79,
   "id": "d89d95b3",
   "metadata": {},
   "outputs": [
    {
     "name": "stdout",
     "output_type": "stream",
     "text": [
      "True\n"
     ]
    }
   ],
   "source": [
    "print(isZeroVector([0,0,0]))"
   ]
  },
  {
   "cell_type": "code",
   "execution_count": null,
   "id": "f1c091fe",
   "metadata": {},
   "outputs": [],
   "source": []
  }
 ],
 "metadata": {
  "kernelspec": {
   "display_name": "Python 3 (ipykernel)",
   "language": "python",
   "name": "python3"
  },
  "language_info": {
   "codemirror_mode": {
    "name": "ipython",
    "version": 3
   },
   "file_extension": ".py",
   "mimetype": "text/x-python",
   "name": "python",
   "nbconvert_exporter": "python",
   "pygments_lexer": "ipython3",
   "version": "3.10.9"
  }
 },
 "nbformat": 4,
 "nbformat_minor": 5
}
