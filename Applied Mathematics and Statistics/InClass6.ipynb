{
 "cells": [
  {
   "cell_type": "code",
   "execution_count": 108,
   "id": "7c7125ef",
   "metadata": {},
   "outputs": [],
   "source": [
    "def dot_product(x,y):\n",
    "    if len(x)!=len(y):\n",
    "        print('2 Vector is not same length')\n",
    "        return\n",
    "    return sum([i*j for (i,j) in zip(x,y)])\n",
    "def norm(x):\n",
    "    return sum([i*i for i in x])**(1/2)\n",
    "def cosine_similarity(x,y):\n",
    "    return dot_product(x,y)/(norm(x)*norm(y))\n",
    "def mean(x):\n",
    "    return sum(x)/len(x)\n",
    "def substract_scalar(x,c):\n",
    "    return [i-c for i in x]\n",
    "def pearson(x,y):\n",
    "    if len(x)!=len(y):\n",
    "        print('2 Vector is not same length')\n",
    "        return\n",
    "    vector_x=substract_scalar(x,mean(x))\n",
    "    vector_y=substract_scalar(y,mean(y))\n",
    "    return dot_product(vector_x,vector_y)/(norm(vector_x)*norm(vector_y))\n",
    "def create_diag_matrix(diag):\n",
    "    return [[diag[row] if row==col else 0 for col in range(len(diag))]for row in range(len(diag))]\n",
    "def dot_matrix(a,b):\n",
    "    if len(a[0])!=len(b):\n",
    "        return\n",
    "    result=[]\n",
    "    for i in range(len(a)):\n",
    "        temp=[]\n",
    "        for j in range(len(b[0])):\n",
    "            temp.append(dot_product(a[i],[row[j] for row in b]))\n",
    "        result.append(temp)\n",
    "def exp_diag(matrix,exp):\n",
    "    return "
   ]
  },
  {
   "cell_type": "code",
   "execution_count": 102,
   "id": "9aaff620",
   "metadata": {},
   "outputs": [
    {
     "name": "stdout",
     "output_type": "stream",
     "text": [
      "1.0\n"
     ]
    }
   ],
   "source": [
    "x=[1,0]\n",
    "y=[0,1]\n",
    "print(cosine_similarity(x,x))"
   ]
  },
  {
   "cell_type": "code",
   "execution_count": 103,
   "id": "9930d6ed",
   "metadata": {},
   "outputs": [],
   "source": [
    "array1 = np.random.randint(low=100, high=999, size=1000000)\n",
    "array2 = np.random.randint(low=100, high=999, size=1000000)"
   ]
  },
  {
   "cell_type": "code",
   "execution_count": 104,
   "id": "d069d368",
   "metadata": {},
   "outputs": [
    {
     "name": "stdout",
     "output_type": "stream",
     "text": [
      "Numpy -0.0014756032155378684\n",
      "CPU times: total: 0 ns\n",
      "Wall time: 16.4 ms\n"
     ]
    }
   ],
   "source": [
    "%%time\n",
    "import numpy as np\n",
    "\n",
    "corr_coefficient = np.corrcoef(array1, array2)[0, 1]\n",
    "\n",
    "print(\"Numpy\", corr_coefficient)\n"
   ]
  },
  {
   "cell_type": "code",
   "execution_count": 105,
   "id": "4a1d52bd",
   "metadata": {},
   "outputs": [
    {
     "name": "stdout",
     "output_type": "stream",
     "text": [
      "-0.001475603215537859\n",
      "CPU times: total: 1.08 s\n",
      "Wall time: 854 ms\n"
     ]
    }
   ],
   "source": [
    "%%time\n",
    "print(pearson(array1,array2))"
   ]
  },
  {
   "cell_type": "code",
   "execution_count": 106,
   "id": "a2020462",
   "metadata": {},
   "outputs": [
    {
     "name": "stdout",
     "output_type": "stream",
     "text": [
      "Scipy -0.001475603215537865\n",
      "CPU times: total: 62.5 ms\n",
      "Wall time: 23.9 ms\n"
     ]
    }
   ],
   "source": [
    "%%time\n",
    "import scipy.stats as stats\n",
    "\n",
    "\n",
    "corr_coefficient, p_value = stats.pearsonr(array1, array2)\n",
    "\n",
    "print(\"Scipy\", corr_coefficient)\n"
   ]
  },
  {
   "cell_type": "code",
   "execution_count": 107,
   "id": "3474a038",
   "metadata": {},
   "outputs": [
    {
     "name": "stdout",
     "output_type": "stream",
     "text": [
      "[[5, 0, 0, 0], [0, 4, 0, 0], [0, 0, 6, 0], [0, 0, 0, 1]]\n"
     ]
    }
   ],
   "source": [
    "array=[5,4,6,1]\n",
    "print(create_diag_matrix(array))"
   ]
  },
  {
   "cell_type": "code",
   "execution_count": null,
   "id": "7a4946ae",
   "metadata": {},
   "outputs": [],
   "source": []
  }
 ],
 "metadata": {
  "kernelspec": {
   "display_name": "Python 3 (ipykernel)",
   "language": "python",
   "name": "python3"
  },
  "language_info": {
   "codemirror_mode": {
    "name": "ipython",
    "version": 3
   },
   "file_extension": ".py",
   "mimetype": "text/x-python",
   "name": "python",
   "nbconvert_exporter": "python",
   "pygments_lexer": "ipython3",
   "version": "3.10.11"
  }
 },
 "nbformat": 4,
 "nbformat_minor": 5
}
