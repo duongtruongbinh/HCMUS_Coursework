{
 "cells": [
  {
   "cell_type": "code",
   "execution_count": 6,
   "id": "3246730d",
   "metadata": {},
   "outputs": [
    {
     "name": "stdout",
     "output_type": "stream",
     "text": [
      "[[0, 0], [0, 0], [0, 0]]\n",
      "[[1, 1], [1, 1], [1, 1]]\n",
      "[[1, 0, 0], [0, 1, 0], [0, 0, 1]]\n"
     ]
    }
   ],
   "source": [
    "width=2\n",
    "height=3\n",
    "zero_matrix= [[0]*width for _ in range(height)]\n",
    "one_matrix=[[1]*width for _ in range(height)]\n",
    "width = 3\n",
    "unit_matrix=[[1 if i==j else 0 for j in range(width)] for i in range(height)]\n",
    "print(zero_matrix)\n",
    "print(one_matrix)\n",
    "print(unit_matrix)"
   ]
  },
  {
   "cell_type": "code",
   "execution_count": 19,
   "id": "062846db",
   "metadata": {},
   "outputs": [
    {
     "name": "stdout",
     "output_type": "stream",
     "text": [
      "5\n",
      "n la so nguyen to\n"
     ]
    }
   ],
   "source": [
    "n=int(input())\n",
    "if n<=1: print('n khong phai so nguyen to')\n",
    "else:\n",
    "    for i in range(2,int(n**(1/2)+1)):\n",
    "        if n % i == 0:\n",
    "            print('n khong phai so nguyen to')\n",
    "            break\n",
    "    else:\n",
    "        print('n la so nguyen to')"
   ]
  },
  {
   "cell_type": "code",
   "execution_count": 2,
   "id": "90d7fd9f",
   "metadata": {},
   "outputs": [
    {
     "name": "stdout",
     "output_type": "stream",
     "text": [
      "27\n",
      "n khong phai so chinh phuong\n"
     ]
    }
   ],
   "source": [
    "n=int(input())\n",
    "\n",
    "if n== int(n**(1/2)) * int(n**(1/2)):\n",
    "    print('n la so chinh phuong')\n",
    "else:\n",
    "    print('n khong phai so chinh phuong')\n"
   ]
  },
  {
   "cell_type": "code",
   "execution_count": 28,
   "id": "bec371a9",
   "metadata": {},
   "outputs": [
    {
     "name": "stdout",
     "output_type": "stream",
     "text": [
      "10\n",
      "[['1' '1' '1' '1' '1' '1' '1' '1' '1' '1']\n",
      " ['1' 'A' '0' '0' '0' '0' '0' '0' 'B' '1']\n",
      " ['1' '0' 'A' '0' '0' '0' '0' 'B' '0' '1']\n",
      " ['1' '0' '0' 'A' '0' '0' 'B' '0' '0' '1']\n",
      " ['1' '0' '0' '0' 'A' 'B' '0' '0' '0' '1']\n",
      " ['1' '0' '0' '0' 'B' 'A' '0' '0' '0' '1']\n",
      " ['1' '0' '0' 'B' '0' '0' 'A' '0' '0' '1']\n",
      " ['1' '0' 'B' '0' '0' '0' '0' 'A' '0' '1']\n",
      " ['1' 'B' '0' '0' '0' '0' '0' '0' 'A' '1']\n",
      " ['1' '1' '1' '1' '1' '1' '1' '1' '1' '1']]\n"
     ]
    }
   ],
   "source": [
    "import numpy as np\n",
    "n=int(input())\n",
    "matrix=[[0]*n for _ in range(n)]\n",
    "\n",
    "for i in range(n):\n",
    "    for j in range(n):\n",
    "        if i+j==n-1:\n",
    "            matrix[i][j]='B'\n",
    "        if i==j:\n",
    "            matrix[i][j]='A'\n",
    "        if j==0 or j==n-1:\n",
    "            matrix[i][j]=1\n",
    "matrix[0]=[1]*n\n",
    "matrix[n-1]=[1]*n\n",
    "\n",
    "a=np.matrix(matrix)\n",
    "print(a)"
   ]
  },
  {
   "cell_type": "code",
   "execution_count": null,
   "id": "b633a408",
   "metadata": {},
   "outputs": [],
   "source": []
  }
 ],
 "metadata": {
  "kernelspec": {
   "display_name": "Python 3 (ipykernel)",
   "language": "python",
   "name": "python3"
  },
  "language_info": {
   "codemirror_mode": {
    "name": "ipython",
    "version": 3
   },
   "file_extension": ".py",
   "mimetype": "text/x-python",
   "name": "python",
   "nbconvert_exporter": "python",
   "pygments_lexer": "ipython3",
   "version": "3.10.9"
  }
 },
 "nbformat": 4,
 "nbformat_minor": 5
}
