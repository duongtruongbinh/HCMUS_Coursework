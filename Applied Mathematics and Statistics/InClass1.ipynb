{
 "cells": [
  {
   "cell_type": "code",
   "execution_count": 3,
   "id": "d2220d7e",
   "metadata": {},
   "outputs": [
    {
     "name": "stdout",
     "output_type": "stream",
     "text": [
      "Hello World\n"
     ]
    }
   ],
   "source": [
    "print('Hello World')"
   ]
  },
  {
   "cell_type": "markdown",
   "id": "58e3f1e0",
   "metadata": {},
   "source": [
    "print('Hello World')"
   ]
  },
  {
   "cell_type": "code",
   "execution_count": 5,
   "id": "2421e250",
   "metadata": {},
   "outputs": [],
   "source": [
    "def gioi_thieu():\n",
    "    ho_ten = input(\"Nhập họ và tên của bạn: \")\n",
    "    gioi_tinh = input(\"Nhập giới tính của bạn: \")\n",
    "    mssv = input(\"Nhập MSSV của bạn: \")\n",
    "    lop = input(\"Nhập lớp của bạn: \")\n",
    "    \n",
    "    gioi_thieu_str = f\"Xin chào, tôi là {ho_ten}. Tôi là {gioi_tinh}, MSSV {mssv}, thuộc lớp {lop}.\"\n",
    "    return gioi_thieu_str"
   ]
  },
  {
   "cell_type": "code",
   "execution_count": 6,
   "id": "733b95db",
   "metadata": {},
   "outputs": [
    {
     "name": "stdout",
     "output_type": "stream",
     "text": [
      "Nhập họ và tên của bạn: Dương Trường Bình\n",
      "Nhập giới tính của bạn: Nam\n",
      "Nhập MSSV của bạn: 21127229\n",
      "Nhập lớp của bạn: 21CLC06\n",
      "Xin chào, tôi là Dương Trường Bình. Tôi là Nam, MSSV 21127229, thuộc lớp 21CLC06.\n"
     ]
    }
   ],
   "source": [
    "# Gọi hàm để kiểm tra\n",
    "chuoi_gioi_thieu = gioi_thieu()\n",
    "print(chuoi_gioi_thieu)"
   ]
  },
  {
   "cell_type": "code",
   "execution_count": 16,
   "id": "bdaeef7d",
   "metadata": {},
   "outputs": [
    {
     "name": "stdout",
     "output_type": "stream",
     "text": [
      "canh 1: 4\n",
      "canh 2: 5\n",
      "Chiều dài cạnh huyền là: 6.40\n"
     ]
    }
   ],
   "source": [
    "def tinh_chieu_dai_canh_huyen(a, b):\n",
    "    canh_huyen = (a**2 + b**2)**0.5\n",
    "    return canh_huyen\n",
    "\n",
    "# Gọi hàm để kiểm tra\n",
    "a=int(input('canh 1: '))\n",
    "b=int(input('canh 2: '))\n",
    "while a<=0 or b<=0:\n",
    "    a=int(input('canh 1: '))\n",
    "    b=int(input('canh 2: '))\n",
    "canh_huyen = tinh_chieu_dai_canh_huyen(a, b)\n",
    "print(f\"Chiều dài cạnh huyền là: {canh_huyen:.2f}\")"
   ]
  },
  {
   "cell_type": "code",
   "execution_count": 8,
   "id": "de66f66d",
   "metadata": {},
   "outputs": [
    {
     "name": "stdout",
     "output_type": "stream",
     "text": [
      "Nhập điểm trung bình của sinh viên: 5.5\n",
      "Xếp loại của sinh viên là: TB\n"
     ]
    }
   ],
   "source": [
    "def xep_loai_sinh_vien(diem_trung_binh):\n",
    "    if diem_trung_binh >= 9:\n",
    "        xep_loai = \"Xuất sắc\"\n",
    "    elif diem_trung_binh >= 8:\n",
    "        xep_loai = \"Giỏi\"\n",
    "    elif diem_trung_binh >= 7:\n",
    "        xep_loai = \"Khá\"\n",
    "    elif diem_trung_binh >= 6:\n",
    "        xep_loai = \"TB-Khá\"\n",
    "    elif diem_trung_binh >= 5:\n",
    "        xep_loai = \"TB\"\n",
    "    else:\n",
    "        xep_loai = \"Yếu\"\n",
    "    \n",
    "    return xep_loai\n",
    "\n",
    "# Gọi hàm để kiểm tra\n",
    "diem = float(input(\"Nhập điểm trung bình của sinh viên: \"))\n",
    "xep_loai = xep_loai_sinh_vien(diem)\n",
    "print(f\"Xếp loại của sinh viên là: {xep_loai}\")"
   ]
  },
  {
   "cell_type": "code",
   "execution_count": 17,
   "id": "90f272dc",
   "metadata": {},
   "outputs": [
    {
     "name": "stdout",
     "output_type": "stream",
     "text": [
      "['TB', 'Khá', 'Giỏi', 'TB-Khá']\n"
     ]
    }
   ],
   "source": [
    "dtb=[5.3,7.8,8.5,6.2]\n",
    "rank=[]\n",
    "for i in dtb:\n",
    "    rank.append(xep_loai_sinh_vien(i))\n",
    "print(rank)"
   ]
  },
  {
   "cell_type": "code",
   "execution_count": 2,
   "id": "239ad6c6",
   "metadata": {},
   "outputs": [
    {
     "name": "stdout",
     "output_type": "stream",
     "text": [
      "error\n"
     ]
    }
   ],
   "source": [
    "def checkint(n):\n",
    "    try:\n",
    "        int(n)\n",
    "    except:\n",
    "        print('error')\n",
    "    \n",
    "checkint('a')"
   ]
  },
  {
   "cell_type": "code",
   "execution_count": null,
   "id": "911e1284",
   "metadata": {},
   "outputs": [],
   "source": []
  }
 ],
 "metadata": {
  "kernelspec": {
   "display_name": "Python 3 (ipykernel)",
   "language": "python",
   "name": "python3"
  },
  "language_info": {
   "codemirror_mode": {
    "name": "ipython",
    "version": 3
   },
   "file_extension": ".py",
   "mimetype": "text/x-python",
   "name": "python",
   "nbconvert_exporter": "python",
   "pygments_lexer": "ipython3",
   "version": "3.10.9"
  }
 },
 "nbformat": 4,
 "nbformat_minor": 5
}
