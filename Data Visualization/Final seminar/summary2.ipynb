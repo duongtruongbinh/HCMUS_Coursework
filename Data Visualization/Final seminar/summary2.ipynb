{
 "cells": [
  {
   "cell_type": "code",
   "execution_count": 1,
   "metadata": {},
   "outputs": [],
   "source": [
    "import numpy as np\n",
    "import pandas as pd"
   ]
  },
  {
   "cell_type": "code",
   "execution_count": 2,
   "metadata": {},
   "outputs": [],
   "source": [
    "df = pd.read_excel(\"Vietnam_Movies.xlsx\")"
   ]
  },
  {
   "cell_type": "code",
   "execution_count": 3,
   "metadata": {},
   "outputs": [],
   "source": [
    "df['Year_of_Release'] = df['Release Date']\n",
    "df['Year_of_Release'] = pd.to_datetime(df['Year_of_Release'])\n",
    "df['Year_of_Release'] = df['Year_of_Release'].dt.year\n",
    "df['Year_of_Release'] = df['Year_of_Release'].fillna(0)\n",
    "df['Year_of_Release'] = df['Year_of_Release'].astype(int)"
   ]
  },
  {
   "cell_type": "code",
   "execution_count": 4,
   "metadata": {},
   "outputs": [],
   "source": [
    "count_by_year_and_genre = pd.DataFrame(columns=['release_year', 'genre', 'count'])\n",
    "\n",
    "count_by_genre_year = {}\n",
    "\n",
    "for index, row in df.iterrows():\n",
    "    if isinstance(row['Genres'], str):\n",
    "        genres = row['Genres']\n",
    "        year = row['Year_of_Release']\n",
    "        \n",
    "        cleaned = genres.replace(\"[\", \"\").replace(\"]\", \"\").replace(\"'\", \"\").replace('\"', \"\")\n",
    "        genre_list = cleaned.split(\",\")\n",
    "        genre_list = [genre.strip() for genre in genre_list]\n",
    "        \n",
    "        for genre in genre_list:\n",
    "            if genre not in count_by_genre_year:\n",
    "                    count_by_genre_year[genre] = {}\n",
    "                    \n",
    "            if year not in count_by_genre_year[genre]:\n",
    "                count_by_genre_year[genre][year] = 1\n",
    "            else:\n",
    "                count_by_genre_year[genre][year] += 1\n",
    "\n",
    "count_data = []\n",
    "for genre, year_count in count_by_genre_year.items():\n",
    "    for year, count in year_count.items():\n",
    "        count_data.append([genre, year, count])      \n",
    "\n",
    "count_by_year_and_genre = pd.DataFrame(count_data, columns=['genre', 'release_year', 'count'])"
   ]
  },
  {
   "cell_type": "code",
   "execution_count": 5,
   "metadata": {},
   "outputs": [
    {
     "name": "stderr",
     "output_type": "stream",
     "text": [
      "C:\\Users\\HP\\AppData\\Local\\Temp\\ipykernel_19832\\1431297738.py:1: DeprecationWarning: DataFrameGroupBy.apply operated on the grouping columns. This behavior is deprecated, and in a future version of pandas the grouping columns will be excluded from the operation. Either pass `include_groups=False` to exclude the groupings or explicitly select the grouping columns after groupby to silence this warning.\n",
      "  count_by_year_and_genre_sorted = count_by_year_and_genre.groupby('genre', as_index=False).apply(lambda x: x.sort_values('release_year'))\n"
     ]
    }
   ],
   "source": [
    "count_by_year_and_genre_sorted = count_by_year_and_genre.groupby('genre', as_index=False).apply(lambda x: x.sort_values('release_year'))\n",
    "\n",
    "count_data = []\n",
    "\n",
    "for genre, group in count_by_year_and_genre_sorted.groupby('genre'):\n",
    "    if genre != '':\n",
    "        pre_count = 0\n",
    "        pre_year = 1989\n",
    "\n",
    "        for index, row in group.iterrows():\n",
    "            year = row['release_year']\n",
    "            count = row['count']\n",
    "\n",
    "            for y in range(pre_year + 1, year):\n",
    "                if (y >= 1990) and (y <= 2024):\n",
    "                    count_data.append([genre, y, pre_count])\n",
    "            \n",
    "            count_data.append([genre, year, count + pre_count])\n",
    "            pre_count = count + pre_count\n",
    "            pre_year = year\n",
    "            \n",
    "        for y in range(pre_year + 1, 2025):\n",
    "            if (y >= 1990) and (y <= 2024):\n",
    "                count_data.append([genre, y, pre_count])\n",
    "        \n",
    "count_by_year_and_genre = pd.DataFrame(count_data, columns=['genre', 'year', 'count'])"
   ]
  },
  {
   "cell_type": "code",
   "execution_count": 6,
   "metadata": {},
   "outputs": [],
   "source": [
    "count_by_year_and_genre.to_excel('summary2.xlsx', index=False)"
   ]
  }
 ],
 "metadata": {
  "kernelspec": {
   "display_name": "min_ds-env",
   "language": "python",
   "name": "python3"
  },
  "language_info": {
   "codemirror_mode": {
    "name": "ipython",
    "version": 3
   },
   "file_extension": ".py",
   "mimetype": "text/x-python",
   "name": "python",
   "nbconvert_exporter": "python",
   "pygments_lexer": "ipython3",
   "version": "3.9.18"
  }
 },
 "nbformat": 4,
 "nbformat_minor": 2
}
