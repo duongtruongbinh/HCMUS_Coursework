{
 "cells": [
  {
   "cell_type": "code",
   "execution_count": 1,
   "metadata": {},
   "outputs": [],
   "source": [
    "import numpy as np\n",
    "import pandas as pd"
   ]
  },
  {
   "cell_type": "code",
   "execution_count": 2,
   "metadata": {},
   "outputs": [],
   "source": [
    "df = pd.read_excel(\"Vietnam_Movies.xlsx\")"
   ]
  },
  {
   "cell_type": "code",
   "execution_count": 3,
   "metadata": {},
   "outputs": [],
   "source": [
    "actors_info = {}\n",
    "\n",
    "for index, row in df.iterrows():\n",
    "    if isinstance(row['Stars'], str):\n",
    "        cleaned = row['Stars'].replace(\"[\", \"\").replace(\"]\", \"\").replace(\"'\", \"\")\n",
    "        actor_list = cleaned.split(\",\")\n",
    "        actor_list = [actor.strip() for actor in actor_list]\n",
    "        \n",
    "        for actor in actor_list:\n",
    "            if actor in actors_info:\n",
    "                actors_info[actor][0] += 1\n",
    "                actors_info[actor][1].append(row['Original Title'])\n",
    "            else:\n",
    "                actors_info[actor] = [1, [row['Original Title']]]\n",
    "\n",
    "sorted_actors = sorted(actors_info.items(), key=lambda x: x[1][0], reverse=True)\n",
    "\n",
    "actor_data = []\n",
    "for actor, info in sorted_actors:\n",
    "    for movie in info[1]:\n",
    "        if actor != \"\":\n",
    "            actor_data.append([actor, movie])\n",
    "\n",
    "actors_df = pd.DataFrame(actor_data, columns=['Stars', 'Star - Movies'])\n",
    "\n",
    "# actors_df.to_excel('actors_summary.xlsx', index=False)"
   ]
  },
  {
   "cell_type": "code",
   "execution_count": 4,
   "metadata": {},
   "outputs": [],
   "source": [
    "directors_info = {}\n",
    "\n",
    "for index, row in df.iterrows():\n",
    "    if isinstance(row['Director'], str):\n",
    "        director = row['Director']\n",
    "        \n",
    "        if director in directors_info:\n",
    "            directors_info[director][0] += 1\n",
    "            directors_info[director][1].append(row['Original Title'])\n",
    "        else:\n",
    "            directors_info[director] = [1, [row['Original Title']]]\n",
    "\n",
    "sorted_directors = sorted(directors_info.items(), key=lambda x: x[1][0], reverse=True)\n",
    "\n",
    "director_data = []\n",
    "for director, info in sorted_directors:\n",
    "    for movie in info[1]:\n",
    "        if director != \"\":\n",
    "            director_data.append([director, movie])\n",
    "\n",
    "directors_df = pd.DataFrame(director_data, columns=['Directors', 'Director - Movies'])\n",
    "\n",
    "# directors_df.to_excel('directors_summary.xlsx', index=False)"
   ]
  },
  {
   "cell_type": "code",
   "execution_count": 5,
   "metadata": {},
   "outputs": [],
   "source": [
    "from collections import defaultdict\n",
    "\n",
    "genres_info = defaultdict(lambda: defaultdict(int))\n",
    "\n",
    "for index, row in df.iterrows():\n",
    "    genres_str = row['Genres']\n",
    "    countries_str = row['Production Countries']\n",
    "    \n",
    "    if isinstance(genres_str, str) and isinstance(countries_str, str):\n",
    "        genres = [genre.strip() for genre in genres_str.replace(\"[\", \"\").replace(\"]\", \"\").replace(\"'\", \"\").split(\",\")]\n",
    "        countries = [country.strip() for country in countries_str.replace(\"[\", \"\").replace(\"]\", \"\").replace(\"'\", \"\").replace('\"', \"\").split(\",\")]\n",
    "        \n",
    "        for genre in genres:\n",
    "            for country in countries:\n",
    "                genres_info[genre][country] += 1\n",
    "\n",
    "genre_data = []\n",
    "for genre, genre_info in genres_info.items():\n",
    "    for country, count in genre_info.items():\n",
    "        if genre != \"\" or country != \"\":\n",
    "            genre_data.append([genre, country, count])\n",
    "\n",
    "genres_df = pd.DataFrame(genre_data, columns=['Genres', 'Genre - Country', 'Genre - Count'])\n",
    "# genres_df.to_excel('genres_by_country_summary.xlsx', index=False)"
   ]
  },
  {
   "cell_type": "code",
   "execution_count": 6,
   "metadata": {},
   "outputs": [],
   "source": [
    "company_info = {}\n",
    "\n",
    "for index, row in df.iterrows():\n",
    "    if isinstance(row['Production Companies'], str):\n",
    "        cleaned = row['Production Companies'].replace(\"[\", \"\").replace(\"]\", \"\").replace(\"'\", \"\")\n",
    "        company_list = cleaned.split(\",\")\n",
    "        company_list = [company.strip() for company in company_list]\n",
    "        \n",
    "        for company in company_list:\n",
    "            if company in company_info:\n",
    "                company_info[company][0] += 1\n",
    "                company_info[company][1].append(row['Original Title'])\n",
    "            else:\n",
    "                company_info[company] = [1, [row['Original Title']]]\n",
    "\n",
    "sorted_company = sorted(company_info.items(), key=lambda x: x[1][0], reverse=True)\n",
    "\n",
    "company_data = []\n",
    "for company, info in sorted_company:\n",
    "    for movie in info[1]:\n",
    "        if company != \"\":\n",
    "            company_data.append([company, movie])\n",
    "\n",
    "company_df = pd.DataFrame(company_data, columns=['Production Companies', 'Production Company - Movies'])\n",
    "\n",
    "# company_df.to_excel('companies_summary.xlsx', index=False)"
   ]
  },
  {
   "cell_type": "code",
   "execution_count": 7,
   "metadata": {},
   "outputs": [],
   "source": [
    "country_info = {}\n",
    "\n",
    "for index, row in df.iterrows():\n",
    "    if isinstance(row['Production Countries'], str):\n",
    "        cleaned = row['Production Countries'].replace(\"[\", \"\").replace(\"]\", \"\").replace(\"'\", \"\").replace('\"', \"\")\n",
    "        country_list = cleaned.split(\",\")\n",
    "        country_list = [country.strip() for country in country_list]\n",
    "        \n",
    "        for country in country_list:\n",
    "            if country in country_info:\n",
    "                country_info[country] += 1\n",
    "            else:\n",
    "                country_info[country] = 1\n",
    "            \n",
    "sorted_country = sorted(country_info.items(), key=lambda x: x[1], reverse=True)\n",
    "\n",
    "country_data = []\n",
    "for country, info in sorted_country:\n",
    "    if country != \"\":\n",
    "        country_data.append([country, info])\n",
    "\n",
    "country_df = pd.DataFrame(country_data, columns=['Production Countries', 'Production Country - Count'])\n",
    "# country_df.to_excel('countries_summary.xlsx', index=False)"
   ]
  },
  {
   "cell_type": "code",
   "execution_count": 8,
   "metadata": {},
   "outputs": [],
   "source": [
    "spoken_lang_info = {}\n",
    "\n",
    "for index, row in df.iterrows():\n",
    "    if isinstance(row['Spoken Languages'], str):\n",
    "        cleaned = row['Spoken Languages'].replace(\"[\", \"\").replace(\"]\", \"\").replace(\"'\", \"\").replace('\"', \"\")\n",
    "        spoken_lang_list = cleaned.split(\",\")\n",
    "        spoken_lang_list = [spoken_lang.strip() for spoken_lang in spoken_lang_list]\n",
    "        \n",
    "        for spoken_lang in spoken_lang_list:\n",
    "            if spoken_lang in spoken_lang_info:\n",
    "                spoken_lang_info[spoken_lang] += 1\n",
    "            else:\n",
    "                spoken_lang_info[spoken_lang] = 1\n",
    "\n",
    "sorted_spoken_lang = sorted(spoken_lang_info.items(), key=lambda x: x[1], reverse=True)\n",
    "\n",
    "spoken_lang_data = []\n",
    "for spoken_lang, info in sorted_spoken_lang:\n",
    "    if spoken_lang != \"\":\n",
    "        spoken_lang_data.append([spoken_lang, info])\n",
    "\n",
    "spoken_lang_df = pd.DataFrame(spoken_lang_data, columns=['Spoken Languages', 'Spoken Language - Count'])\n",
    "\n",
    "# spoken_lang_df.to_excel('spoken_languages_summary.xlsx', index=False)"
   ]
  },
  {
   "cell_type": "code",
   "execution_count": 10,
   "metadata": {},
   "outputs": [],
   "source": [
    "# concatenate all dataframes into one\n",
    "summary_df = pd.concat([actors_df, directors_df, genres_df, company_df, country_df, spoken_lang_df], axis=1)\n",
    "summary_df.to_excel('summary.xlsx', index=False)"
   ]
  }
 ],
 "metadata": {
  "kernelspec": {
   "display_name": "min_ds-env",
   "language": "python",
   "name": "python3"
  },
  "language_info": {
   "codemirror_mode": {
    "name": "ipython",
    "version": 3
   },
   "file_extension": ".py",
   "mimetype": "text/x-python",
   "name": "python",
   "nbconvert_exporter": "python",
   "pygments_lexer": "ipython3",
   "version": "3.9.18"
  }
 },
 "nbformat": 4,
 "nbformat_minor": 2
}
