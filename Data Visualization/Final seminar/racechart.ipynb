{
 "cells": [
  {
   "cell_type": "code",
   "execution_count": 1,
   "metadata": {},
   "outputs": [],
   "source": [
    "import numpy as np\n",
    "import pandas as pd"
   ]
  },
  {
   "cell_type": "code",
   "execution_count": 2,
   "metadata": {},
   "outputs": [],
   "source": [
    "df = pd.read_excel(\"Vietnam_Movies.xlsx\")"
   ]
  },
  {
   "cell_type": "code",
   "execution_count": 3,
   "metadata": {},
   "outputs": [],
   "source": [
    "df['Year_of_Release'] = df['Release Date']\n",
    "df['Year_of_Release'] = pd.to_datetime(df['Year_of_Release'])\n",
    "df['Year_of_Release'] = df['Year_of_Release'].dt.year\n",
    "df['Year_of_Release'] = df['Year_of_Release'].fillna(0)\n",
    "df['Year_of_Release'] = df['Year_of_Release'].astype(int)"
   ]
  },
  {
   "cell_type": "code",
   "execution_count": 4,
   "metadata": {},
   "outputs": [],
   "source": [
    "revenue_by_year_and_company = pd.DataFrame(columns=['release_year', 'company', 'revenue'])\n",
    "\n",
    "revenue_by_company_year = {}\n",
    "\n",
    "for index, row in df.iterrows():\n",
    "    if isinstance(row['Production Companies'], str):\n",
    "        companies = row['Production Companies']\n",
    "        year = row['Year_of_Release']\n",
    "        revenue = row['Revenue']\n",
    "        \n",
    "        cleaned = companies.replace(\"[\", \"\").replace(\"]\", \"\").replace(\"'\", \"\").replace('\"', \"\")\n",
    "        company_list = cleaned.split(\",\")\n",
    "        company_list = [company.strip() for company in company_list]\n",
    "        \n",
    "        for company in company_list:\n",
    "            if company not in revenue_by_company_year:\n",
    "                    revenue_by_company_year[company] = {}\n",
    "                    \n",
    "            if year not in revenue_by_company_year[company]:\n",
    "                revenue_by_company_year[company][year] = revenue\n",
    "\n",
    "revenue_data = []\n",
    "for company, year_revenue in revenue_by_company_year.items():\n",
    "    for year, revenue in year_revenue.items():\n",
    "        revenue_data.append([company, year, revenue])      \n",
    "\n",
    "revenue_by_year_and_company = pd.DataFrame(revenue_data, columns=['company', 'release_year', 'revenue'])\n"
   ]
  },
  {
   "cell_type": "code",
   "execution_count": 5,
   "metadata": {},
   "outputs": [
    {
     "name": "stderr",
     "output_type": "stream",
     "text": [
      "C:\\Users\\HP\\AppData\\Local\\Temp\\ipykernel_11636\\811819437.py:1: DeprecationWarning: DataFrameGroupBy.apply operated on the grouping columns. This behavior is deprecated, and in a future version of pandas the grouping columns will be excluded from the operation. Either pass `include_groups=False` to exclude the groupings or explicitly select the grouping columns after groupby to silence this warning.\n",
      "  revenue_by_year_and_company_sorted = revenue_by_year_and_company.groupby('company', as_index=False).apply(lambda x: x.sort_values('release_year'))\n"
     ]
    }
   ],
   "source": [
    "revenue_by_year_and_company_sorted = revenue_by_year_and_company.groupby('company', as_index=False).apply(lambda x: x.sort_values('release_year'))\n",
    "\n",
    "revenue_data = [] \n",
    "        \n",
    "for company, group in revenue_by_year_and_company_sorted.groupby('company'):\n",
    "    if company != '':\n",
    "        pre_revenue = 0\n",
    "        pre_year = 1989\n",
    "        \n",
    "        for index, row in group.iterrows():\n",
    "            year = row['release_year']\n",
    "            revenue = row['revenue']\n",
    "            \n",
    "            for y in range(pre_year + 1, year):\n",
    "                if (y >= 1990) and (y <= 2024):\n",
    "                    revenue_data.append([company, y, pre_revenue])\n",
    "            \n",
    "            revenue_data.append([company, year, revenue + pre_revenue])\n",
    "            pre_revenue = revenue + pre_revenue\n",
    "            pre_year = year\n",
    "            \n",
    "        for y in range(pre_year + 1, 2025):\n",
    "            if (y >= 1990) and (y <= 2024):\n",
    "                revenue_data.append([company, y, pre_revenue])\n",
    "        \n",
    "revenue_by_year_and_company = pd.DataFrame(revenue_data, columns=['company', 'year', 'revenue'])"
   ]
  },
  {
   "cell_type": "code",
   "execution_count": 6,
   "metadata": {},
   "outputs": [],
   "source": [
    "revenue_by_year_and_company.to_excel('summary3.xlsx', index=False)"
   ]
  }
 ],
 "metadata": {
  "kernelspec": {
   "display_name": "min_ds-env",
   "language": "python",
   "name": "python3"
  },
  "language_info": {
   "codemirror_mode": {
    "name": "ipython",
    "version": 3
   },
   "file_extension": ".py",
   "mimetype": "text/x-python",
   "name": "python",
   "nbconvert_exporter": "python",
   "pygments_lexer": "ipython3",
   "version": "3.9.18"
  }
 },
 "nbformat": 4,
 "nbformat_minor": 2
}
