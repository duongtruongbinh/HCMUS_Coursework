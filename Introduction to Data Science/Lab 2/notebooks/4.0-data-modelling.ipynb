{
 "cells": [
  {
   "cell_type": "markdown",
   "metadata": {},
   "source": [
    "<div style=\"text-align: center; background-color: #559cff; font-family: 'Trebuchet MS', Arial, sans-serif; color: white; padding: 20px; font-size: 40px; font-weight: bold; border-radius: 0 0 0 0; box-shadow: 0px 6px 8px rgba(0, 0, 0, 0.2);\">\n",
    "  Lab 02 - Introduction To Data Science @ FIT-HCMUS, VNU-HCM 📌\n",
    "</div>"
   ]
  },
  {
   "cell_type": "markdown",
   "metadata": {},
   "source": [
    "<div style=\"text-align: center; background-color: #b1d1ff; font-family: 'Trebuchet MS', Arial, sans-serif; color: white; padding: 20px; font-size: 40px; font-weight: bold; border-radius: 0 0 0 0; box-shadow: 0px 6px 8px rgba(0, 0, 0, 0.2);\">\n",
    "  Stage 4.0 - Data modelling\n",
    "</div>"
   ]
  },
  {
   "cell_type": "markdown",
   "metadata": {},
   "source": [
    "This section for bouns, you might need to use some basic Machine Learning algorithms to answer some questions that in cases of regression, and classification. In this scope of this subject, highly recommend you use `scikit-learn` (instead of implement once again these algorithms)"
   ]
  },
  {
   "cell_type": "markdown",
   "metadata": {},
   "source": [
    "## Import"
   ]
  },
  {
   "cell_type": "code",
   "execution_count": 50,
   "metadata": {},
   "outputs": [],
   "source": [
    "# YOUR CODE HERE (OPTION) \n",
    "# If you need other libraries, you can import them here\n",
    "import os\n",
    "import sys\n",
    "\n",
    "import numpy as np\n",
    "from sklearn.linear_model import LinearRegression\n",
    "from sklearn.model_selection import train_test_split\n",
    "from sklearn.metrics import mean_squared_error, r2_score\n",
    "import pandas as pd\n",
    "import matplotlib.pyplot as plt\n",
    "%matplotlib inline\n",
    "\n",
    "module_path = os.path.abspath(os.path.join('..'))\n",
    "if module_path not in sys.path:\n",
    "    sys.path.append(module_path)"
   ]
  },
  {
   "cell_type": "markdown",
   "metadata": {},
   "source": [
    "## Data preparation"
   ]
  },
  {
   "cell_type": "code",
   "execution_count": 51,
   "metadata": {},
   "outputs": [
    {
     "data": {
      "text/html": [
       "<div>\n",
       "<style scoped>\n",
       "    .dataframe tbody tr th:only-of-type {\n",
       "        vertical-align: middle;\n",
       "    }\n",
       "\n",
       "    .dataframe tbody tr th {\n",
       "        vertical-align: top;\n",
       "    }\n",
       "\n",
       "    .dataframe thead th {\n",
       "        text-align: right;\n",
       "    }\n",
       "</style>\n",
       "<table border=\"1\" class=\"dataframe\">\n",
       "  <thead>\n",
       "    <tr style=\"text-align: right;\">\n",
       "      <th></th>\n",
       "      <th>Total Population</th>\n",
       "      <th>Female Population</th>\n",
       "      <th>Male Population</th>\n",
       "      <th>Birth Rate</th>\n",
       "      <th>Death Rate</th>\n",
       "      <th>Compulsory Education Dur.</th>\n",
       "      <th>Employment in Industry(%)</th>\n",
       "      <th>Employment in Agriculture(%)</th>\n",
       "      <th>Female Employment in Agriculture(%)</th>\n",
       "      <th>Female Employment in Industry(%)</th>\n",
       "      <th>...</th>\n",
       "      <th>Electric Power Consumption(kWH per capita)</th>\n",
       "      <th>Renewable Energy Consumption (%)</th>\n",
       "      <th>Fossil Fuel Consumption (%)</th>\n",
       "      <th>Male life expectancy</th>\n",
       "      <th>Female life expectancy</th>\n",
       "      <th>School enrollment, primary</th>\n",
       "      <th>School enrollment, tertiary</th>\n",
       "      <th>Primary completion rate</th>\n",
       "      <th>Year</th>\n",
       "      <th>Country</th>\n",
       "    </tr>\n",
       "  </thead>\n",
       "  <tbody>\n",
       "    <tr>\n",
       "      <th>0</th>\n",
       "      <td>2775634.0</td>\n",
       "      <td>1391086.0</td>\n",
       "      <td>1384548.0</td>\n",
       "      <td>11.602368</td>\n",
       "      <td>10.088641</td>\n",
       "      <td>9.0</td>\n",
       "      <td>26.94914</td>\n",
       "      <td>9.979687</td>\n",
       "      <td>9.062241</td>\n",
       "      <td>16.093656</td>\n",
       "      <td>...</td>\n",
       "      <td>6828.75924</td>\n",
       "      <td>18.143915</td>\n",
       "      <td>75.121057</td>\n",
       "      <td>73.263539</td>\n",
       "      <td>79.835027</td>\n",
       "      <td>95.606712</td>\n",
       "      <td>62.731991</td>\n",
       "      <td>97.748993</td>\n",
       "      <td>2022</td>\n",
       "      <td>Albania</td>\n",
       "    </tr>\n",
       "    <tr>\n",
       "      <th>1</th>\n",
       "      <td>2811666.0</td>\n",
       "      <td>1407212.0</td>\n",
       "      <td>1404454.0</td>\n",
       "      <td>10.240000</td>\n",
       "      <td>11.325000</td>\n",
       "      <td>9.0</td>\n",
       "      <td>21.56278</td>\n",
       "      <td>34.618040</td>\n",
       "      <td>39.186390</td>\n",
       "      <td>17.459200</td>\n",
       "      <td>...</td>\n",
       "      <td>6828.75924</td>\n",
       "      <td>18.143915</td>\n",
       "      <td>75.121057</td>\n",
       "      <td>74.087000</td>\n",
       "      <td>79.173000</td>\n",
       "      <td>97.604950</td>\n",
       "      <td>60.317581</td>\n",
       "      <td>98.223259</td>\n",
       "      <td>2021</td>\n",
       "      <td>Albania</td>\n",
       "    </tr>\n",
       "    <tr>\n",
       "      <th>2</th>\n",
       "      <td>2837849.0</td>\n",
       "      <td>1418585.0</td>\n",
       "      <td>1419264.0</td>\n",
       "      <td>10.285000</td>\n",
       "      <td>10.785000</td>\n",
       "      <td>9.0</td>\n",
       "      <td>20.78154</td>\n",
       "      <td>35.541970</td>\n",
       "      <td>40.169250</td>\n",
       "      <td>16.812830</td>\n",
       "      <td>...</td>\n",
       "      <td>6828.75924</td>\n",
       "      <td>44.580000</td>\n",
       "      <td>75.121057</td>\n",
       "      <td>74.632000</td>\n",
       "      <td>79.676000</td>\n",
       "      <td>100.613602</td>\n",
       "      <td>61.392578</td>\n",
       "      <td>99.468590</td>\n",
       "      <td>2020</td>\n",
       "      <td>Albania</td>\n",
       "    </tr>\n",
       "    <tr>\n",
       "      <th>3</th>\n",
       "      <td>2854191.0</td>\n",
       "      <td>1425363.0</td>\n",
       "      <td>1428828.0</td>\n",
       "      <td>10.343000</td>\n",
       "      <td>8.480000</td>\n",
       "      <td>9.0</td>\n",
       "      <td>20.15067</td>\n",
       "      <td>36.416850</td>\n",
       "      <td>41.600220</td>\n",
       "      <td>16.203900</td>\n",
       "      <td>...</td>\n",
       "      <td>6828.75924</td>\n",
       "      <td>40.110000</td>\n",
       "      <td>75.121057</td>\n",
       "      <td>77.168000</td>\n",
       "      <td>81.666000</td>\n",
       "      <td>104.310257</td>\n",
       "      <td>62.076092</td>\n",
       "      <td>101.720718</td>\n",
       "      <td>2019</td>\n",
       "      <td>Albania</td>\n",
       "    </tr>\n",
       "    <tr>\n",
       "      <th>4</th>\n",
       "      <td>2866376.0</td>\n",
       "      <td>1430495.0</td>\n",
       "      <td>1435881.0</td>\n",
       "      <td>10.517000</td>\n",
       "      <td>8.308000</td>\n",
       "      <td>9.0</td>\n",
       "      <td>19.74566</td>\n",
       "      <td>37.285730</td>\n",
       "      <td>42.271740</td>\n",
       "      <td>15.573180</td>\n",
       "      <td>...</td>\n",
       "      <td>6828.75924</td>\n",
       "      <td>37.830000</td>\n",
       "      <td>75.121057</td>\n",
       "      <td>77.037000</td>\n",
       "      <td>81.608000</td>\n",
       "      <td>107.403679</td>\n",
       "      <td>56.608871</td>\n",
       "      <td>105.708557</td>\n",
       "      <td>2018</td>\n",
       "      <td>Albania</td>\n",
       "    </tr>\n",
       "  </tbody>\n",
       "</table>\n",
       "<p>5 rows × 25 columns</p>\n",
       "</div>"
      ],
      "text/plain": [
       "   Total Population  Female Population  Male Population  Birth Rate  \\\n",
       "0         2775634.0          1391086.0        1384548.0   11.602368   \n",
       "1         2811666.0          1407212.0        1404454.0   10.240000   \n",
       "2         2837849.0          1418585.0        1419264.0   10.285000   \n",
       "3         2854191.0          1425363.0        1428828.0   10.343000   \n",
       "4         2866376.0          1430495.0        1435881.0   10.517000   \n",
       "\n",
       "   Death Rate  Compulsory Education Dur.  Employment in Industry(%)  \\\n",
       "0   10.088641                        9.0                   26.94914   \n",
       "1   11.325000                        9.0                   21.56278   \n",
       "2   10.785000                        9.0                   20.78154   \n",
       "3    8.480000                        9.0                   20.15067   \n",
       "4    8.308000                        9.0                   19.74566   \n",
       "\n",
       "   Employment in Agriculture(%)  Female Employment in Agriculture(%)  \\\n",
       "0                      9.979687                             9.062241   \n",
       "1                     34.618040                            39.186390   \n",
       "2                     35.541970                            40.169250   \n",
       "3                     36.416850                            41.600220   \n",
       "4                     37.285730                            42.271740   \n",
       "\n",
       "   Female Employment in Industry(%)  ...  \\\n",
       "0                         16.093656  ...   \n",
       "1                         17.459200  ...   \n",
       "2                         16.812830  ...   \n",
       "3                         16.203900  ...   \n",
       "4                         15.573180  ...   \n",
       "\n",
       "   Electric Power Consumption(kWH per capita)  \\\n",
       "0                                  6828.75924   \n",
       "1                                  6828.75924   \n",
       "2                                  6828.75924   \n",
       "3                                  6828.75924   \n",
       "4                                  6828.75924   \n",
       "\n",
       "   Renewable Energy Consumption (%)  Fossil Fuel Consumption (%)  \\\n",
       "0                         18.143915                    75.121057   \n",
       "1                         18.143915                    75.121057   \n",
       "2                         44.580000                    75.121057   \n",
       "3                         40.110000                    75.121057   \n",
       "4                         37.830000                    75.121057   \n",
       "\n",
       "   Male life expectancy  Female life expectancy  School enrollment, primary  \\\n",
       "0             73.263539               79.835027                   95.606712   \n",
       "1             74.087000               79.173000                   97.604950   \n",
       "2             74.632000               79.676000                  100.613602   \n",
       "3             77.168000               81.666000                  104.310257   \n",
       "4             77.037000               81.608000                  107.403679   \n",
       "\n",
       "   School enrollment, tertiary  Primary completion rate  Year  Country  \n",
       "0                    62.731991                97.748993  2022  Albania  \n",
       "1                    60.317581                98.223259  2021  Albania  \n",
       "2                    61.392578                99.468590  2020  Albania  \n",
       "3                    62.076092               101.720718  2019  Albania  \n",
       "4                    56.608871               105.708557  2018  Albania  \n",
       "\n",
       "[5 rows x 25 columns]"
      ]
     },
     "execution_count": 51,
     "metadata": {},
     "output_type": "execute_result"
    }
   ],
   "source": [
    "# YOUR CODE HERE (OPTION) \n",
    "cleaned_df = pd.read_csv(\"../data/processed/21127229_europe_processed.csv\")\n",
    "cleaned_df.head()"
   ]
  },
  {
   "cell_type": "markdown",
   "metadata": {},
   "source": [
    "We will make a prediction of Germany's 'GDP in USD' using the feature 'Total Population' because this is the country with the highest GDP in Europe."
   ]
  },
  {
   "cell_type": "code",
   "execution_count": 52,
   "metadata": {},
   "outputs": [
    {
     "data": {
      "image/png": "[encoded data removed]",
      "text/plain": [
       "<Figure size 1000x500 with 1 Axes>"
      ]
     },
     "metadata": {},
     "output_type": "display_data"
    }
   ],
   "source": [
    "# Plot GDP of Germany with feature total population\n",
    "# YOUR CODE HERE (OPTION)\n",
    "germany_df = cleaned_df[cleaned_df['Country'] == 'Germany']\n",
    "plt.figure(figsize=(10, 5))\n",
    "plt.scatter(germany_df['Total Population'], germany_df['GDP in USD'])\n",
    "plt.xlabel('Total Population')\n",
    "plt.ylabel('GDP in USD')\n",
    "plt.show()"
   ]
  },
  {
   "cell_type": "markdown",
   "metadata": {},
   "source": [
    "## Feature engineering"
   ]
  },
  {
   "cell_type": "code",
   "execution_count": 53,
   "metadata": {},
   "outputs": [],
   "source": [
    "# YOUR CODE HERE (OPTION) \n",
    "X = germany_df['Total Population'].values.reshape(-1, 1)\n",
    "y = germany_df['GDP in USD'].values.reshape(-1, 1)\n"
   ]
  },
  {
   "cell_type": "markdown",
   "metadata": {},
   "source": [
    "## Training model"
   ]
  },
  {
   "cell_type": "code",
   "execution_count": 54,
   "metadata": {},
   "outputs": [
    {
     "data": {
      "text/html": [
       "<style>#sk-container-id-5 {color: black;}#sk-container-id-5 pre{padding: 0;}#sk-container-id-5 div.sk-toggleable {background-color: white;}#sk-container-id-5 label.sk-toggleable__label {cursor: pointer;display: block;width: 100%;margin-bottom: 0;padding: 0.3em;box-sizing: border-box;text-align: center;}#sk-container-id-5 label.sk-toggleable__label-arrow:before {content: \"▸\";float: left;margin-right: 0.25em;color: #696969;}#sk-container-id-5 label.sk-toggleable__label-arrow:hover:before {color: black;}#sk-container-id-5 div.sk-estimator:hover label.sk-toggleable__label-arrow:before {color: black;}#sk-container-id-5 div.sk-toggleable__content {max-height: 0;max-width: 0;overflow: hidden;text-align: left;background-color: #f0f8ff;}#sk-container-id-5 div.sk-toggleable__content pre {margin: 0.2em;color: black;border-radius: 0.25em;background-color: #f0f8ff;}#sk-container-id-5 input.sk-toggleable__control:checked~div.sk-toggleable__content {max-height: 200px;max-width: 100%;overflow: auto;}#sk-container-id-5 input.sk-toggleable__control:checked~label.sk-toggleable__label-arrow:before {content: \"▾\";}#sk-container-id-5 div.sk-estimator input.sk-toggleable__control:checked~label.sk-toggleable__label {background-color: #d4ebff;}#sk-container-id-5 div.sk-label input.sk-toggleable__control:checked~label.sk-toggleable__label {background-color: #d4ebff;}#sk-container-id-5 input.sk-hidden--visually {border: 0;clip: rect(1px 1px 1px 1px);clip: rect(1px, 1px, 1px, 1px);height: 1px;margin: -1px;overflow: hidden;padding: 0;position: absolute;width: 1px;}#sk-container-id-5 div.sk-estimator {font-family: monospace;background-color: #f0f8ff;border: 1px dotted black;border-radius: 0.25em;box-sizing: border-box;margin-bottom: 0.5em;}#sk-container-id-5 div.sk-estimator:hover {background-color: #d4ebff;}#sk-container-id-5 div.sk-parallel-item::after {content: \"\";width: 100%;border-bottom: 1px solid gray;flex-grow: 1;}#sk-container-id-5 div.sk-label:hover label.sk-toggleable__label {background-color: #d4ebff;}#sk-container-id-5 div.sk-serial::before {content: \"\";position: absolute;border-left: 1px solid gray;box-sizing: border-box;top: 0;bottom: 0;left: 50%;z-index: 0;}#sk-container-id-5 div.sk-serial {display: flex;flex-direction: column;align-items: center;background-color: white;padding-right: 0.2em;padding-left: 0.2em;position: relative;}#sk-container-id-5 div.sk-item {position: relative;z-index: 1;}#sk-container-id-5 div.sk-parallel {display: flex;align-items: stretch;justify-content: center;background-color: white;position: relative;}#sk-container-id-5 div.sk-item::before, #sk-container-id-5 div.sk-parallel-item::before {content: \"\";position: absolute;border-left: 1px solid gray;box-sizing: border-box;top: 0;bottom: 0;left: 50%;z-index: -1;}#sk-container-id-5 div.sk-parallel-item {display: flex;flex-direction: column;z-index: 1;position: relative;background-color: white;}#sk-container-id-5 div.sk-parallel-item:first-child::after {align-self: flex-end;width: 50%;}#sk-container-id-5 div.sk-parallel-item:last-child::after {align-self: flex-start;width: 50%;}#sk-container-id-5 div.sk-parallel-item:only-child::after {width: 0;}#sk-container-id-5 div.sk-dashed-wrapped {border: 1px dashed gray;margin: 0 0.4em 0.5em 0.4em;box-sizing: border-box;padding-bottom: 0.4em;background-color: white;}#sk-container-id-5 div.sk-label label {font-family: monospace;font-weight: bold;display: inline-block;line-height: 1.2em;}#sk-container-id-5 div.sk-label-container {text-align: center;}#sk-container-id-5 div.sk-container {/* jupyter's `normalize.less` sets `[hidden] { display: none; }` but bootstrap.min.css set `[hidden] { display: none !important; }` so we also need the `!important` here to be able to override the default hidden behavior on the sphinx rendered scikit-learn.org. See: https://github.com/scikit-learn/scikit-learn/issues/21755 */display: inline-block !important;position: relative;}#sk-container-id-5 div.sk-text-repr-fallback {display: none;}</style><div id=\"sk-container-id-5\" class=\"sk-top-container\"><div class=\"sk-text-repr-fallback\"><pre>LinearRegression()</pre><b>In a Jupyter environment, please rerun this cell to show the HTML representation or trust the notebook. <br />On GitHub, the HTML representation is unable to render, please try loading this page with nbviewer.org.</b></div><div class=\"sk-container\" hidden><div class=\"sk-item\"><div class=\"sk-estimator sk-toggleable\"><input class=\"sk-toggleable__control sk-hidden--visually\" id=\"sk-estimator-id-5\" type=\"checkbox\" checked><label for=\"sk-estimator-id-5\" class=\"sk-toggleable__label sk-toggleable__label-arrow\">LinearRegression</label><div class=\"sk-toggleable__content\"><pre>LinearRegression()</pre></div></div></div></div></div>"
      ],
      "text/plain": [
       "LinearRegression()"
      ]
     },
     "execution_count": 54,
     "metadata": {},
     "output_type": "execute_result"
    }
   ],
   "source": [
    "# YOUR CODE HERE (OPTION) \n",
    "X_train, X_test, y_train, y_test = train_test_split(X, y, test_size=0.2, random_state=42)\n",
    "\n",
    "model = LinearRegression()\n",
    "model.fit(X_train, y_train)"
   ]
  },
  {
   "cell_type": "markdown",
   "metadata": {},
   "source": [
    "## Evaluation"
   ]
  },
  {
   "cell_type": "code",
   "execution_count": 55,
   "metadata": {},
   "outputs": [
    {
     "name": "stdout",
     "output_type": "stream",
     "text": [
      "Mean Squared Error: 1.818944537925782e+23\n",
      "R-squared: 0.8028387059498634\n"
     ]
    }
   ],
   "source": [
    "# YOUR CODE HERE (OPTION) \n",
    "y_pred = model.predict(X_test)\n",
    "\n",
    "mse = mean_squared_error(y_test, y_pred)\n",
    "r2 = r2_score(y_test, y_pred)\n",
    "\n",
    "print(f\"Mean Squared Error: {mse}\")\n",
    "print(f\"R-squared: {r2}\")"
   ]
  },
  {
   "cell_type": "markdown",
   "metadata": {},
   "source": [
    "## Prediction"
   ]
  },
  {
   "cell_type": "code",
   "execution_count": 56,
   "metadata": {},
   "outputs": [
    {
     "name": "stdout",
     "output_type": "stream",
     "text": [
      "When the total population of Germany is 84079811.0, the GDP is 3739185765833.0586\n"
     ]
    }
   ],
   "source": [
    "# YOUR CODE HERE (OPTION) \n",
    "# Predict for all data points\n",
    "y_pred = model.predict(X)\n",
    "print(f'When the total population of Germany is {X[0][0]}, the GDP is {y_pred[0][0]}')"
   ]
  },
  {
   "cell_type": "markdown",
   "metadata": {},
   "source": [
    "## Results analysis"
   ]
  },
  {
   "cell_type": "code",
   "execution_count": 57,
   "metadata": {},
   "outputs": [
    {
     "data": {
      "image/png": "[encoded data removed]",
      "text/plain": [
       "<Figure size 640x480 with 1 Axes>"
      ]
     },
     "metadata": {},
     "output_type": "display_data"
    }
   ],
   "source": [
    "# YOUR CODE HERE (OPTION) \n",
    "plt.scatter(X, y)\n",
    "plt.plot(X, y_pred, color='red')\n",
    "plt.xlabel('Total Population')\n",
    "plt.ylabel('GDP in USD')\n",
    "plt.show()"
   ]
  },
  {
   "cell_type": "markdown",
   "metadata": {},
   "source": [
    "## Conclusion"
   ]
  },
  {
   "cell_type": "markdown",
   "metadata": {},
   "source": [
    "**Your conclusion**\n",
    "\n",
    "Overall, the model is able to predict the GDP of Germany with relatively high accuracy. The R-squared value of 0.80 suggests that the model explains about 80% of the variation in GDP, which is considered to be a good fit.\n",
    "\n",
    "The model does have some limitations, however. The Mean Squared Error (MSE) is high, which means that there is a significant amount of error in the predictions. This may be due to the fact that the model is not able to capture all of the factors that influence GDP"
   ]
  }
 ],
 "metadata": {
  "kernelspec": {
   "display_name": "min_ds-env",
   "language": "python",
   "name": "python3"
  },
  "language_info": {
   "codemirror_mode": {
    "name": "ipython",
    "version": 3
   },
   "file_extension": ".py",
   "mimetype": "text/x-python",
   "name": "python",
   "nbconvert_exporter": "python",
   "pygments_lexer": "ipython3",
   "version": "3.9.18"
  }
 },
 "nbformat": 4,
 "nbformat_minor": 2
}
